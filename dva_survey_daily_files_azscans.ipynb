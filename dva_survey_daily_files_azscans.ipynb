{
 "cells": [
  {
   "cell_type": "markdown",
   "id": "38cef3b6",
   "metadata": {},
   "source": [
    "## Read in separate raw data files and create files of individual azimuth scans\n",
    "### A. Ordog, June 2022\n",
    "### NOTE: please do not modify\n",
    "#### July 07, 2022: added in/out directories, removed old code, added plot to check scan trimming\n",
    "#### July 24, 2022: added polarized data products to output npy files for making daily maps\n",
    "#### August 29, 2022: changed input file naming to match with survey phases"
   ]
  },
  {
   "cell_type": "markdown",
   "id": "fffc3dcd",
   "metadata": {},
   "source": [
    "## Import packages and define survey day and file directory"
   ]
  },
  {
   "cell_type": "code",
   "execution_count": null,
   "id": "1aa737b8",
   "metadata": {},
   "outputs": [],
   "source": [
    "import dva_sdhdf_combine_v3\n",
    "import imp\n",
    "import os\n",
    "import subprocess\n",
    "import h5py\n",
    "import numpy as np\n",
    "from astropy.time import Time\n",
    "import matplotlib.pyplot as plt\n",
    "from scipy.interpolate import griddata\n",
    "import datetime\n",
    "import matplotlib.dates as mdates\n",
    "from matplotlib.dates import HourLocator as HourLocator\n",
    "from matplotlib.dates import MinuteLocator as MinuteLocator\n",
    "from mpl_toolkits.axes_grid1 import make_axes_locatable\n",
    "from astropy import units as u\n",
    "from astropy.time import TimeDelta\n",
    "from astropy.modeling import models, fitting\n",
    "\n",
    "day ='39'\n",
    "surveyphase = '3'\n",
    "\n",
    "#### Change the directory to where the files are located\" ####\n",
    "dir_in = '/home2/DATA_AO/DVA_DATA/dva_phase3/survey_phase3_day'+day+'/'\n",
    "#dir_out = '/media/ordoga/DVA_data/survey_phase1_day'+day+'/'\n",
    "dir_out = '/home2/DATA_AO/DVA_DATA/dva_phase3/survey_phase3_day'+day+'/'\n",
    "#dir_out = '/media/ordoga/DVA_data/survey_phase1_day'+day+'/first_attempt/'\n",
    "##############################################################"
   ]
  },
  {
   "cell_type": "markdown",
   "id": "fb7a8343",
   "metadata": {},
   "source": [
    "## Read in the file listing azimuth scan start and stop times:"
   ]
  },
  {
   "cell_type": "code",
   "execution_count": null,
   "id": "260ad1ef",
   "metadata": {},
   "outputs": [],
   "source": [
    "scan_id = []    # The scan id number\n",
    "scan_start = []  # Start time of the scan (UTC)\n",
    "scan_stop = []   # Stop time of the scan (UTC)\n",
    "\n",
    "# Read in the data and store it in arrays:\n",
    "with open(dir_out+'DVAsurvey_phase3_day0'+day+'.txt') as fp:\n",
    "    for line in fp:       \n",
    "        scan_id.append(int(line.split()[0]))\n",
    "        scan_start.append(line.split()[1]+'T'+line.split()[2][0:12])\n",
    "        scan_stop.append(line.split()[3]+'T'+line.split()[4][0:12])\n",
    "        \n",
    "# Print out the scan numbers with their start and stop times:\n",
    "for i in range(0,len(scan_id)):\n",
    "    print(f\"{scan_id[i]:04}\",scan_start[i],scan_stop[i])\n",
    "\n",
    "# Convert start and stop times to Modified Julian Day (MJD).\n",
    "# This is needed for plotting and for selecting out data collected\n",
    "# between particular times:\n",
    "scan_start_mjd = Time(scan_start, format='isot',scale='utc').mjd\n",
    "scan_stop_mjd  = Time(scan_stop,  format='isot',scale='utc').mjd\n"
   ]
  },
  {
   "cell_type": "markdown",
   "id": "398fa053",
   "metadata": {},
   "source": [
    "## Make files for each azimuth scan:¶\n",
    "### ***Note: skip this if files already made\n",
    "##### grey = all data  \n",
    "##### orange = RA changing too much \n",
    "##### green = outside of scan time\n",
    "##### black = good"
   ]
  },
  {
   "cell_type": "code",
   "execution_count": null,
   "id": "df618040",
   "metadata": {
    "scrolled": true
   },
   "outputs": [],
   "source": [
    "%%time\n",
    "\n",
    "imp.reload(dva_sdhdf_combine_v3)\n",
    "\n",
    "for i in range(0,len(scan_id)):\n",
    "#for i in range(20,len(scan_id)):\n",
    "#for i in range(0,5):\n",
    "    print('===============================')\n",
    "    print('Making scan ',i+1,' out of ',len(scan_id),' (scan id =',scan_id[i],') for times:')\n",
    "    print(scan_start[i],scan_stop[i])\n",
    "    print('===============================')\n",
    "    print('')\n",
    "    outname = 'dva_survey_phase3_raw_'+f\"{int(scan_id[i]):04}\"\n",
    "    dva_sdhdf_combine_v3.combine(dir_in,dir_out,scan_start[i],scan_stop[i],outname,freq_s=2,\n",
    "                                 az_scan_trim=True,freq_avg=True)\n",
    "    print('')"
   ]
  },
  {
   "cell_type": "markdown",
   "id": "bdc507b4",
   "metadata": {},
   "source": [
    "## Read in scan files and stitch them together:"
   ]
  },
  {
   "cell_type": "code",
   "execution_count": null,
   "id": "0cfed1c0",
   "metadata": {},
   "outputs": [],
   "source": [
    "%%time\n",
    "\n",
    "t_set = []\n",
    "az_set = []\n",
    "dec_set = []\n",
    "ra_set = []\n",
    "el_set = []\n",
    "noise_set = []\n",
    "trim_flag = []\n",
    "\n",
    "scan0 = f\"{scan_id[0]:04}\"\n",
    "\n",
    "# Use one of the scans to get the list of frequencies:\n",
    "file = h5py.File(dir_out+'dva_survey_phase3_raw_'+scan0+'.h5','r')\n",
    "freq = file['data']['beam_0']['band_SB0']['frequency'][::12]/1e6\n",
    "\n",
    "# Create empty arrays for the power data:\n",
    "RR_set = np.empty([0,len(freq)])\n",
    "LL_set = np.empty([0,len(freq)])\n",
    "reRL_set = np.empty([0,len(freq)])\n",
    "imRL_set = np.empty([0,len(freq)])\n",
    "\n",
    "# Loop through all the scans in the \"scan_num\" list:\n",
    "for i in scan_id:\n",
    "    print(i)\n",
    "    # select the file:\n",
    "    file = h5py.File(dir_out+'dva_survey_phase3_raw_'+f\"{i:04}\"+'.h5','r')\n",
    "    print(file)\n",
    "    \n",
    "    # access the correct location in the file structure:\n",
    "    dataset = file['data']['beam_0']['band_SB0']['scan_0']\n",
    "    \n",
    "    # Add the position and time data to the corresponding arrays:\n",
    "    dec_set = np.concatenate([dec_set,dataset['metadata']['declination']])\n",
    "    ra_set = np.concatenate([ra_set,dataset['metadata']['right_ascension']])\n",
    "    el_set = np.concatenate([el_set,dataset['metadata']['elevation']])\n",
    "    az_set = np.concatenate([az_set,dataset['metadata']['azimuth']])\n",
    "    t_set = np.concatenate([t_set,dataset['metadata']['utc']])\n",
    "    noise_set = np.concatenate([noise_set,dataset['metadata']['noise_state']])\n",
    "    trim_flag = np.concatenate([trim_flag,dataset['metadata']['trim_scan_flag']])\n",
    "    \n",
    "    # Add the spectrometer power data to the corresponding arrays:\n",
    "    RR_set = np.concatenate([RR_set,dataset['data'][:,0,::12]],axis=0)\n",
    "    LL_set = np.concatenate([LL_set,dataset['data'][:,1,::12]],axis=0)\n",
    "    reRL_set = np.concatenate([reRL_set,dataset['data'][:,2,::12]],axis=0)\n",
    "    imRL_set = np.concatenate([imRL_set,dataset['data'][:,3,::12]],axis=0)\n",
    "    \n",
    "t_set_plt = Time(t_set, format='isot',scale='utc').mjd"
   ]
  },
  {
   "cell_type": "markdown",
   "id": "261db917",
   "metadata": {},
   "source": [
    "## Quick check of scan trimming:"
   ]
  },
  {
   "cell_type": "code",
   "execution_count": null,
   "id": "4d6e9d36",
   "metadata": {},
   "outputs": [],
   "source": [
    "fig1, axs = plt.subplots(1,1,figsize=(18,6))\n",
    "\n",
    "axs.scatter(t_set_plt,ra_set,s=1,color='C0')\n",
    "axs.scatter(t_set_plt[trim_flag==1],ra_set[trim_flag==1],s=5,color='blue')\n",
    "\n",
    "ax2 = axs.twinx()\n",
    "ax2.scatter(t_set_plt,az_set,s=1,color='C1')\n",
    "ax2.scatter(t_set_plt[trim_flag==1],az_set[trim_flag==1],s=5,color='red')\n",
    "ax2.set_ylabel('Azimuth (deg)',fontsize=12)\n",
    "ax2.plot([t_set_plt[0],t_set_plt[-1]],[0,0],color='black',linewidth=0.5)\n",
    "ax2.plot([t_set_plt[0],t_set_plt[-1]],[360,360],color='black',linewidth=0.5)\n",
    "for i in range(0,len(scan_id)):\n",
    "    ax2.text(scan_start_mjd[i]+1e-3,180,f\"{scan_id[i]:04}\",rotation='vertical',fontsize=14)\n",
    "\n",
    "axs.tick_params(axis=\"x\")\n",
    "axs.tick_params(axis=\"y\")\n",
    "axs.set_xlim(t_set_plt[0],t_set_plt[-1])\n",
    "axs.set_ylim(-5,30)\n",
    "ax2.set_ylim(-10,370)\n",
    "axs.set_xlabel('Time (UTC)',fontsize=14)\n",
    "axs.set_ylabel('RA (hr)',fontsize=14)\n",
    "axs.set_title('Survey phase '+surveyphase+' day '+day,fontsize=14)\n",
    "axs.xaxis.set_major_formatter(mdates.DateFormatter('%H:%M:%S'))\n",
    "axs.fmt_xdata = mdates.DateFormatter('%H:%M:%S')\n",
    "\n",
    "plt.tight_layout()\n",
    "plt.savefig(dir_out+'scans_phase'+surveyphase+'_day'+day+'.pdf')\n",
    "plt.savefig('../DVA2/PLOTS/scans_phase'+surveyphase+'_day'+day+'.pdf')"
   ]
  },
  {
   "cell_type": "markdown",
   "id": "a816f6c0",
   "metadata": {},
   "source": [
    "## Make numpy files for daily data:\n",
    "#### This is just to produce a quick daily 'map' of the sky at two frequencies with scans we have so far.\n",
    "#### Code for making the map is in a separate notebook (daily_map.ipynb)"
   ]
  },
  {
   "cell_type": "code",
   "execution_count": null,
   "id": "349c902b",
   "metadata": {},
   "outputs": [],
   "source": [
    "ra_set_trim = ra_set.copy()\n",
    "dec_set_trim = dec_set.copy()\n",
    "az_set_trim = az_set.copy()\n",
    "el_set_trim = el_set.copy()\n",
    "t_set_trim = t_set.copy()\n",
    "t_set_plt_trim = t_set_plt.copy()\n",
    "noise_set_trim = noise_set.copy()\n",
    "RR_set_trim = RR_set.copy()\n",
    "LL_set_trim = LL_set.copy()\n",
    "reRL_set_trim = reRL_set.copy()\n",
    "imRL_set_trim = imRL_set.copy()\n",
    "\n",
    "idxtrim = np.where(trim_flag == 1)[0]\n",
    "#print(idxtrim)\n",
    "\n",
    "ra_set_trim[idxtrim] = np.nan\n",
    "dec_set_trim[idxtrim] = np.nan \n",
    "az_set_trim[idxtrim] = np.nan \n",
    "el_set_trim[idxtrim] = np.nan \n",
    "t_set_trim[idxtrim] = np.nan \n",
    "t_set_plt_trim[idxtrim] = np.nan \n",
    "noise_set_trim[idxtrim] = np.nan \n",
    "RR_set_trim[idxtrim,:] = np.nan \n",
    "LL_set_trim[idxtrim,:] = np.nan \n",
    "reRL_set_trim[idxtrim,:] = np.nan \n",
    "imRL_set_trim[idxtrim,:] = np.nan\n",
    "\n",
    "df = freq[1]-freq[0]\n",
    "\n",
    "freq_plt = 800. # in MHz\n",
    "wf = np.where(abs(freq-freq_plt)<df)[0][0]\n",
    "np.save('../DVA2/DATA/Daily_maps/survey_phase3_all_800_day'+day+'.npy',([RR_set_trim[:,wf],LL_set_trim[:,wf],\n",
    "                                                                         reRL_set_trim[:,wf],imRL_set_trim[:,wf],\n",
    "                                                                         ra_set_trim,dec_set_trim,az_set_trim,el_set_trim,\n",
    "                                                                         t_set_trim,noise_set_trim,t_set_plt_trim]))\n",
    "freq_plt = 400. # in MHz\n",
    "wf = np.where(abs(freq-freq_plt)<df)[0][0]\n",
    "np.save('../DVA2/DATA/Daily_maps/survey_phase3_all_408_day'+day+'.npy',([RR_set_trim[:,wf],LL_set_trim[:,wf],\n",
    "                                                                         reRL_set_trim[:,wf],imRL_set_trim[:,wf],\n",
    "                                                                         ra_set_trim,dec_set_trim,az_set_trim,el_set_trim,\n",
    "                                                                         t_set_trim,noise_set_trim,t_set_plt_trim]))\n",
    "print(day)"
   ]
  },
  {
   "cell_type": "code",
   "execution_count": null,
   "id": "d70730ba",
   "metadata": {},
   "outputs": [],
   "source": [
    "print(freq[-1]-freq[0])\n",
    "print(len(freq))"
   ]
  },
  {
   "cell_type": "code",
   "execution_count": null,
   "id": "baee986d",
   "metadata": {},
   "outputs": [],
   "source": []
  }
 ],
 "metadata": {
  "kernelspec": {
   "display_name": "Python 3",
   "language": "python",
   "name": "python3"
  },
  "language_info": {
   "codemirror_mode": {
    "name": "ipython",
    "version": 3
   },
   "file_extension": ".py",
   "mimetype": "text/x-python",
   "name": "python",
   "nbconvert_exporter": "python",
   "pygments_lexer": "ipython3",
   "version": "3.9.4"
  }
 },
 "nbformat": 4,
 "nbformat_minor": 5
}
