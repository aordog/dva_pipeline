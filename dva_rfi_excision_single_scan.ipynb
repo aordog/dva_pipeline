{
 "cells": [
  {
   "cell_type": "code",
   "execution_count": 31,
   "metadata": {},
   "outputs": [],
   "source": [
    "import imp\n",
    "import os\n",
    "import subprocess\n",
    "import h5py\n",
    "import numpy as np\n",
    "from astropy.time import Time\n",
    "import matplotlib.pyplot as plt\n",
    "from scipy.interpolate import griddata\n",
    "import datetime\n",
    "import matplotlib.dates as mdates\n",
    "from matplotlib.dates import HourLocator as HourLocator\n",
    "from matplotlib.dates import MinuteLocator as MinuteLocator\n",
    "from mpl_toolkits.axes_grid1 import make_axes_locatable\n",
    "from astropy import units as u\n",
    "from astropy.time import TimeDelta\n",
    "from ipywidgets import interact\n",
    "import matplotlib.patches as patches\n",
    "from importlib import reload \n",
    "import DVA_RFI as rfi\n",
    "\n",
    "\n",
    "#### Change the directory to where the files are located\" ####\n",
    "day ='25'\n",
    "directory = '../DVA/Data_Files/DVA_Day_Surveys/'"
   ]
  },
  {
   "cell_type": "markdown",
   "metadata": {},
   "source": [
    "### Read in the file listing azimuth scan start and stop times:"
   ]
  },
  {
   "cell_type": "code",
   "execution_count": 32,
   "metadata": {},
   "outputs": [
    {
     "name": "stdout",
     "output_type": "stream",
     "text": [
      "1052 2022-07-04T03:57:53.110 2022-07-04T04:15:55.184\n",
      "2565 2022-07-04T04:20:37.406 2022-07-04T04:38:39.310\n",
      "2566 2022-07-04T04:40:22.266 2022-07-04T04:58:24.003\n",
      "1271 2022-07-04T05:03:42.716 2022-07-04T05:21:44.818\n",
      "1272 2022-07-04T05:23:27.291 2022-07-04T05:41:29.292\n",
      "2857 2022-07-04T05:48:35.269 2022-07-04T06:06:37.317\n",
      "0124 2022-07-04T06:11:19.190 2022-07-04T06:29:21.101\n",
      "1637 2022-07-04T06:34:03.920 2022-07-04T06:52:06.005\n",
      "0342 2022-07-04T06:57:23.897 2022-07-04T07:15:25.930\n",
      "1927 2022-07-04T07:21:55.804 2022-07-04T07:39:58.034\n",
      "1928 2022-07-04T07:42:16.530 2022-07-04T08:00:18.319\n",
      "2001 2022-07-04T08:03:48.814 2022-07-04T08:21:51.062\n",
      "2002 2022-07-04T08:24:09.373 2022-07-04T08:42:11.545\n",
      "2075 2022-07-04T08:45:41.821 2022-07-04T09:03:44.188\n",
      "2148 2022-07-04T09:07:50.625 2022-07-04T09:25:52.832\n",
      "2149 2022-07-04T09:27:35.229 2022-07-04T09:45:37.044\n",
      "2150 2022-07-04T09:47:56.026 2022-07-04T10:05:57.828\n",
      "2151 2022-07-04T10:07:40.752 2022-07-04T10:25:42.662\n",
      "2152 2022-07-04T10:27:25.410 2022-07-04T10:45:27.414\n",
      "2153 2022-07-04T10:47:46.110 2022-07-04T11:05:48.028\n",
      "0858 2022-07-04T11:10:30.298 2022-07-04T11:28:32.281\n",
      "0859 2022-07-04T11:30:50.747 2022-07-04T11:48:52.934\n",
      "2372 2022-07-04T11:53:35.348 2022-07-04T12:11:37.677\n"
     ]
    }
   ],
   "source": [
    "scan_id = []    # The scan id number\n",
    "scan_start = []  # Start time of the scan (UTC)\n",
    "scan_stop = []   # Stop time of the scan (UTC)\n",
    "\n",
    "# Read in the data and store it in arrays:\n",
    "with open(directory+'DVAsurvey_phase1_day0'+day+'.txt') as fp:\n",
    "    for line in fp:       \n",
    "        scan_id.append(int(line.split()[0]))\n",
    "        scan_start.append(line.split()[1]+'T'+line.split()[2][0:12])\n",
    "        scan_stop.append(line.split()[3]+'T'+line.split()[4][0:12])\n",
    "        \n",
    "# Print out the scan numbers with their start and stop times:\n",
    "for i in range(0,len(scan_id)):\n",
    "    print(f\"{scan_id[i]:04}\",scan_start[i],scan_stop[i])\n",
    "\n",
    "# Convert start and stop times to Modified Julian Day (MJD).\n",
    "# This is needed for plotting and for selecting out data collected\n",
    "# between particular times:\n",
    "scan_start_mjd = Time(scan_start, format='isot',scale='utc').mjd\n",
    "scan_stop_mjd  = Time(scan_stop,  format='isot',scale='utc').mjd\n"
   ]
  },
  {
   "cell_type": "markdown",
   "metadata": {},
   "source": [
    "### Read in scan files and stich them together:"
   ]
  },
  {
   "cell_type": "code",
   "execution_count": 33,
   "metadata": {},
   "outputs": [
    {
     "name": "stdout",
     "output_type": "stream",
     "text": [
      "1271\n",
      "<HDF5 file \"dva_survey_raw_scan_1271.h5\" (mode r)>\n"
     ]
    }
   ],
   "source": [
    "t_set = []\n",
    "az_set = []\n",
    "dec_set = []\n",
    "ra_set = []\n",
    "el_set = []\n",
    "noise_set = []\n",
    "trim_flag = []\n",
    "\n",
    "scan0 = f\"{scan_id[0]:04}\"\n",
    "\n",
    "# Use one of the scans to get the list of frequencies:\n",
    "freq_channel_increment = 1 #TODO: I'll have to change this to 1 once I am sure I'm reading the data correctly\n",
    "\n",
    "file = h5py.File(directory+'dva_survey_raw_scan_'+scan0+'.h5','r')\n",
    "freq = file['data']['beam_0']['band_SB0']['frequency'][::freq_channel_increment]/1e6\n",
    "df = freq[1] - freq[0]\n",
    "\n",
    "# Create empty arrays for the power data:\n",
    "RR_set = np.empty([0,len(freq)])\n",
    "LL_set = np.empty([0,len(freq)])\n",
    "reRL_set = np.empty([0,len(freq)])\n",
    "imRL_set = np.empty([0,len(freq)])\n",
    "\n",
    "\n",
    "\n",
    "# Loop through all the scans in the \"scan_num\" list:\n",
    "\n",
    "for i in scan_id[3:4]:\n",
    "# for i in scan_id[0:1]:\n",
    "    print(i)\n",
    "    # select the file:\n",
    "    file = h5py.File(directory+'dva_survey_raw_scan_'+f\"{i:04}\"+'.h5','r')\n",
    "    print(file)\n",
    "\n",
    "    # access the correct location in the file structure:\n",
    "    dataset = file['data']['beam_0']['band_SB0']['scan_0']\n",
    "\n",
    "    # Add the position and time data to the corresponding arrays:\n",
    "    dec_set = np.concatenate([dec_set,dataset['metadata']['declination']])\n",
    "    ra_set = np.concatenate([ra_set,dataset['metadata']['right_ascension']])\n",
    "    el_set = np.concatenate([el_set,dataset['metadata']['elevation']])\n",
    "    az_set = np.concatenate([az_set,dataset['metadata']['azimuth']])\n",
    "    t_set = np.concatenate([t_set,dataset['metadata']['utc']])\n",
    "    noise_set = np.concatenate([noise_set,dataset['metadata']['noise_state']]) #This is a \"mask\" for noise regions 1 = noise 0=all good\n",
    "    trim_flag = np.concatenate([trim_flag,dataset['metadata']['trim_scan_flag']])\n",
    "\n",
    "    # Add the spectrometer power data to the corresponding arrays:\n",
    "    RR_set = np.concatenate([RR_set,dataset['data'][:,0,::freq_channel_increment]],axis=0)\n",
    "    LL_set = np.concatenate([LL_set,dataset['data'][:,1,::freq_channel_increment]],axis=0)\n",
    "    reRL_set = np.concatenate([reRL_set,dataset['data'][:,2,::freq_channel_increment]],axis=0)\n",
    "    imRL_set = np.concatenate([imRL_set,dataset['data'][:,3,::freq_channel_increment]],axis=0)\n",
    "\n",
    "polarized = []\n",
    "for i,j in zip(reRL_set,imRL_set):\n",
    "    PI = np.sqrt((i**2)+(j**2))\n",
    "    polarized.append(PI)\n",
    "polarized_set = np.array(polarized)\n",
    "\n",
    "noise_idx = np.array(np.where(noise_set == 1))\n",
    "    \n",
    "t_plt = Time(t_set, format='isot',scale='utc').mjd\n",
    "\n",
    "#NOTE: Local change because Leo only has 5 scans on his computer\n",
    "scan_id = [1052]"
   ]
  },
  {
   "cell_type": "markdown",
   "metadata": {},
   "source": [
    "### Read in persistent RFI mask"
   ]
  },
  {
   "cell_type": "code",
   "execution_count": 34,
   "metadata": {},
   "outputs": [],
   "source": [
    "i = 0\n",
    "RFI_mask_idx = []\n",
    "with open('../DVA/Data_Files/RFIpersist_mask.txt') as fp:\n",
    "    for line in fp:\n",
    "        if i>0: \n",
    "            RFI_mask_idx.append(int(line.split()[0]))\n",
    "        i=i+1\n",
    "RFI_mask_idx = np.array(RFI_mask_idx)"
   ]
  },
  {
   "cell_type": "markdown",
   "metadata": {},
   "source": [
    "### Apply masks"
   ]
  },
  {
   "cell_type": "code",
   "execution_count": 35,
   "metadata": {},
   "outputs": [],
   "source": [
    "polarized_set[noise_idx, :] = np.nan\n",
    "polarized_set[:,RFI_mask_idx] = np.nan\n",
    "\n",
    "LL_set[noise_idx, :] = np.nan\n",
    "LL_set[:,RFI_mask_idx] = np.nan\n",
    "\n",
    "RR_set[noise_idx, :] = np.nan\n",
    "RR_set[:,RFI_mask_idx] = np.nan"
   ]
  },
  {
   "cell_type": "markdown",
   "metadata": {},
   "source": [
    "# 2d Visualization plot"
   ]
  },
  {
   "cell_type": "code",
   "execution_count": 36,
   "metadata": {},
   "outputs": [],
   "source": [
    "def DVA_Singlescan_Time_Cross_Section(freq_idx, duration, baseline_multiplier):\n",
    "    fs = 14\n",
    "    scan_baseline = np.nanmedian(polarized_set[duration,freq_idx])\n",
    "\n",
    "    possible_RFI_idxes = np.where(polarized_set[:, freq_idx] >= scan_baseline*baseline_multiplier)\n",
    "    polarized_set_masked = polarized_set.copy()\n",
    "    polarized_set_masked[possible_RFI_idxes, :] = np.nan\n",
    "\n",
    "\n",
    "    fig,axs1 = plt.subplots(1,1,figsize=(12.5,6))  \n",
    "    axs1.plot(t_plt[duration], polarized_set[duration,freq_idx],color='red', linewidth = 0.5, label = \"Possible RFI\")\n",
    "    axs1.plot(t_plt[duration], polarized_set_masked[duration,freq_idx],color='black', linewidth = 0.65, label = \"Masked Polarized Set\")\n",
    "\n",
    "\n",
    "    axs1.xaxis.set_major_formatter(mdates.DateFormatter('%H:%M:%S'))\n",
    "    axs1.fmt_xdata = mdates.DateFormatter('%H:%M:%S')\n",
    "    axs1.set_xlabel('Time (UTC)',fontsize=fs)\n",
    "    axs1.set_ylabel(\"Power\")\n",
    "    axs1.set_xlim(t_plt[duration][0],t_plt[duration][-1])\n",
    "\n",
    "    # axs1.axhline(abs_threshold,xmin=0,xmax=3,c=\"green\",linewidth=1,zorder=0, label = \"Absolute Threshold\")\n",
    "    axs1.axhline(scan_baseline*baseline_multiplier,xmin=0,xmax=3,c=\"purple\",linewidth=1,zorder=0, label = \"Relative Threshold\")\n",
    "    axs1.axhline(scan_baseline,xmin=0,xmax=3,c=\"red\",linewidth=1,zorder=0, label = \"Scan Baseline\")\n",
    "    axs1.set_ylim(ymax = (baseline_multiplier+1)*scan_baseline, ymin=0)\n",
    "    # axs1.set_ylim(ymax=1e6, ymin=0)\n",
    "    axs1.tick_params(axis='both',labelsize=fs)   \n",
    "    axs1.legend()"
   ]
  },
  {
   "cell_type": "code",
   "execution_count": 37,
   "metadata": {},
   "outputs": [],
   "source": [
    "def ValidateStartTime(idx, delta):\n",
    "    if (idx-delta) <= 0:\n",
    "        validaded_start = 0\n",
    "    else:\n",
    "        validaded_start = idx-delta\n",
    "    return validaded_start\n",
    "\n",
    "def ValidateEndTime(idx, delta, array):\n",
    "    if (idx+delta) >= (len(array)-1):\n",
    "        validaded_end = (len(array)-1)\n",
    "    else:\n",
    "        validaded_end = idx+delta\n",
    "    return validaded_end"
   ]
  },
  {
   "cell_type": "code",
   "execution_count": 56,
   "metadata": {},
   "outputs": [
    {
     "data": {
      "application/vnd.jupyter.widget-view+json": {
       "model_id": "fcec83b963c946098e99330454a6de4e",
       "version_major": 2,
       "version_minor": 0
      },
      "text/plain": [
       "interactive(children=(IntSlider(value=1, description='rfi_number', max=3), IntSlider(value=687, description='f…"
      ]
     },
     "metadata": {},
     "output_type": "display_data"
    },
    {
     "data": {
      "text/plain": [
       "<function __main__.DVA_Plot_RFI(rfi_number, freq_chosen)>"
      ]
     },
     "execution_count": 56,
     "metadata": {},
     "output_type": "execute_result"
    }
   ],
   "source": [
    "reload(rfi)\n",
    "def DVA_Plot_RFI(rfi_number, freq_chosen):\n",
    "\n",
    "\n",
    "    freq_idx = rfi.find_nearest_idx(freq, freq_chosen)\n",
    "    freq_measured = freq[freq_idx]\n",
    "    freq_threshold = 1e5\n",
    "    base_mult = 2\n",
    "    confirmed_RFI_results = rfi.RFI_Detection(freq_slope_threshold=freq_threshold, freq_chosen = freq_chosen, baseline_multiplier=base_mult, freq = freq, polarized_set = polarized_set)\n",
    "    confirmed_rfi_idxes = rfi.GenerateRfiIndexes(confirmed_RFI_results, freq)\n",
    "\n",
    "    try:\n",
    "        if len(confirmed_RFI_results) == 0:\n",
    "                raise Exception(\"No confirmed RFI Events found\")\n",
    "        #Arbitraty constants for visualization   \n",
    "\n",
    "        time_framing = 100\n",
    "        freq_framing = 100\n",
    "        time_buffer = 10\n",
    "        freq_buffer = 10\n",
    "\n",
    "        # DETERMINE RFI REGION --------------------------------------------------------------------------------------------------------\n",
    "        t1_plt = confirmed_RFI_results[rfi_number][0]\n",
    "        t2_plt = confirmed_RFI_results[rfi_number][1]\n",
    "        freq1 = confirmed_RFI_results[rfi_number][2]\n",
    "        freq2 = confirmed_RFI_results[rfi_number][3]\n",
    "        print(\"RFI starting frequency: {:.2f}.\\nRFI ending frequency: {:.2f}\".format(freq1, freq2))\n",
    "\n",
    "\n",
    "        buffered_start_time = ValidateStartTime(t1_plt, time_buffer)\n",
    "        buffered_end_time = ValidateEndTime(t2_plt, time_buffer, t_plt)\n",
    "\n",
    "        framed_start_time = ValidateStartTime(t1_plt, time_framing)\n",
    "        framed_end_time = ValidateEndTime(t2_plt, time_framing, t_plt)\n",
    "\n",
    "        # PLOTTING WATERFALL RFI ------------------------------------------------------------------------------------------------------\n",
    "\n",
    "        RFI_duration_time = t_plt[framed_start_time:framed_end_time]\n",
    "        RFI_freq_bandwith = freq[freq1 - freq_framing: freq2 + freq_framing]\n",
    "\n",
    "        fig,axs = plt.subplots(1,2,figsize=(25,10)) \n",
    "        fs = 16\n",
    "\n",
    "        # Create a Rectangle patch ---------------------------------------------------------------------------------------------------\n",
    "        RFI_detected = patches.Rectangle((t_plt[t1_plt], freq[freq1]), np.abs(t_plt[t2_plt] - t_plt[t1_plt]), np.abs(freq[freq2] - freq[freq1]), linewidth=1.5, edgecolor='r', facecolor='none')\n",
    "        RFI_detected_LL = patches.Rectangle((t_plt[t1_plt], freq[freq1]), np.abs(t_plt[t2_plt] - t_plt[t1_plt]), np.abs(freq[freq2] - freq[freq1]), linewidth=1.5, edgecolor='r', facecolor='none')\n",
    "        # Add the patch to the Axes0\n",
    "        axs[0].add_patch(RFI_detected)\n",
    "        axs[1].add_patch(RFI_detected_LL)\n",
    "\n",
    "        #Polarized Waterfall ---------------------------------------------------------------------------------------------------------------------------\n",
    "        power_min = np.nanmedian((10.*np.log10(polarized_set[buffered_start_time: buffered_end_time,freq1-freq_buffer: freq2+freq_buffer].T)))\n",
    "        power_max = np.nanmax((10.*np.log10(polarized_set[buffered_start_time: buffered_end_time,freq1-freq_buffer: freq2+freq_buffer].T)))\n",
    "\n",
    "        im_pol = axs[0].imshow(10.*np.log10(polarized_set[framed_start_time: framed_end_time,freq1-freq_framing: freq2+freq_framing].T),aspect='auto',vmin=power_min,vmax=power_max,origin='lower',\n",
    "                extent=[RFI_duration_time[0],RFI_duration_time[-1],RFI_freq_bandwith[0],RFI_freq_bandwith[-1]])\n",
    "\n",
    "        divider = make_axes_locatable(axs[0])\n",
    "        cax = divider.append_axes('right', size='2%', pad=0.05)\n",
    "        cbar = fig.colorbar(im_pol, cax=cax, orientation='vertical')\n",
    "        cbar.ax.tick_params(labelsize=fs) \n",
    "        cbar.set_label('Power (dB)', fontsize=fs)\n",
    "\n",
    "        axs[0].set_xlim(RFI_duration_time[0],RFI_duration_time[-1])\n",
    "        axs[0].tick_params(axis='both', labelsize=fs)\n",
    "        axs[0].xaxis.set_major_formatter(mdates.DateFormatter('%H:%M:%S'))\n",
    "        axs[0].fmt_xdata = mdates.DateFormatter('%H:%M:%S')\n",
    "        axs[0].set_xlabel('Time (UTC)',fontsize=fs)        \n",
    "        axs[0].set_ylabel('Frequency (MHz)',fontsize=fs)\n",
    "        axs[0].set_title('Polarized Set at Frequency {:.2f}'.format(freq_measured), size = fs)\n",
    "\n",
    "        #LL Waterfall ---------------------------------------------------------------------------------------------------------------------------\n",
    "        power_min = np.nanmedian((10.*np.log10(LL_set[buffered_start_time: buffered_end_time,freq1-freq_buffer: freq2+freq_buffer].T)))\n",
    "        power_max = np.nanmax((10.*np.log10(LL_set[buffered_start_time: buffered_end_time,freq1-freq_buffer: freq2+freq_buffer].T)))\n",
    "\n",
    "        im_LL = axs[1].imshow(10.*np.log10(LL_set[framed_start_time: framed_end_time,freq1-freq_framing: freq2+freq_framing].T),aspect='auto',vmin=power_min,vmax=power_max,origin='lower',\n",
    "                extent=[RFI_duration_time[0],RFI_duration_time[-1],RFI_freq_bandwith[0],RFI_freq_bandwith[-1]])\n",
    "\n",
    "        divider2 = make_axes_locatable(axs[1])\n",
    "        cax2 = divider2.append_axes('right', size='2%', pad=0.05)\n",
    "        cbar2 = fig.colorbar(im_LL, cax=cax2, orientation='vertical')\n",
    "        cbar2.ax.tick_params(labelsize=fs) \n",
    "        cbar2.set_label('Power (dB)', fontsize=fs)\n",
    "\n",
    "        axs[1].set_xlim(RFI_duration_time[0],RFI_duration_time[-1])\n",
    "        axs[1].tick_params(axis='both', labelsize=fs)\n",
    "        axs[1].xaxis.set_major_formatter(mdates.DateFormatter('%H:%M:%S'))\n",
    "        axs[1].fmt_xdata = mdates.DateFormatter('%H:%M:%S')\n",
    "        axs[1].set_xlabel('Time (UTC)',fontsize=fs)        \n",
    "        axs[1].set_ylabel('Frequency (MHz)',fontsize=fs)\n",
    "        axs[1].set_title('LL Set at Frequency {:.2f}'.format(freq_measured), size = fs)\n",
    "\n",
    "        #2D Visualization Plot ---------------------------------------------------------------------------------------------------------------------\n",
    "        # DVA_Singlescan_Time_Cross_Section(freq_idx = freq_idx, duration = np.arange(framed_start_time, framed_end_time), baseline_multiplier = base_mult)\n",
    "        fs = 14\n",
    "        duration = np.arange(framed_start_time, framed_end_time)\n",
    "        scan_baseline = np.nanmedian(polarized_set[duration,freq_idx])\n",
    "        polarized_set_masked = polarized_set.copy()\n",
    "        polarized_set_masked[confirmed_rfi_idxes, :] = np.nan\n",
    "\n",
    "\n",
    "        fig,axs1 = plt.subplots(1,1,figsize=(12.5,6))  \n",
    "        axs1.plot(t_plt[duration], polarized_set[duration,freq_idx],color='red', linewidth = 0.5, label = \"Possible RFI\")\n",
    "        axs1.plot(t_plt[duration], polarized_set_masked[duration,freq_idx],color='black', linewidth = 0.65, label = \"Masked Polarized Set\")\n",
    "\n",
    "\n",
    "        axs1.xaxis.set_major_formatter(mdates.DateFormatter('%H:%M:%S'))\n",
    "        axs1.fmt_xdata = mdates.DateFormatter('%H:%M:%S')\n",
    "        axs1.set_xlabel('Time (UTC)',fontsize=fs)\n",
    "        axs1.set_ylabel(\"Power\")\n",
    "        axs1.set_xlim(t_plt[duration][0],t_plt[duration][-1])\n",
    "\n",
    "        # axs1.axhline(abs_threshold,xmin=0,xmax=3,c=\"green\",linewidth=1,zorder=0, label = \"Absolute Threshold\")\n",
    "        axs1.axhline(scan_baseline*base_mult,xmin=0,xmax=3,c=\"purple\",linewidth=1,zorder=0, label = \"Relative Threshold\")\n",
    "        axs1.axhline(scan_baseline,xmin=0,xmax=3,c=\"red\",linewidth=1,zorder=0, label = \"Scan Baseline\")\n",
    "        axs1.set_ylim(ymax = (base_mult+1)*scan_baseline, ymin=0)\n",
    "        # axs1.set_ylim(ymax=1e6, ymin=0)\n",
    "        axs1.tick_params(axis='both',labelsize=fs)   \n",
    "        axs1.legend()\n",
    "    except Exception as err:\n",
    "        print(repr(err))\n",
    "\n",
    "# DVA_Plot_RFI(0, 835)\n",
    "# interact(DVA_Plot_RFI, rfi_number = (0,34), freq_chosen = (343, 1031))\n",
    "interact(DVA_Plot_RFI, rfi_number = (0, 3), freq_chosen = (343, 1031))#842 = cellphone"
   ]
  },
  {
   "cell_type": "code",
   "execution_count": 64,
   "metadata": {},
   "outputs": [
    {
     "data": {
      "application/vnd.jupyter.widget-view+json": {
       "model_id": "d69fe18d4c394484b6ebca76f7763bd8",
       "version_major": 2,
       "version_minor": 0
      },
      "text/plain": [
       "interactive(children=(IntSlider(value=842, description='freq_chosen', max=2526, min=-842), Output()), _dom_cla…"
      ]
     },
     "metadata": {},
     "output_type": "display_data"
    },
    {
     "data": {
      "text/plain": [
       "<function __main__.DVA_Plot_RFI(freq_chosen)>"
      ]
     },
     "execution_count": 64,
     "metadata": {},
     "output_type": "execute_result"
    }
   ],
   "source": [
    "reload(rfi)\n",
    "def DVA_Plot_RFI(freq_chosen):\n",
    "\n",
    "\n",
    "    freq_idx = rfi.find_nearest_idx(freq, freq_chosen)\n",
    "    freq_measured = freq[freq_idx]\n",
    "    freq_threshold = 1e5\n",
    "    base_mult = 2\n",
    "    confirmed_RFI_results = rfi.RFI_Detection(freq_slope_threshold=freq_threshold, freq_chosen = freq_chosen, baseline_multiplier=base_mult, freq = freq, polarized_set = polarized_set)\n",
    "    confirmed_rfi_idxes = rfi.GenerateRfiIndexes(confirmed_RFI_results, freq)\n",
    "\n",
    "    try:\n",
    "        if len(confirmed_RFI_results) == 0:\n",
    "                raise Exception(\"No confirmed RFI Events found\")\n",
    "        #Arbitraty constants for visualization   \n",
    "\n",
    "        # PLOTTING WATERFALL RFI ------------------------------------------------------------------------------------------------------\n",
    "\n",
    "        fig,axs = plt.subplots(1,2,figsize=(25,10)) \n",
    "        fs = 16\n",
    "\n",
    "        #Polarized Waterfall ---------------------------------------------------------------------------------------------------------------------------\n",
    "        polarized_power_min = 50\n",
    "        polarized_power_max = 70\n",
    "\n",
    "        im_pol = axs[0].imshow(10.*np.log10(polarized_set.T),aspect='auto',vmin=polarized_power_min,vmax=polarized_power_max,origin='lower',\n",
    "                extent=[t_plt[0],t_plt[-1],t_plt[0],t_plt[-1]])\n",
    "\n",
    "        divider = make_axes_locatable(axs[0])\n",
    "        cax = divider.append_axes('right', size='2%', pad=0.05)\n",
    "        cbar = fig.colorbar(im_pol, cax=cax, orientation='vertical')\n",
    "        cbar.ax.tick_params(labelsize=fs) \n",
    "        cbar.set_label('Power (dB)', fontsize=fs)\n",
    "\n",
    "        axs[0].set_xlim(t_plt[0],t_plt[-1])\n",
    "        axs[0].tick_params(axis='both', labelsize=fs)\n",
    "        axs[0].xaxis.set_major_formatter(mdates.DateFormatter('%H:%M:%S'))\n",
    "        axs[0].fmt_xdata = mdates.DateFormatter('%H:%M:%S')\n",
    "        axs[0].set_xlabel('Time (UTC)',fontsize=fs)        \n",
    "        axs[0].set_ylabel('Frequency (MHz)',fontsize=fs)\n",
    "        axs[0].set_title('Polarized Set at Frequency {:.2f}'.format(freq_measured), size = fs)\n",
    "\n",
    "        #LL Waterfall ---------------------------------------------------------------------------------------------------------------------------\n",
    "        LL_power_min = 65\n",
    "        LL_power_max = 80\n",
    "\n",
    "        im_LL = axs[1].imshow(10.*np.log10(LL_set.T),aspect='auto',vmin=LL_power_min,vmax=LL_power_max,origin='lower',\n",
    "                extent=[t_plt[0],t_plt[-1],t_plt[0],t_plt[-1]])\n",
    "\n",
    "        divider2 = make_axes_locatable(axs[1])\n",
    "        cax2 = divider2.append_axes('right', size='2%', pad=0.05)\n",
    "        cbar2 = fig.colorbar(im_LL, cax=cax2, orientation='vertical')\n",
    "        cbar2.ax.tick_params(labelsize=fs) \n",
    "        cbar2.set_label('Power (dB)', fontsize=fs)\n",
    "\n",
    "        axs[1].set_xlim(t_plt[0],t_plt[-1])\n",
    "        axs[1].tick_params(axis='both', labelsize=fs)\n",
    "        axs[1].xaxis.set_major_formatter(mdates.DateFormatter('%H:%M:%S'))\n",
    "        axs[1].fmt_xdata = mdates.DateFormatter('%H:%M:%S')\n",
    "        axs[1].set_xlabel('Time (UTC)',fontsize=fs)        \n",
    "        axs[1].set_ylabel('Frequency (MHz)',fontsize=fs)\n",
    "        axs[1].set_title('LL Set at Frequency {:.2f}'.format(freq_measured), size = fs)\n",
    "    except Exception as err:\n",
    "        print(repr(err))\n",
    "\n",
    "# DVA_Plot_RFI(0, 835)\n",
    "# interact(DVA_Plot_RFI, rfi_number = (0,34), freq_chosen = (343, 1031))\n",
    "interact(DVA_Plot_RFI, freq_chosen = 842)#freq_chosen = (343, 1031))#842 = cellphone"
   ]
  },
  {
   "cell_type": "markdown",
   "metadata": {},
   "source": [
    "# Idea:\n",
    "\n",
    "When I'm finding a possible RFI:\n",
    "- Find the first time I'm crossing the baseline to the left -> Mark that as the start\n",
    "- Find the first time I'm crossing the baseline to the right -> Mark that as the end"
   ]
  },
  {
   "cell_type": "markdown",
   "metadata": {},
   "source": [
    "# Today\n",
    "\n",
    "Get a bin view of a specific frequency channel.\n",
    "\n",
    "Use that to see if I can determine that values far fom 1 stn deviation are off\n"
   ]
  },
  {
   "cell_type": "code",
   "execution_count": 40,
   "metadata": {},
   "outputs": [],
   "source": [
    "def plot_scan_histogram(polarized_set_masked, duration, freq_idx):\n",
    "    polarized_set_masked[duration,freq_idx]\n",
    "    hist, bin_edges = np.histogram(polarized_set_masked[duration,freq_idx], density=True)\n",
    "    return hist\n",
    "\n"
   ]
  },
  {
   "cell_type": "code",
   "execution_count": 41,
   "metadata": {},
   "outputs": [],
   "source": [
    "def exception(n):\n",
    "    try:\n",
    "        if n == 0:\n",
    "            raise Exception(\"n=0 error\")\n",
    "        else:\n",
    "            print(\"all fine\")\n",
    "    except Exception as err:\n",
    "        print(\"Caught this error\", repr(err))"
   ]
  },
  {
   "cell_type": "code",
   "execution_count": 42,
   "metadata": {},
   "outputs": [
    {
     "name": "stdout",
     "output_type": "stream",
     "text": [
      "Caught this error Exception('n=0 error')\n"
     ]
    }
   ],
   "source": [
    "exception(0)"
   ]
  },
  {
   "cell_type": "markdown",
   "metadata": {},
   "source": [
    "# Ideas\n",
    "\n",
    "Maybe I could try implementing the \"variance\" compression method:\n",
    "- check the variance of 5 points. if below threshold, compress 5 values with the same baseline value.\n",
    "- Note: 5 is an arbitrary choice. I could even have a larger variance interval, and if the variance is high, I start dividing my large interval into smaller chunks looking for the high variance intervals"
   ]
  }
 ],
 "metadata": {
  "kernelspec": {
   "display_name": "Python 3.8.8 ('base')",
   "language": "python",
   "name": "python3"
  },
  "language_info": {
   "codemirror_mode": {
    "name": "ipython",
    "version": 3
   },
   "file_extension": ".py",
   "mimetype": "text/x-python",
   "name": "python",
   "nbconvert_exporter": "python",
   "pygments_lexer": "ipython3",
   "version": "3.8.8"
  },
  "orig_nbformat": 4,
  "vscode": {
   "interpreter": {
    "hash": "ad2bdc8ecc057115af97d19610ffacc2b4e99fae6737bb82f5d7fb13d2f2c186"
   }
  }
 },
 "nbformat": 4,
 "nbformat_minor": 2
}
