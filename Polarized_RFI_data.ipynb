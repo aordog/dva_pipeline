{
 "cells": [
  {
   "cell_type": "code",
   "execution_count": 1,
   "metadata": {},
   "outputs": [],
   "source": [
    "import numpy as np\n",
    "from astropy.time import Time\n",
    "import matplotlib.pyplot as plt\n",
    "import matplotlib.cm as cm\n",
    "import matplotlib.dates as mdates\n",
    "from ipywidgets import interact"
   ]
  },
  {
   "cell_type": "code",
   "execution_count": 2,
   "metadata": {},
   "outputs": [],
   "source": [
    "######################################\n",
    "dir_files = '../DVA/Data_Files/Dec13_azimuth_scans/'\n",
    "out_dir = '../DVA/Data_Files/Dec13_azimuth_scans/'\n",
    "date = '2021-12-13'\n",
    "hr_start = '17'\n",
    "hr_end = '24'\n",
    "######################################\n",
    "\n",
    "hr1 = int(hr_start)\n",
    "hr2 = int(hr_end)\n",
    "outname = 'data_'+date+'_'+f\"{hr1:02}\"+'_to_'+f\"{hr2:02}\"\n",
    "\n",
    "# Read in the data, frequency, time arrays:\n",
    "RR_set,LL_set,reRL_set,imRL_set = np.load(dir_files+outname+'.npy')\n",
    "freq_set = np.load(dir_files+outname+'_freq.npy')\n",
    "time_set = np.load(dir_files+outname+'_time.npy')\n",
    "# Read in the position arrays (Note: do not use ra and dec yet - \n",
    "# these are not correct in the files)\n",
    "#ra_set,dec_set,az_set,el_set = np.load(dir_files+outname+'_coords.npy')\n",
    "\n",
    "t_fix = Time(time_set, format='isot',scale='utc')\n",
    "t_plt = t_fix.plot_date"
   ]
  },
  {
   "cell_type": "markdown",
   "metadata": {},
   "source": [
    "### Choose a frequency !!"
   ]
  },
  {
   "cell_type": "code",
   "execution_count": 3,
   "metadata": {},
   "outputs": [],
   "source": [
    "fr_plot = 850"
   ]
  },
  {
   "cell_type": "code",
   "execution_count": 4,
   "metadata": {},
   "outputs": [
    {
     "name": "stdout",
     "output_type": "stream",
     "text": [
      "Window 1: \n",
      " 2021-12-13T20:56:36.532 2021-12-13T21:06:38.447 \n",
      "\n",
      "Window 2: \n",
      " 2021-12-13T22:00:29.797 2021-12-13T22:15:37.952 \n",
      "\n",
      "Frequency Chosen:  850.0\n",
      "w: 4725\n"
     ]
    }
   ],
   "source": [
    "window1_start = 10750\n",
    "window1_end = 11200\n",
    "print(\"Window 1: \\n\", t_fix[window1_start], t_fix[window1_end], '\\n')\n",
    "\n",
    "window2_start = 13600\n",
    "window2_end = 14250\n",
    "print(\"Window 2: \\n\", t_fix[window2_start], t_fix[window2_end], '\\n')\n",
    "\n",
    "df = freq_set[1]-freq_set[0]\n",
    "w = np.where( abs(freq_set-fr_plot) < df/2.)[0][0]\n",
    "print(\"Frequency Chosen: \",freq_set[w])\n",
    "print(\"w:\", w)\n",
    "\n",
    "t_plt1 = t_plt[window1_start:window1_end]\n",
    "reRL_set1 = reRL_set[window1_start:window1_end,w]\n",
    "imRL_set1 = imRL_set[window1_start:window1_end,w]\n",
    "polar1 = []\n",
    "for i,j in zip(reRL_set1,imRL_set1):\n",
    "    PI = np.sqrt((i**2)+(j**2))\n",
    "    polar1.append(PI)\n",
    "plr_plot1 = np.array(polar1)\n",
    "\n",
    "t_plt2 = t_plt[window2_start:window2_end]\n",
    "reRL_set2 = reRL_set[window2_start:window2_end,w]\n",
    "imRL_set2 = imRL_set[window2_start:window2_end,w]\n",
    "polar2 = []\n",
    "for i,j in zip(reRL_set2,imRL_set2):\n",
    "    PI = np.sqrt((i**2)+(j**2))\n",
    "    polar2.append(PI)\n",
    "plr_plot2 = np.array(polar2)\n",
    "# print(polar2)"
   ]
  },
  {
   "cell_type": "markdown",
   "metadata": {},
   "source": [
    "### Polarized Intensity:"
   ]
  },
  {
   "cell_type": "code",
   "execution_count": 5,
   "metadata": {},
   "outputs": [],
   "source": [
    "polarized = []\n",
    "reRL_set_use = reRL_set[:,w]    #TODO: maybe I can try making something general that I can scan over all frequencies\n",
    "imRL_set_use = imRL_set[:,w]\n",
    "for i,j in zip(reRL_set_use,imRL_set_use):\n",
    "    PI = np.sqrt((i**2)+(j**2))\n",
    "    polarized.append(PI)\n",
    "polarized_plot = np.array(polarized)"
   ]
  },
  {
   "cell_type": "code",
   "execution_count": 6,
   "metadata": {},
   "outputs": [],
   "source": [
    "# in_power_array        Input power array (RR, LL, reRL, imRL) at a single frequency\n",
    "# numt                  Number of time points to include in the 'window' in which the standard deviation is calculated\n",
    "# threshold             Array of standard deviation thresholds to use in each stage of the RFI excision \n",
    "\n",
    "def Is_RFI(in_power_array, threshold, idx, interval_start, interval_end):\n",
    "    retVal = False\n",
    "    in_power_mean = np.nanmean(in_power_array[interval_start:interval_end])\n",
    "    in_power_std = np.nanstd(in_power_array[interval_start:interval_end])\n",
    "    if abs(in_power_array[idx]) > abs(in_power_mean)+threshold*in_power_std:\n",
    "        retVal = True\n",
    "    return retVal\n",
    "    \n",
    "def Find_Slope(array, idx):\n",
    "    return array[idx+2] - array[idx]\n",
    "\n",
    "def Get_RFI_Duration(in_power_array, interval_start, interval_end):  #NOTE: This approach might have issues if the interval has a nan on it\n",
    "    #Find the first slope\n",
    "    first_slope = Find_Slope(in_power_array, interval_start)\n",
    "    #Initiate the RFI interval indexes at the boundaries of the set\n",
    "    RFI_start = interval_start\n",
    "    RFI_end = interval_end\n",
    "    #Initiate as the fastest rise & fall\n",
    "    steepest_rise = first_slope\n",
    "    steepest_fall = first_slope \n",
    "    start_idx = interval_start + 1  # Ignores the first slope (since it's already calculated)\n",
    "    end_idx = interval_end - 2      # Avoids overflowing (since each slope is calculated 2 indexes ahead)\n",
    "    for idx in range(start_idx, end_idx):\n",
    "        current_slope = Find_Slope(in_power_array, idx)\n",
    "        if(current_slope >  steepest_rise):\n",
    "            steepest_rise = current_slope\n",
    "            RFI_start = idx\n",
    "        elif(current_slope < steepest_fall):\n",
    "            steepest_fall = current_slope\n",
    "            RFI_end = idx + 2\n",
    "    return (RFI_end - RFI_start)\n",
    "\n",
    "\n",
    "def Get_RFI_Excision_Mask(time_array,in_power_array,time_steps,threshold):\n",
    "    mask = np.zeros([len(time_array)])  #Initiate empty mask\n",
    "    start_idx = time_steps\n",
    "    end_idx = len(time_array)-time_steps              \n",
    "    for idx in range(start_idx, end_idx):\n",
    "        if Is_RFI(in_power_array, threshold, idx, idx - time_steps, idx + time_steps):\n",
    "            RFI_duration = Get_RFI_Duration(in_power_array, idx - time_steps, idx + time_steps)\n",
    "            mask[idx - RFI_duration:idx + RFI_duration] = 1\n",
    "    return(mask)\n",
    "\n",
    "def Apply_RFI_Excision_Mask(mask, input_array):\n",
    "    masked_copy = input_array.copy()\n",
    "    for idx in range(0, len(input_array)-1):\n",
    "        if(mask[idx] == 1):\n",
    "            masked_copy[idx] = np.nan\n",
    "    return(masked_copy)\n",
    "\n"
   ]
  },
  {
   "cell_type": "code",
   "execution_count": 7,
   "metadata": {},
   "outputs": [
    {
     "name": "stdout",
     "output_type": "stream",
     "text": [
      "850.0\n"
     ]
    }
   ],
   "source": [
    "df = freq_set[1]-freq_set[0]\n",
    "w = np.where( abs(freq_set-fr_plot) < df/2.)[0][0]\n",
    "print(freq_set[w])\n",
    "\n",
    "time_steps = 30\n",
    "threshold = 4\n",
    "\n",
    "polarized_mask = Get_RFI_Excision_Mask(t_plt,polarized_plot,time_steps,threshold)\n",
    "RR_with_polarized_mask = Apply_RFI_Excision_Mask(polarized_mask, RR_set[:,w])\n",
    "polarized_plot_masked = Apply_RFI_Excision_Mask(polarized_mask, polarized_plot)\n"
   ]
  },
  {
   "cell_type": "code",
   "execution_count": 8,
   "metadata": {},
   "outputs": [
    {
     "data": {
      "application/vnd.jupyter.widget-view+json": {
       "model_id": "68256fec44b741f184b0bec8073a64cc",
       "version_major": 2,
       "version_minor": 0
      },
      "text/plain": [
       "interactive(children=(IntSlider(value=9474, description='x', max=18949), IntSlider(value=75, description='x_zo…"
      ]
     },
     "metadata": {},
     "output_type": "display_data"
    },
    {
     "data": {
      "text/plain": [
       "<function __main__.Interactive_Plotter2(x, x_zoom, y, y_zoom)>"
      ]
     },
     "execution_count": 8,
     "metadata": {},
     "output_type": "execute_result"
    }
   ],
   "source": [
    "def Interactive_Plotter2(x, x_zoom, y, y_zoom):\n",
    "    fig,axs = plt.subplots(1,1,figsize=(20,6))    \n",
    "    axs.set_ylim(y*1e7,y*1e7+y_zoom*1e7)\n",
    "    axs.plot(t_plt,RR_set[:,w], label = 'RR RFI')\n",
    "    # axs.plot(t_plt,ymasked_plt, label = 'RR - AO')\n",
    "    axs.plot(t_plt, RR_with_polarized_mask, label = 'RR with polarized mask')\n",
    "    axs.plot(t_plt,polarized_plot, label = 'Polarized Intensity RFI')\n",
    "    axs.plot(t_plt,polarized_plot_masked, label = 'Polarized Intensity')\n",
    "    zoom_sensitivity = 1.2\n",
    "    x_window = int(len(t_plt)/(x_zoom**(1/zoom_sensitivity)))\n",
    "    if(x_zoom == 1):                                            #Plots the entire set\n",
    "        axs.set_xlim(t_plt[0], t_plt[len(t_plt)-1])         \n",
    "    elif(x + x_window <= len(t_plt) -1):                        #Stops from overflowing the right-most limit\n",
    "        axs.set_xlim(t_plt[x], t_plt[x + x_window])\n",
    "    else:\n",
    "        axs.set_xlim(t_plt[x-x_window], t_plt[len(t_plt)-1])    #Plots between x and x+x_window\n",
    "\n",
    "    axs.grid()\n",
    "    axs.legend()\n",
    "    axs.set_title(\"RFI Excision Test\")\n",
    "    axs.set_xlabel(\"Time (UTC)\")\n",
    "    axs.set_ylabel(\"Power\")\n",
    "    axs.xaxis.set_major_formatter(mdates.DateFormatter('%H:%M:%S'))\n",
    "    axs.fmt_xdata = mdates.DateFormatter('%H:%M:%S')\n",
    "\n",
    "interact(Interactive_Plotter2, x=(0,len(t_plt)-1), x_zoom=(1,150), y=(0,6), y_zoom=(3,15, 0.05))\n"
   ]
  }
 ],
 "metadata": {
  "interpreter": {
   "hash": "ad2bdc8ecc057115af97d19610ffacc2b4e99fae6737bb82f5d7fb13d2f2c186"
  },
  "kernelspec": {
   "display_name": "Python 3.8.8 ('base')",
   "language": "python",
   "name": "python3"
  },
  "language_info": {
   "codemirror_mode": {
    "name": "ipython",
    "version": 3
   },
   "file_extension": ".py",
   "mimetype": "text/x-python",
   "name": "python",
   "nbconvert_exporter": "python",
   "pygments_lexer": "ipython3",
   "version": "3.8.8"
  },
  "orig_nbformat": 4
 },
 "nbformat": 4,
 "nbformat_minor": 2
}
