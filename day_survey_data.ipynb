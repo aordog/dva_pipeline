{
 "cells": [
  {
   "cell_type": "markdown",
   "id": "261e95ca",
   "metadata": {},
   "source": [
    "### Import packages:"
   ]
  },
  {
   "cell_type": "code",
   "execution_count": 1,
   "id": "01308029",
   "metadata": {},
   "outputs": [],
   "source": [
    "# import dva_sdhdf_combine\n",
    "import imp\n",
    "import os\n",
    "import subprocess\n",
    "import h5py\n",
    "import numpy as np\n",
    "from astropy.time import Time\n",
    "import matplotlib.pyplot as plt\n",
    "from scipy.interpolate import griddata\n",
    "import datetime\n",
    "import matplotlib.dates as mdates\n",
    "from matplotlib.dates import HourLocator as HourLocator\n",
    "from matplotlib.dates import MinuteLocator as MinuteLocator\n",
    "from mpl_toolkits.axes_grid1 import make_axes_locatable\n",
    "from astropy import units as u\n",
    "from astropy.time import TimeDelta\n",
    "from ipywidgets import interact\n",
    "\n",
    "#### Change the directory to where the files are located\" ####\n",
    "day ='25'\n",
    "directory = '../DVA/Data_Files/DVA_Day_Surveys/'\n",
    "\n",
    "### Change the scan details to your current scan\n",
    "df = 0.5        \n",
    "dt = 6.9444431574083865e-06\n",
    "\n",
    "#TODO: actually do the scan properties definition in the beginning\n",
    "##############################################################"
   ]
  },
  {
   "cell_type": "markdown",
   "id": "132afaa7",
   "metadata": {},
   "source": [
    "### Read in the file listing azimuth scan start and stop times:"
   ]
  },
  {
   "cell_type": "code",
   "execution_count": 2,
   "id": "7fdd04b8",
   "metadata": {},
   "outputs": [
    {
     "name": "stdout",
     "output_type": "stream",
     "text": [
      "1052 2022-07-04T03:57:53.110 2022-07-04T04:15:55.184\n",
      "2565 2022-07-04T04:20:37.406 2022-07-04T04:38:39.310\n",
      "2566 2022-07-04T04:40:22.266 2022-07-04T04:58:24.003\n",
      "1271 2022-07-04T05:03:42.716 2022-07-04T05:21:44.818\n",
      "1272 2022-07-04T05:23:27.291 2022-07-04T05:41:29.292\n",
      "2857 2022-07-04T05:48:35.269 2022-07-04T06:06:37.317\n",
      "0124 2022-07-04T06:11:19.190 2022-07-04T06:29:21.101\n",
      "1637 2022-07-04T06:34:03.920 2022-07-04T06:52:06.005\n",
      "0342 2022-07-04T06:57:23.897 2022-07-04T07:15:25.930\n",
      "1927 2022-07-04T07:21:55.804 2022-07-04T07:39:58.034\n",
      "1928 2022-07-04T07:42:16.530 2022-07-04T08:00:18.319\n",
      "2001 2022-07-04T08:03:48.814 2022-07-04T08:21:51.062\n",
      "2002 2022-07-04T08:24:09.373 2022-07-04T08:42:11.545\n",
      "2075 2022-07-04T08:45:41.821 2022-07-04T09:03:44.188\n",
      "2148 2022-07-04T09:07:50.625 2022-07-04T09:25:52.832\n",
      "2149 2022-07-04T09:27:35.229 2022-07-04T09:45:37.044\n",
      "2150 2022-07-04T09:47:56.026 2022-07-04T10:05:57.828\n",
      "2151 2022-07-04T10:07:40.752 2022-07-04T10:25:42.662\n",
      "2152 2022-07-04T10:27:25.410 2022-07-04T10:45:27.414\n",
      "2153 2022-07-04T10:47:46.110 2022-07-04T11:05:48.028\n",
      "0858 2022-07-04T11:10:30.298 2022-07-04T11:28:32.281\n",
      "0859 2022-07-04T11:30:50.747 2022-07-04T11:48:52.934\n",
      "2372 2022-07-04T11:53:35.348 2022-07-04T12:11:37.677\n"
     ]
    }
   ],
   "source": [
    "scan_id = []    # The scan id number\n",
    "scan_start = []  # Start time of the scan (UTC)\n",
    "scan_stop = []   # Stop time of the scan (UTC)\n",
    "\n",
    "# Read in the data and store it in arrays:\n",
    "with open(directory+'DVAsurvey_phase1_day0'+day+'.txt') as fp:\n",
    "    for line in fp:       \n",
    "        scan_id.append(int(line.split()[0]))\n",
    "        scan_start.append(line.split()[1]+'T'+line.split()[2][0:12])\n",
    "        scan_stop.append(line.split()[3]+'T'+line.split()[4][0:12])\n",
    "        \n",
    "# Print out the scan numbers with their start and stop times:\n",
    "for i in range(0,len(scan_id)):\n",
    "    print(f\"{scan_id[i]:04}\",scan_start[i],scan_stop[i])\n",
    "\n",
    "# Convert start and stop times to Modified Julian Day (MJD).\n",
    "# This is needed for plotting and for selecting out data collected\n",
    "# between particular times:\n",
    "scan_start_mjd = Time(scan_start, format='isot',scale='utc').mjd\n",
    "scan_stop_mjd  = Time(scan_stop,  format='isot',scale='utc').mjd\n"
   ]
  },
  {
   "cell_type": "markdown",
   "id": "3adbc96b",
   "metadata": {},
   "source": [
    "## Read in scan files and stich them together:"
   ]
  },
  {
   "cell_type": "code",
   "execution_count": 9,
   "id": "4737412e",
   "metadata": {},
   "outputs": [
    {
     "name": "stdout",
     "output_type": "stream",
     "text": [
      "1052\n",
      "<HDF5 file \"dva_survey_raw_scan_1052.h5\" (mode r)>\n",
      "2565\n",
      "<HDF5 file \"dva_survey_raw_scan_2565.h5\" (mode r)>\n",
      "2566\n",
      "<HDF5 file \"dva_survey_raw_scan_2566.h5\" (mode r)>\n",
      "1271\n",
      "<HDF5 file \"dva_survey_raw_scan_1271.h5\" (mode r)>\n",
      "1272\n",
      "<HDF5 file \"dva_survey_raw_scan_1272.h5\" (mode r)>\n",
      "2857\n",
      "<HDF5 file \"dva_survey_raw_scan_2857.h5\" (mode r)>\n",
      "124\n",
      "<HDF5 file \"dva_survey_raw_scan_0124.h5\" (mode r)>\n",
      "1637\n",
      "<HDF5 file \"dva_survey_raw_scan_1637.h5\" (mode r)>\n",
      "342\n",
      "<HDF5 file \"dva_survey_raw_scan_0342.h5\" (mode r)>\n",
      "1927\n",
      "<HDF5 file \"dva_survey_raw_scan_1927.h5\" (mode r)>\n",
      "1928\n",
      "<HDF5 file \"dva_survey_raw_scan_1928.h5\" (mode r)>\n",
      "2001\n",
      "<HDF5 file \"dva_survey_raw_scan_2001.h5\" (mode r)>\n",
      "2002\n",
      "<HDF5 file \"dva_survey_raw_scan_2002.h5\" (mode r)>\n",
      "2075\n",
      "<HDF5 file \"dva_survey_raw_scan_2075.h5\" (mode r)>\n",
      "2148\n",
      "<HDF5 file \"dva_survey_raw_scan_2148.h5\" (mode r)>\n",
      "2149\n",
      "<HDF5 file \"dva_survey_raw_scan_2149.h5\" (mode r)>\n",
      "2150\n",
      "<HDF5 file \"dva_survey_raw_scan_2150.h5\" (mode r)>\n",
      "2151\n",
      "<HDF5 file \"dva_survey_raw_scan_2151.h5\" (mode r)>\n",
      "2152\n",
      "<HDF5 file \"dva_survey_raw_scan_2152.h5\" (mode r)>\n",
      "2153\n",
      "<HDF5 file \"dva_survey_raw_scan_2153.h5\" (mode r)>\n",
      "858\n",
      "<HDF5 file \"dva_survey_raw_scan_0858.h5\" (mode r)>\n",
      "859\n",
      "<HDF5 file \"dva_survey_raw_scan_0859.h5\" (mode r)>\n",
      "2372\n",
      "<HDF5 file \"dva_survey_raw_scan_2372.h5\" (mode r)>\n"
     ]
    }
   ],
   "source": [
    "t_set = []\n",
    "az_set = []\n",
    "dec_set = []\n",
    "ra_set = []\n",
    "el_set = []\n",
    "noise_set = []\n",
    "trim_flag = []\n",
    "\n",
    "scan0 = f\"{scan_id[0]:04}\"\n",
    "\n",
    "# Use one of the scans to get the list of frequencies:\n",
    "file = h5py.File(directory+'dva_survey_raw_scan_'+scan0+'.h5','r')\n",
    "freq = file['data']['beam_0']['band_SB0']['frequency'][::12]/1e6\n",
    "\n",
    "# Create empty arrays for the power data:\n",
    "RR_set_raw = np.empty([0,len(freq)])\n",
    "LL_set_raw = np.empty([0,len(freq)])\n",
    "reRL_set_raw = np.empty([0,len(freq)])\n",
    "imRL_set_raw = np.empty([0,len(freq)])\n",
    "\n",
    "# Loop through all the scans in the \"scan_num\" list:\n",
    "for i in scan_id:\n",
    "    print(i)\n",
    "    # select the file:\n",
    "    file = h5py.File(directory+'dva_survey_raw_scan_'+f\"{i:04}\"+'.h5','r')\n",
    "    print(file)\n",
    "    \n",
    "    # access the correct location in the file structure:\n",
    "    dataset = file['data']['beam_0']['band_SB0']['scan_0']\n",
    "    \n",
    "    # Add the position and time data to the corresponding arrays:\n",
    "    # dec_set = np.concatenate([dec_set,dataset['metadata']['declination']])\n",
    "    # ra_set = np.concatenate([ra_set,dataset['metadata']['right_ascension']])\n",
    "    # el_set = np.concatenate([el_set,dataset['metadata']['elevation']])\n",
    "    # az_set = np.concatenate([az_set,dataset['metadata']['azimuth']])\n",
    "    t_set = np.concatenate([t_set,dataset['metadata']['utc']])\n",
    "    noise_set = np.concatenate([noise_set,dataset['metadata']['noise_state']]) #This is a \"mask\" for noise regions 1 = noise 0=all good\n",
    "    # trim_flag = np.concatenate([trim_flag,dataset['metadata']['trim_scan_flag']])\n",
    "    \n",
    "    # Add the spectrometer power data to the corresponding arrays:\n",
    "    freq_channel_increment = 12 #TODO: I'll have to change this to 1 once I am sure I'm reading the data correctly\n",
    "    RR_set_raw = np.concatenate([RR_set_raw,dataset['data'][:,0,::freq_channel_increment]],axis=0)\n",
    "    LL_set_raw = np.concatenate([LL_set_raw,dataset['data'][:,1,::freq_channel_increment]],axis=0)\n",
    "    reRL_set_raw = np.concatenate([reRL_set_raw,dataset['data'][:,2,::freq_channel_increment]],axis=0)\n",
    "    imRL_set_raw = np.concatenate([imRL_set_raw,dataset['data'][:,3,::freq_channel_increment]],axis=0)\n",
    "    \n",
    "t_set_plt = Time(t_set, format='isot',scale='utc').mjd"
   ]
  },
  {
   "cell_type": "markdown",
   "id": "29db1ea5",
   "metadata": {},
   "source": [
    "### Import Leo's functions for RFI Excision"
   ]
  },
  {
   "cell_type": "markdown",
   "id": "e85baeba",
   "metadata": {},
   "source": [
    "# NEW RFI_Excision functions (WORK IN PROGRESS)"
   ]
  },
  {
   "cell_type": "code",
   "execution_count": 4,
   "id": "b9cd4790",
   "metadata": {},
   "outputs": [
    {
     "name": "stdout",
     "output_type": "stream",
     "text": [
      "1052\n",
      "<HDF5 file \"dva_survey_raw_scan_1052.h5\" (mode r)>\n",
      "2565\n",
      "<HDF5 file \"dva_survey_raw_scan_2565.h5\" (mode r)>\n",
      "2566\n",
      "<HDF5 file \"dva_survey_raw_scan_2566.h5\" (mode r)>\n",
      "1271\n",
      "<HDF5 file \"dva_survey_raw_scan_1271.h5\" (mode r)>\n",
      "1272\n",
      "<HDF5 file \"dva_survey_raw_scan_1272.h5\" (mode r)>\n",
      "2857\n",
      "<HDF5 file \"dva_survey_raw_scan_2857.h5\" (mode r)>\n",
      "124\n",
      "<HDF5 file \"dva_survey_raw_scan_0124.h5\" (mode r)>\n",
      "1637\n",
      "<HDF5 file \"dva_survey_raw_scan_1637.h5\" (mode r)>\n",
      "342\n",
      "<HDF5 file \"dva_survey_raw_scan_0342.h5\" (mode r)>\n",
      "1927\n",
      "<HDF5 file \"dva_survey_raw_scan_1927.h5\" (mode r)>\n",
      "1928\n",
      "<HDF5 file \"dva_survey_raw_scan_1928.h5\" (mode r)>\n",
      "2001\n",
      "<HDF5 file \"dva_survey_raw_scan_2001.h5\" (mode r)>\n",
      "2002\n",
      "<HDF5 file \"dva_survey_raw_scan_2002.h5\" (mode r)>\n",
      "2075\n",
      "<HDF5 file \"dva_survey_raw_scan_2075.h5\" (mode r)>\n",
      "2148\n",
      "<HDF5 file \"dva_survey_raw_scan_2148.h5\" (mode r)>\n",
      "2149\n",
      "<HDF5 file \"dva_survey_raw_scan_2149.h5\" (mode r)>\n",
      "2150\n",
      "<HDF5 file \"dva_survey_raw_scan_2150.h5\" (mode r)>\n",
      "2151\n",
      "<HDF5 file \"dva_survey_raw_scan_2151.h5\" (mode r)>\n",
      "2152\n",
      "<HDF5 file \"dva_survey_raw_scan_2152.h5\" (mode r)>\n",
      "2153\n",
      "<HDF5 file \"dva_survey_raw_scan_2153.h5\" (mode r)>\n",
      "858\n",
      "<HDF5 file \"dva_survey_raw_scan_0858.h5\" (mode r)>\n",
      "859\n",
      "<HDF5 file \"dva_survey_raw_scan_0859.h5\" (mode r)>\n",
      "2372\n",
      "<HDF5 file \"dva_survey_raw_scan_2372.h5\" (mode r)>\n",
      "[b'2022-07-04T03:57:53.200004Z' b'2022-07-04T03:57:53.800004Z'\n",
      " b'2022-07-04T03:57:54.400004Z' ... b'2022-07-04T12:11:36.400004Z'\n",
      " b'2022-07-04T12:11:37.000004Z' b'2022-07-04T12:11:37.600004Z']\n"
     ]
    }
   ],
   "source": []
  },
  {
   "cell_type": "markdown",
   "id": "b826cf9e",
   "metadata": {},
   "source": [
    "### Read in the times when the noise source was turned on, and mask this out in the power data:"
   ]
  },
  {
   "cell_type": "code",
   "execution_count": 10,
   "id": "618d761c",
   "metadata": {},
   "outputs": [
    {
     "ename": "FileNotFoundError",
     "evalue": "[Errno 2] No such file or directory: '../DVA/Data_Files/DVA_Day_Surveys/noise_mini_survey_part1.txt'",
     "output_type": "error",
     "traceback": [
      "\u001b[1;31m---------------------------------------------------------------------------\u001b[0m",
      "\u001b[1;31mFileNotFoundError\u001b[0m                         Traceback (most recent call last)",
      "\u001b[1;32m<ipython-input-10-1faa98045d52>\u001b[0m in \u001b[0;36m<module>\u001b[1;34m\u001b[0m\n\u001b[0;32m      2\u001b[0m \u001b[0mt_noise2\u001b[0m \u001b[1;33m=\u001b[0m \u001b[1;33m[\u001b[0m\u001b[1;33m]\u001b[0m\u001b[1;33m\u001b[0m\u001b[1;33m\u001b[0m\u001b[0m\n\u001b[0;32m      3\u001b[0m \u001b[1;33m\u001b[0m\u001b[0m\n\u001b[1;32m----> 4\u001b[1;33m \u001b[1;32mwith\u001b[0m \u001b[0mopen\u001b[0m\u001b[1;33m(\u001b[0m\u001b[0mdirectory\u001b[0m\u001b[1;33m+\u001b[0m\u001b[1;34m'noise_mini_survey_part1.txt'\u001b[0m\u001b[1;33m)\u001b[0m \u001b[1;32mas\u001b[0m \u001b[0mfp\u001b[0m\u001b[1;33m:\u001b[0m\u001b[1;33m\u001b[0m\u001b[1;33m\u001b[0m\u001b[0m\n\u001b[0m\u001b[0;32m      5\u001b[0m     \u001b[1;32mfor\u001b[0m \u001b[0mline\u001b[0m \u001b[1;32min\u001b[0m \u001b[0mfp\u001b[0m\u001b[1;33m:\u001b[0m\u001b[1;33m\u001b[0m\u001b[1;33m\u001b[0m\u001b[0m\n\u001b[0;32m      6\u001b[0m         \u001b[0mt_noise1\u001b[0m\u001b[1;33m.\u001b[0m\u001b[0mappend\u001b[0m\u001b[1;33m(\u001b[0m\u001b[0mline\u001b[0m\u001b[1;33m.\u001b[0m\u001b[0msplit\u001b[0m\u001b[1;33m(\u001b[0m\u001b[1;33m)\u001b[0m\u001b[1;33m[\u001b[0m\u001b[1;36m0\u001b[0m\u001b[1;33m]\u001b[0m\u001b[1;33m+\u001b[0m\u001b[1;34m'T'\u001b[0m\u001b[1;33m+\u001b[0m\u001b[0mline\u001b[0m\u001b[1;33m.\u001b[0m\u001b[0msplit\u001b[0m\u001b[1;33m(\u001b[0m\u001b[1;33m)\u001b[0m\u001b[1;33m[\u001b[0m\u001b[1;36m1\u001b[0m\u001b[1;33m]\u001b[0m\u001b[1;33m[\u001b[0m\u001b[1;36m0\u001b[0m\u001b[1;33m:\u001b[0m\u001b[1;36m12\u001b[0m\u001b[1;33m]\u001b[0m\u001b[1;33m)\u001b[0m\u001b[1;33m\u001b[0m\u001b[1;33m\u001b[0m\u001b[0m\n",
      "\u001b[1;31mFileNotFoundError\u001b[0m: [Errno 2] No such file or directory: '../DVA/Data_Files/DVA_Day_Surveys/noise_mini_survey_part1.txt'"
     ]
    }
   ],
   "source": [
    "t_noise1 = []\n",
    "t_noise2 = []\n",
    "\n",
    "with open(directory+'noise_mini_survey_part1.txt') as fp:\n",
    "    for line in fp:       \n",
    "        t_noise1.append(line.split()[0]+'T'+line.split()[1][0:12])\n",
    "        t_noise2.append(line.split()[2]+'T'+line.split()[3][0:12])\n",
    "\n",
    "t_noise1_plt = Time(t_noise1, format='isot',scale='utc').mjd\n",
    "t_noise2_plt = Time(t_noise2, format='isot',scale='utc').mjd\n",
    "\n",
    "# Buffer time (in seconds) around data points where noise source\n",
    "# is being turned on or off:\n",
    "t_buff = 1./(3600.*24.)\n",
    "\n",
    "# Make copies of the arrays in which noise will be masked out:\n",
    "RR_set = RR_set_raw.copy()\n",
    "LL_set = LL_set_raw.copy()\n",
    "reRL_set = reRL_set_raw.copy()\n",
    "imRL_set = imRL_set_raw.copy()\n",
    "\n",
    "print(len(LL_set))\n",
    "\n",
    "# #Extract masks TODO: Currenct my Get_RFI_Excision_Mask only works for a single frequency\n",
    "# time_steps = 30\n",
    "# threshold = 4\n",
    "# RR_mask = Get_RFI_Excision_Mask(t_plt, RR_set, time_steps, threshold)\n",
    "# LL_mask = Get_RFI_Excision_Mask(t_plt, LL_set, time_steps, threshold)\n",
    "# reRL_mask = Get_RFI_Excision_Mask(t_plt, reRL_set, time_steps, threshold)\n",
    "# imRL_mask = Get_RFI_Excision_Mask(t_plt, imRL_set, time_steps, threshold)\n",
    "\n",
    "# Loop through times when noise source was turned on and replace\n",
    "# data values with NaN at those times:\n",
    "for i in range(0,len(t_noise1)):\n",
    "    wnoise_sub_rem = np.where( (t_plt >= t_noise1_plt[i]-t_buff) & (t_plt <= t_noise2_plt[i]+t_buff) )[0]\n",
    "    RR_set[wnoise_sub_rem,:] = np.nan\n",
    "    LL_set[wnoise_sub_rem,:] = np.nan\n",
    "    reRL_set[wnoise_sub_rem,:] = np.nan\n",
    "    imRL_set[wnoise_sub_rem,:] = np.nan"
   ]
  },
  {
   "cell_type": "code",
   "execution_count": null,
   "id": "336510ee",
   "metadata": {},
   "outputs": [
    {
     "data": {
      "application/vnd.jupyter.widget-view+json": {
       "model_id": "d5a6e09201a148ccb42518f0de11e235",
       "version_major": 2,
       "version_minor": 0
      },
      "text/plain": [
       "interactive(children=(Checkbox(value=True, description='waterfall_enabled'), Output()), _dom_classes=('widget-…"
      ]
     },
     "metadata": {},
     "output_type": "display_data"
    },
    {
     "data": {
      "text/plain": [
       "<function __main__.DVA_Visualization(waterfall_enabled)>"
      ]
     },
     "execution_count": 9,
     "metadata": {},
     "output_type": "execute_result"
    }
   ],
   "source": [
    "#TODO: Maybe I could create an interactive plot that if I tick a box I could flip to a power vs frequency plot or power vs time plot\n",
    "#I should have a knob for changing frequency and time\n",
    "#I could also introduce a vertical line to show which slice I'm currently at to help navigating through the data\n",
    "df = freq[1]-freq[0]\n",
    "\n",
    "def DVA_Waterfall_View(scan_id, show_all_scans):\n",
    "    #TODO: Add another DVA_Waterfall interactive_function such that I can change between LL_Set, RR_set, etc...\n",
    "    power_min = 70\n",
    "    power_max = 78\n",
    "    if not show_all_scans:\n",
    "        w = np.where(np.array(scan_num) == scan_id)[0][0]\n",
    "        t1_plt = scan_start_mjd[w]\n",
    "        t2_plt = scan_stop_mjd[w]\n",
    "        ######################################\n",
    "        wplot = np.where( (t_plt <= t2_plt) & (t_plt >= t1_plt) )\n",
    "\n",
    "        time_plot = t_plt[wplot]\n",
    "\n",
    "        fig,axs = plt.subplots(1,1,figsize=(15,10)) \n",
    "        fs = 16\n",
    "\n",
    "        im = axs.imshow(10.*np.log10(LL_set[wplot].T),aspect='auto',vmin=power_min,vmax=power_max,origin='lower',\n",
    "                    extent=[time_plot[0],time_plot[-1],freq[0],freq[-1]])\n",
    "\n",
    "        divider = make_axes_locatable(axs)\n",
    "        cax = divider.append_axes('right', size='2%', pad=0.05)\n",
    "        cbar = fig.colorbar(im, cax=cax, orientation='vertical')\n",
    "        cbar.ax.tick_params(labelsize=fs) \n",
    "        cbar.set_label('Power (dB)', fontsize=fs)\n",
    "\n",
    "        axs.set_xlim(time_plot[0],time_plot[-1])\n",
    "        axs.set_ylim(freq[0],freq[-1])\n",
    "        axs.tick_params(axis='both', labelsize=fs)\n",
    "        axs.xaxis.set_major_formatter(mdates.DateFormatter('%H:%M:%S'))\n",
    "        axs.fmt_xdata = mdates.DateFormatter('%H:%M:%S')\n",
    "        axs.set_xlabel('Time (UTC)',fontsize=fs)        \n",
    "        axs.set_ylabel('Frequency (MHz)',fontsize=fs)\n",
    "    else:\n",
    "        fig,axs = plt.subplots(1,1,figsize=(15,10)) \n",
    "        fs = 16\n",
    "\n",
    "        im = axs.imshow(10.*np.log10(LL_set.T),aspect='auto',vmin=power_min,vmax=power_max,origin='lower',\n",
    "                    extent=[t_plt[0],t_plt[-1],freq[0],freq[-1]])\n",
    "\n",
    "        divider = make_axes_locatable(axs)\n",
    "        cax = divider.append_axes('right', size='2%', pad=0.05)\n",
    "        cbar = fig.colorbar(im, cax=cax, orientation='vertical')\n",
    "        cbar.ax.tick_params(labelsize=fs) \n",
    "        cbar.set_label('Power (dB)', fontsize=fs)\n",
    "\n",
    "        axs.set_xlim(t_plt[0],t_plt[-1])\n",
    "        axs.set_ylim(freq[0],freq[-1])\n",
    "        axs.tick_params(axis='both', labelsize=fs)\n",
    "        axs.xaxis.set_major_formatter(mdates.DateFormatter('%H:%M:%S'))\n",
    "        axs.fmt_xdata = mdates.DateFormatter('%H:%M:%S')\n",
    "        axs.set_xlabel('Time (UTC)',fontsize=fs)        \n",
    "        axs.set_ylabel('Frequency (MHz)',fontsize=fs)\n",
    "\n",
    "def DVA_Cross_Sections(scan_id, freq_chosen, time_idx, freq_cross_section):\n",
    "    freq_measured = np.where(abs(freq-freq_chosen)<df)[0][0]\n",
    "    \n",
    "    w = np.where(np.array(scan_num) == scan_id)[0][0]\n",
    "    t1 = scan_start[w]\n",
    "    t2 = scan_stop[w]\n",
    "    t1_plt = scan_start_mjd[w]\n",
    "    t2_plt = scan_stop_mjd[w]\n",
    "    \n",
    "    wplot = np.where((t_plt>=t1_plt) & (t_plt<=t2_plt))\n",
    "    \n",
    "    polarized_set = Get_Polarized_Set(reRL_set, imRL_set, freq_measured)\n",
    "    time_steps = 30\n",
    "    threshold = 4\n",
    "    polarized_mask = Get_RFI_Excision_Mask(t_plt[wplot], polarized_set[wplot], time_steps, threshold)\n",
    "    LL_set_with_polarized_mask = Apply_RFI_Excision_Mask(polarized_mask, LL_set[wplot])\n",
    "    \n",
    "    fs = 12\n",
    "    fig, axs = plt.subplots(1,1,figsize=(12,6))\n",
    "    axs.scatter(ra_set_deg[wplot], dec_set[wplot],s=2,c=10.*np.log10(LL_set[wplot,freq_measured]),\n",
    "                cmap='viridis',vmin=70.5, vmax=71.5)\n",
    "    axs.set_xlabel('RA (deg.)',fontsize=fs)\n",
    "    axs.set_ylabel('dec (deg.)',fontsize=fs)\n",
    "    axs.tick_params(axis=\"x\", labelsize=fs)\n",
    "    axs.tick_params(axis=\"y\", labelsize=fs)\n",
    "    axs.set_xlim(360,0)\n",
    "    axs.set_ylim(0,90)\n",
    "    axs.set(aspect='equal')\n",
    "    axs.grid()\n",
    "    \n",
    "    \n",
    "    fig,axs1 = plt.subplots(1,1,figsize=(16,6))  \n",
    "    # TODO: use the log of LL_set_clean\n",
    "\n",
    "    if(freq_cross_section):\n",
    "        time_chosen = int(time_idx/len(LL_set_with_polarized_mask)) #NOTE: I have no idea what 100 actually means\n",
    "        axs1.plot(freq, LL_set_with_polarized_mask[time_chosen,:], label = 'LL_set with polarized mask')   #I need to plot freq vs power\n",
    "        axs1.vlines(freq_chosen, 0 , 100e9, color = 'red')\n",
    "        axs1.set_ylim(0, np.max(LL_set_with_polarized_mask[time_chosen,:]))\n",
    "        axs1.set_xlabel('Frequency',fontsize=fs)\n",
    "        axs1.set_ylabel('Power',fontsize=fs)\n",
    "    else:\n",
    "        # axs.plot(t_plt_one_scan,wplot[0])\n",
    "        axs1.plot(t_plt[wplot], LL_set[wplot,freq_measured][0], label = 'LL_set unmasked RFI')\n",
    "        axs1.plot(t_plt[wplot], LL_set_with_polarized_mask[:,freq_measured], label = 'LL_set with polarized mask')\n",
    "        axs1.plot(t_plt[wplot], polarized_set[wplot], label = 'polarized set')\n",
    "        axs1.set_ylim(0, np.nanmax(LL_set_with_polarized_mask[:,freq_measured]))\n",
    "        axs1.vlines(t_plt[time_idx], 0 , 100e9, color = 'red')\n",
    "\n",
    "        axs1.xaxis.set_major_formatter(mdates.DateFormatter('%H:%M:%S'))\n",
    "        axs1.fmt_xdata = mdates.DateFormatter('%H:%M:%S')\n",
    "        axs1.set_xlabel('Time (UTC)',fontsize=fs)\n",
    "        axs1.set_ylabel('Power',fontsize=fs)\n",
    "        axs1.legend()\n",
    "\n",
    "def DVA_Visualization(waterfall_enabled):             #TODO: use t_plt, polarized_plot, ymasked as inputs on this function so I can use it at different locations\n",
    "    if waterfall_enabled:\n",
    "        interact(DVA_Waterfall_View, scan_id = (2,12), show_all_scans = False)\n",
    "    else:\n",
    "        interact(DVA_Cross_Sections, scan_id = (2,12), freq_chosen = (350, 1000, df), freq_cross_section = False, time_idx = (0,len(t_plt)-1))\n",
    "\n",
    "\n",
    "interact(DVA_Visualization, waterfall_enabled = True)\n",
    "\n",
    "#TODO: I could try to figure out if I could zoom in on time, and adjust the dec vs RA plot accordingly\n",
    "#TODO: plot power in DB"
   ]
  },
  {
   "cell_type": "code",
   "execution_count": null,
   "id": "2744f954",
   "metadata": {},
   "outputs": [
    {
     "name": "stdout",
     "output_type": "stream",
     "text": [
      "input starting frequency: 850\n",
      "closest frequency measured: 849.75\n",
      "possible RFI events: 4\n",
      "confirmed RFI events: 4\n"
     ]
    },
    {
     "data": {
      "text/plain": [
       "Text(0, 0.5, 'Frequency (MHz)')"
      ]
     },
     "execution_count": 10,
     "metadata": {},
     "output_type": "execute_result"
    },
    {
     "data": {
      "image/png": "[encoded data removed]",
      "text/plain": [
       "<Figure size 1080x720 with 2 Axes>"
      ]
     },
     "metadata": {
      "needs_background": "light"
     },
     "output_type": "display_data"
    }
   ],
   "source": [
    "time_steps = 30\n",
    "slope_threshold = 10000 #This number needs to be adjusted in order to correctly filter out non-RFI NOTE: 5000 works\n",
    "LL_Set_RFI_Regions = Find_RFI_Regions(t_plt, LL_set, time_steps, slope_threshold, 850) #Returns an array of [freq, df, time, dt]\n",
    "\n",
    "first_RFI_region = LL_Set_RFI_Regions[3]\n",
    "\n",
    "#Try plotting the first RFI_Region\n",
    "\n",
    "power_min = 69\n",
    "power_max = 75\n",
    "\n",
    "t1_plt = first_RFI_region[2] - first_RFI_region[3]\n",
    "t2_plt = first_RFI_region[2] + first_RFI_region[3]\n",
    "\n",
    "freq1 = first_RFI_region[0] - first_RFI_region[1]\n",
    "freq2 = first_RFI_region[0] + first_RFI_region[1]\n",
    "######################################\n",
    "rfi_start_idx = find_nearest_idx(t_plt, t1_plt)\n",
    "rfi_end_idx = find_nearest_idx(t_plt, t2_plt)\n",
    "\n",
    "f_plt_start_idx = find_nearest_idx(freq, freq1)\n",
    "f_plt_end_idx = find_nearest_idx(freq, freq2)\n",
    "\n",
    "RFI_duration_time = t_plt[rfi_start_idx: rfi_end_idx]\n",
    "\n",
    "RFI_freq_bandwith = freq[f_plt_start_idx: f_plt_end_idx]\n",
    "\n",
    "\n",
    "fig,axs = plt.subplots(1,1,figsize=(15,10)) \n",
    "fs = 16\n",
    "\n",
    "im = axs.imshow(10.*np.log10(LL_set[rfi_start_idx: rfi_end_idx,f_plt_start_idx: f_plt_end_idx].T),aspect='auto',vmin=power_min,vmax=power_max,origin='lower',\n",
    "            extent=[RFI_duration_time[0],RFI_duration_time[-1],RFI_freq_bandwith[0],RFI_freq_bandwith[-1]])\n",
    "\n",
    "divider = make_axes_locatable(axs)\n",
    "cax = divider.append_axes('right', size='2%', pad=0.05)\n",
    "cbar = fig.colorbar(im, cax=cax, orientation='vertical')\n",
    "cbar.ax.tick_params(labelsize=fs) \n",
    "cbar.set_label('Power (dB)', fontsize=fs)\n",
    "\n",
    "axs.set_xlim(RFI_duration_time[0],RFI_duration_time[-1])\n",
    "# axs.set_ylim(RFI_freq_bandwith[0],RFI_freq_bandwith[-1])\n",
    "axs.tick_params(axis='both', labelsize=fs)\n",
    "axs.xaxis.set_major_formatter(mdates.DateFormatter('%H:%M:%S'))\n",
    "axs.fmt_xdata = mdates.DateFormatter('%H:%M:%S')\n",
    "axs.set_xlabel('Time (UTC)',fontsize=fs)        \n",
    "axs.set_ylabel('Frequency (MHz)',fontsize=fs)\n",
    "\n",
    "#TODO: I don't think it's clear which region this method is flaggin as RFI\n"
   ]
  },
  {
   "cell_type": "code",
   "execution_count": null,
   "id": "ade17336",
   "metadata": {},
   "outputs": [
    {
     "name": "stdout",
     "output_type": "stream",
     "text": [
      "input starting frequency: 900\n",
      "closest frequency measured: 899.75\n",
      "possible RFI events: 2\n",
      "confirmed RFI events: 2\n"
     ]
    },
    {
     "data": {
      "text/plain": [
       "Text(0, 0.5, 'Frequency (MHz)')"
      ]
     },
     "execution_count": 11,
     "metadata": {},
     "output_type": "execute_result"
    },
    {
     "data": {
      "image/png": "[encoded data removed]",
      "text/plain": [
       "<Figure size 1080x720 with 2 Axes>"
      ]
     },
     "metadata": {
      "needs_background": "light"
     },
     "output_type": "display_data"
    }
   ],
   "source": [
    "time_steps = 30\n",
    "slope_threshold = 10000 #This number needs to be adjusted in order to correctly filter out non-RFI NOTE: 5000 works\n",
    "LL_Set_RFI_Regions = Find_RFI_Regions(t_plt, LL_set, time_steps, slope_threshold, 900) #Returns an array of [freq, df, time, dt]\n",
    "\n",
    "first_RFI_region = LL_Set_RFI_Regions[0]\n",
    "\n",
    "#Try plotting the first RFI_Region\n",
    "\n",
    "power_min = 70\n",
    "power_max = 78\n",
    "\n",
    "t1_plt = first_RFI_region[2] - first_RFI_region[3]\n",
    "t2_plt = first_RFI_region[2] + first_RFI_region[3]\n",
    "\n",
    "freq1 = first_RFI_region[0] - first_RFI_region[1]\n",
    "freq2 = first_RFI_region[0] + first_RFI_region[1]\n",
    "######################################\n",
    "rfi_start_idx = find_nearest_idx(t_plt, t1_plt)\n",
    "rfi_end_idx = find_nearest_idx(t_plt, t2_plt)\n",
    "\n",
    "f_plt_start_idx = find_nearest_idx(freq, freq1)\n",
    "f_plt_end_idx = find_nearest_idx(freq, freq2)\n",
    "\n",
    "RFI_duration_time = t_plt[rfi_start_idx: rfi_end_idx]\n",
    "\n",
    "RFI_freq_bandwith = freq[f_plt_start_idx: f_plt_end_idx]\n",
    "\n",
    "\n",
    "fig,axs = plt.subplots(1,1,figsize=(15,10)) \n",
    "fs = 16\n",
    "\n",
    "im = axs.imshow(10.*np.log10(LL_set[rfi_start_idx: rfi_end_idx,f_plt_start_idx: f_plt_end_idx].T),aspect='auto',vmin=power_min,vmax=power_max,origin='lower',\n",
    "            extent=[RFI_duration_time[0],RFI_duration_time[-1],RFI_freq_bandwith[0],RFI_freq_bandwith[-1]])\n",
    "\n",
    "divider = make_axes_locatable(axs)\n",
    "cax = divider.append_axes('right', size='2%', pad=0.05)\n",
    "cbar = fig.colorbar(im, cax=cax, orientation='vertical')\n",
    "cbar.ax.tick_params(labelsize=fs) \n",
    "cbar.set_label('Power (dB)', fontsize=fs)\n",
    "\n",
    "axs.set_xlim(RFI_duration_time[0],RFI_duration_time[-1])\n",
    "# axs.set_ylim(RFI_freq_bandwith[0],RFI_freq_bandwith[-1])\n",
    "axs.tick_params(axis='both', labelsize=fs)\n",
    "axs.xaxis.set_major_formatter(mdates.DateFormatter('%H:%M:%S'))\n",
    "axs.fmt_xdata = mdates.DateFormatter('%H:%M:%S')\n",
    "axs.set_xlabel('Time (UTC)',fontsize=fs)        \n",
    "axs.set_ylabel('Frequency (MHz)',fontsize=fs)\n",
    "\n",
    "#TODO: I don't think it's clear which region this method is flaggin as RFI\n"
   ]
  }
 ],
 "metadata": {
  "interpreter": {
   "hash": "ad2bdc8ecc057115af97d19610ffacc2b4e99fae6737bb82f5d7fb13d2f2c186"
  },
  "kernelspec": {
   "display_name": "Python 3.8.8 ('base')",
   "language": "python",
   "name": "python3"
  },
  "language_info": {
   "codemirror_mode": {
    "name": "ipython",
    "version": 3
   },
   "file_extension": ".py",
   "mimetype": "text/x-python",
   "name": "python",
   "nbconvert_exporter": "python",
   "pygments_lexer": "ipython3",
   "version": "3.8.8"
  }
 },
 "nbformat": 4,
 "nbformat_minor": 5
}
