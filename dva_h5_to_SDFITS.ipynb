{
 "cells": [
  {
   "cell_type": "markdown",
   "id": "50fa2b65",
   "metadata": {},
   "source": [
    "# Convert DVA scans into SPASS format\n",
    "## A. Ordog, March 2023\n",
    "### (1) Explore data structure in example file\n",
    "### (2) Write out example DVA file in SPASS format"
   ]
  },
  {
   "cell_type": "code",
   "execution_count": null,
   "id": "31e046ef",
   "metadata": {},
   "outputs": [],
   "source": [
    "from astropy.io import fits\n",
    "import numpy as np\n",
    "import matplotlib.pyplot as plt\n",
    "from tabulate import tabulate\n",
    "import h5py\n",
    "from astropy.time import Time"
   ]
  },
  {
   "cell_type": "markdown",
   "id": "065e4301",
   "metadata": {},
   "source": [
    "# (1) Explore data/metadata structure in SPASS files"
   ]
  },
  {
   "cell_type": "markdown",
   "id": "064c4bba",
   "metadata": {},
   "source": [
    "## Example of Ettore's data files:"
   ]
  },
  {
   "cell_type": "code",
   "execution_count": null,
   "id": "1ab216c2",
   "metadata": {},
   "outputs": [],
   "source": [
    "# Change directory as needed on elephant\n",
    "scan = fits.open('/home/ordoga/Python/DVA2/east.2008-07-19_1350_spass_39D_1934.sdfits')\n",
    "print(repr(scan[0].header))\n",
    "print('')\n",
    "print(repr(scan[1].header))"
   ]
  },
  {
   "cell_type": "markdown",
   "id": "513b194f",
   "metadata": {},
   "source": [
    "## Organize metadata by indices"
   ]
  },
  {
   "cell_type": "code",
   "execution_count": null,
   "id": "a8ed9a41",
   "metadata": {},
   "outputs": [],
   "source": [
    "headers1 = ['scan name', \n",
    "            'bandwidth (Hz)',\n",
    "            'scan date', \n",
    "            'dt', \n",
    "            'Tsys',\n",
    "            '?', \n",
    "            'f0 (Hz)',\n",
    "            'df (Hz)',\n",
    "            'focus tan',\n",
    "            'focus rot']\n",
    "idx1 = np.array([0,1,2,3,4,5,9,10,17,18])\n",
    "\n",
    "headers2 = ['t bin',\n",
    "            't [s past MJD start]',\n",
    "            'RA',\n",
    "            'dec',\n",
    "            'az',\n",
    "            'el']\n",
    "idx2 = np.array([6,7,11,12,13,14])\n",
    "\n",
    "headers3 = ['par. angle',\n",
    "            'focus axi']\n",
    "idx3 = np.array([15,16])"
   ]
  },
  {
   "cell_type": "markdown",
   "id": "a0701509",
   "metadata": {},
   "source": [
    "## Print out metadata for 5 different timestamps\n",
    "## Indices indicate: scan[1].data[t_idx][idx], where idx lists different metadata"
   ]
  },
  {
   "cell_type": "code",
   "execution_count": null,
   "id": "84f8a054",
   "metadata": {},
   "outputs": [],
   "source": [
    "print('Values that stay constant with time within the aziuth scan:')\n",
    "table = [idx1, headers1, np.array(scan[1].data[0],dtype='object')[idx1],\n",
    "                         np.array(scan[1].data[1],dtype='object')[idx1],\n",
    "                         np.array(scan[1].data[2],dtype='object')[idx1],\n",
    "                         np.array(scan[1].data[500],dtype='object')[idx1],\n",
    "                         np.array(scan[1].data[1887],dtype='object')[idx1]]\n",
    "print(tabulate(table))\n",
    "\n",
    "print('')\n",
    "print('Values that change with time within the azimuth scan (understood)')\n",
    "table = [idx2, headers2, np.array(scan[1].data[0],dtype='object')[idx2],\n",
    "                         np.array(scan[1].data[1],dtype='object')[idx2],\n",
    "                         np.array(scan[1].data[2],dtype='object')[idx2],\n",
    "                         np.array(scan[1].data[500],dtype='object')[idx2],\n",
    "                         np.array(scan[1].data[1887],dtype='object')[idx2]]\n",
    "print(tabulate(table))\n",
    "\n",
    "print('')\n",
    "print('Values that change with time within the azimuth scan (NOT understood)')\n",
    "table = [idx3, headers3, np.array(scan[1].data[0],dtype='object')[idx3],\n",
    "                         np.array(scan[1].data[1],dtype='object')[idx3],\n",
    "                         np.array(scan[1].data[2],dtype='object')[idx3],\n",
    "                         np.array(scan[1].data[500],dtype='object')[idx3],\n",
    "                         np.array(scan[1].data[1887],dtype='object')[idx3]]\n",
    "print(tabulate(table))"
   ]
  },
  {
   "cell_type": "markdown",
   "id": "10efae53",
   "metadata": {},
   "source": [
    "## Print out Stokes data for single time stamp"
   ]
  },
  {
   "cell_type": "code",
   "execution_count": null,
   "id": "42c0bc72",
   "metadata": {},
   "outputs": [],
   "source": [
    "print('Data in 30 frequency channels at single timestamp (120)')\n",
    "print('')\n",
    "print('Stokes I')\n",
    "print(scan[1].data[120][8][0][0][0])\n",
    "print('')\n",
    "print('Stokes Q')\n",
    "print(scan[1].data[120][8][0][0][1])\n",
    "print('')\n",
    "print('Stokes U')\n",
    "print(scan[1].data[120][8][0][0][2])\n",
    "print('')\n",
    "print('Stokes V')\n",
    "print(scan[1].data[120][8][0][0][3])\n",
    "print(scan[1].data[120][8][0][0][3][0:3])"
   ]
  },
  {
   "cell_type": "markdown",
   "id": "5b88d4fc",
   "metadata": {},
   "source": [
    "## Plot Stokes I,Q,U,V,PI vs t at single frequency for sanity check"
   ]
  },
  {
   "cell_type": "code",
   "execution_count": null,
   "id": "898c24f0",
   "metadata": {},
   "outputs": [],
   "source": [
    "t = np.empty(len(scan[1].data))\n",
    "for i in range(0,len(t)): t[i] = scan[1].data[i][7]\n",
    "    \n",
    "StokesI = np.empty(len(scan[1].data))\n",
    "for i in range(0,len(t)): StokesI[i] = scan[1].data[i][8][0][0][0][10]  \n",
    "StokesQ = np.empty(len(scan[1].data))\n",
    "for i in range(0,len(t)): StokesQ[i] = scan[1].data[i][8][0][0][1][10]   \n",
    "StokesU = np.empty(len(scan[1].data))\n",
    "for i in range(0,len(t)): StokesU[i] = scan[1].data[i][8][0][0][2][10]   \n",
    "StokesV = np.empty(len(scan[1].data))\n",
    "for i in range(0,len(t)): StokesV[i] = scan[1].data[i][8][0][0][3][10]\n",
    "    \n",
    "plt.figure(figsize=(12,4))\n",
    "plt.scatter(t,StokesI,s=5,label='Stokes I')\n",
    "plt.scatter(t,StokesQ,s=5,label='Stokes Q')\n",
    "plt.scatter(t,StokesU,s=5,label='Stokes U')\n",
    "plt.scatter(t,StokesV,s=5,label='Stokes V')\n",
    "plt.scatter(t,np.sqrt(StokesU**2+StokesQ**2),s=5,label='PI')\n",
    "plt.legend()\n",
    "plt.grid()"
   ]
  },
  {
   "cell_type": "code",
   "execution_count": null,
   "id": "c185c398",
   "metadata": {},
   "outputs": [],
   "source": [
    "az = np.empty(len(scan[1].data))\n",
    "for i in range(0,len(t)): az[i] = scan[1].data[i][13] \n",
    "el = np.empty(len(scan[1].data))\n",
    "for i in range(0,len(t)): el[i] = scan[1].data[i][14]  \n",
    "RA = np.empty(len(scan[1].data))\n",
    "for i in range(0,len(t)): RA[i] = scan[1].data[i][11] \n",
    "dec = np.empty(len(scan[1].data))\n",
    "for i in range(0,len(t)): dec[i] = scan[1].data[i][12]\n",
    "\n",
    "    \n",
    "i1 = 0\n",
    "i2 = 1888\n",
    "plt.figure(figsize=(12,10))\n",
    "plt.plot(t[i1:i2],az[i1:i2],label='az')\n",
    "plt.plot(t[i1:i2],el[i1:i2],label='el')\n",
    "plt.plot(t[i1:i2],RA[i1:i2],label='RA')\n",
    "plt.plot(t[i1:i2],dec[i1:i2],label='dec')\n",
    "plt.legend()\n",
    "plt.grid()\n",
    "plt.ylim(-100,200)"
   ]
  },
  {
   "cell_type": "markdown",
   "id": "bfd9fd23",
   "metadata": {},
   "source": [
    "# Questions:\n",
    "### (1) Why does azimuth value increment in jumps while RA/dec change smoothly?\n",
    "### (2) Is it correct that most of the metadata is not used in the map-making code?\n",
    "### (3) Why are RA and dec used directly from data to compute az/el rather than telescope generated az/el?"
   ]
  },
  {
   "cell_type": "code",
   "execution_count": null,
   "id": "2eba29eb",
   "metadata": {},
   "outputs": [],
   "source": []
  },
  {
   "cell_type": "markdown",
   "id": "1c2b8781",
   "metadata": {},
   "source": [
    "# (2) Generate example DVA file in SPASS format"
   ]
  },
  {
   "cell_type": "markdown",
   "id": "33389f11",
   "metadata": {},
   "source": [
    "## Read in example SPASS file"
   ]
  },
  {
   "cell_type": "code",
   "execution_count": null,
   "id": "1e263b1b",
   "metadata": {},
   "outputs": [],
   "source": [
    "# Change directory as needed on elephant\n",
    "spass_file = fits.open('/home/ordoga/Python/DVA2/east.2008-07-19_1350_spass_39D_1934.sdfits')\n"
   ]
  },
  {
   "cell_type": "markdown",
   "id": "d1cf953d",
   "metadata": {},
   "source": [
    "## Read in example DVA file"
   ]
  },
  {
   "cell_type": "code",
   "execution_count": null,
   "id": "cfff0abc",
   "metadata": {},
   "outputs": [],
   "source": [
    "dva_file = h5py.File('/media/ordoga/15m_band1_survey/dva_phase1/survey_phase1_day09/dva_survey_phase1_raw_0906.h5','r')\n",
    "dva_dataset = dva_file['data']['beam_0']['band_SB0']['scan_0']\n",
    "\n",
    "# Coordinates, times and noise flag:\n",
    "dec = dva_dataset['metadata']['declination']\n",
    "ra = dva_dataset['metadata']['right_ascension']\n",
    "el = dva_dataset['metadata']['elevation']\n",
    "az = dva_dataset['metadata']['azimuth']\n",
    "t = dva_dataset['metadata']['utc']\n",
    "noise = dva_dataset['metadata']['noise_state']\n",
    "\n",
    "# Time in MJD:\n",
    "t_mjd = Time(t, format='isot',scale='utc').mjd\n",
    "\n",
    "# For the binned version, the following would be replaced\n",
    "# by the medians calculated for each selected frequency.\n",
    "# Here I am just randomly grabbing channels 100 to 103:\n",
    "RR = dva_dataset['data'][:,0,100:103]\n",
    "LL = dva_dataset['data'][:,1,100:103]\n",
    "reRL = dva_dataset['data'][:,2,100:103]\n",
    "imRL = dva_dataset['data'][:,3,100:103]\n",
    "freq = dva_file['data']['beam_0']['band_SB0']['frequency'][100:103]\n",
    "\n",
    "print(RR.shape)\n",
    "print(freq.shape)"
   ]
  },
  {
   "cell_type": "markdown",
   "id": "bcb07fc6",
   "metadata": {},
   "source": [
    "## Set up values from DVA to go into SPASS file\n",
    "### The only one that needs to be changed here is 'scanname' to include East or West"
   ]
  },
  {
   "cell_type": "code",
   "execution_count": null,
   "id": "ac48187f",
   "metadata": {},
   "outputs": [],
   "source": [
    "dim       = len(t)    # number of datapoints (timestamps)\n",
    "scannum   = 1    # Don't know what this is. Don't think it matters.\n",
    "scanname  = 'phase1_0906'    # Just a descriptive string. Should include East or West.\n",
    "bandwidth = 680e6    # Full survey bandwidth\n",
    "date      = str(t[0])[2:12]    # Take date from first datapoint (extract just date, not time)\n",
    "t_samp    = (t_mjd[1]-t_mjd[0])*24*3600    # Time sampling in seconds\n",
    "Tsys      = 1.0    # Don't know what this is. Don't think it matters.\n",
    "time_s    = (t_mjd-np.floor(t_mjd[0]))*24*3600\n",
    "freq0     = 350e6    # Leave as this for now. Doesn't get used.\n",
    "dfreq     = 1e6    # Leave as this for now. Doesn't get used.\n",
    "StokesI   = 0.5*(RR+LL)\n",
    "StokesQ   = reRL.copy()\n",
    "StokesU   = imRL.copy()\n",
    "StokesV   = 0.5*(RR-LL)    # Something like that. Good enough for now\n",
    "\n",
    "# A few sanity checks:\n",
    "print(dim,date,t_samp,StokesI.shape,time_s)"
   ]
  },
  {
   "cell_type": "markdown",
   "id": "48d1b40e",
   "metadata": {},
   "source": [
    "## Replace data in SPASS example file with DVA data"
   ]
  },
  {
   "cell_type": "code",
   "execution_count": null,
   "id": "9447f95a",
   "metadata": {},
   "outputs": [],
   "source": [
    "# Copy SPASS file and trim it down to DVA length:\n",
    "dva_new_file = spass_file.copy()\n",
    "dva_new_file[1].data = spass_file[1].data[0:dim]\n",
    "print(dva_new_file[1].data.shape)\n",
    "\n",
    "# Loop through time data points and populate new file:\n",
    "for i in range(0,dim):\n",
    "    dva_new_file[1].data[i][0]  =  scanname\n",
    "    dva_new_file[1].data[i][1]  =  bandwidth\n",
    "    dva_new_file[1].data[i][2]  =  date\n",
    "    dva_new_file[1].data[i][3]  =  t_samp\n",
    "    dva_new_file[1].data[i][4]  =  Tsys\n",
    "    dva_new_file[1].data[i][5]  =  scannum\n",
    "    dva_new_file[1].data[i][7]  =  time_s[i]\n",
    "    \n",
    "    # Fill the first three channels with our Stokes values:\n",
    "    dva_new_file[1].data[i][8][0][0][0][0:3] = StokesI[i,:]\n",
    "    dva_new_file[1].data[i][8][0][0][1][0:3] = StokesQ[i,:]\n",
    "    dva_new_file[1].data[i][8][0][0][2][0:3] = StokesU[i,:]\n",
    "    dva_new_file[1].data[i][8][0][0][3][0:3] = StokesV[i,:]\n",
    "    \n",
    "    # I don't know how to reduce the size of the data array from\n",
    "    # 30 frequency channels to 3, so for now fill the rest with\n",
    "    # zero (we will just not make maps with these channels).\n",
    "    dva_new_file[1].data[i][8][0][0][0][3:30] = 0\n",
    "    dva_new_file[1].data[i][8][0][0][1][3:30] = 0\n",
    "    dva_new_file[1].data[i][8][0][0][2][3:30] = 0\n",
    "    dva_new_file[1].data[i][8][0][0][3][3:30] = 0\n",
    "    \n",
    "    dva_new_file[1].data[i][9]  =  freq0\n",
    "    dva_new_file[1].data[i][10] =  dfreq\n",
    "    dva_new_file[1].data[i][11] = RA[i]\n",
    "    dva_new_file[1].data[i][12] = dec[i]\n",
    "    dva_new_file[1].data[i][13] = az[i]\n",
    "    dva_new_file[1].data[i][14] = el[i]\n",
    "    "
   ]
  },
  {
   "cell_type": "markdown",
   "id": "b956bbc0",
   "metadata": {},
   "source": [
    "## Write out new file"
   ]
  },
  {
   "cell_type": "code",
   "execution_count": null,
   "id": "7eb4bbcc",
   "metadata": {},
   "outputs": [],
   "source": [
    "new_dva_filename = '/home/ordoga/Python/DVA2/test_dva_spass_file.fits'\n",
    "dva_new_file.writeto(new_dva_filename,overwrite=True)"
   ]
  },
  {
   "cell_type": "markdown",
   "id": "e5b0515b",
   "metadata": {},
   "source": [
    "## Check to see how new file was populated"
   ]
  },
  {
   "cell_type": "code",
   "execution_count": null,
   "id": "2aa4db46",
   "metadata": {},
   "outputs": [],
   "source": [
    "headers1 = ['scan name', \n",
    "            'bandwidth (Hz)',\n",
    "            'scan date', \n",
    "            'dt', \n",
    "            'Tsys',\n",
    "            '?', \n",
    "            'f0 (Hz)',\n",
    "            'df (Hz)',\n",
    "            'focus tan',\n",
    "            'focus rot']\n",
    "idx1 = np.array([0,1,2,3,4,5,9,10,17,18])\n",
    "\n",
    "headers2 = ['t bin',\n",
    "            't [s past MJD start]',\n",
    "            'RA',\n",
    "            'dec',\n",
    "            'az',\n",
    "            'el']\n",
    "idx2 = np.array([6,7,11,12,13,14])\n",
    "\n",
    "headers3 = ['par. angle',\n",
    "            'focus axi']\n",
    "idx3 = np.array([15,16])\n",
    "\n",
    "print('Values that stay constant with time within the aziuth scan:')\n",
    "table = [idx1, headers1, np.array(dva_new_file[1].data[0],dtype='object')[idx1],\n",
    "                         np.array(dva_new_file[1].data[1],dtype='object')[idx1],\n",
    "                         np.array(dva_new_file[1].data[2],dtype='object')[idx1],\n",
    "                         np.array(dva_new_file[1].data[200],dtype='object')[idx1],\n",
    "                         np.array(dva_new_file[1].data[500],dtype='object')[idx1]]\n",
    "print(tabulate(table))\n",
    "\n",
    "print('')\n",
    "print('Values that change with time within the azimuth scan (understood)')\n",
    "table = [idx2, headers2, np.array(dva_new_file[1].data[0],dtype='object')[idx2],\n",
    "                         np.array(dva_new_file[1].data[1],dtype='object')[idx2],\n",
    "                         np.array(dva_new_file[1].data[2],dtype='object')[idx2],\n",
    "                         np.array(dva_new_file[1].data[200],dtype='object')[idx2],\n",
    "                         np.array(dva_new_file[1].data[500],dtype='object')[idx2]]\n",
    "print(tabulate(table))\n",
    "\n",
    "print('')\n",
    "print('Values that change with time within the azimuth scan (NOT understood)')\n",
    "table = [idx3, headers3, np.array(dva_new_file[1].data[0],dtype='object')[idx3],\n",
    "                         np.array(dva_new_file[1].data[1],dtype='object')[idx3],\n",
    "                         np.array(dva_new_file[1].data[2],dtype='object')[idx3],\n",
    "                         np.array(dva_new_file[1].data[200],dtype='object')[idx3],\n",
    "                         np.array(dva_new_file[1].data[500],dtype='object')[idx3]]\n",
    "print(tabulate(table))\n",
    "\n",
    "print('')\n",
    "print('')\n",
    "print('Data in 30 frequency channels at single timestamp (120)')\n",
    "print('')\n",
    "print('Stokes I')\n",
    "print(dva_new_file[1].data[120][8][0][0][0])\n",
    "print('')\n",
    "print('Stokes Q')\n",
    "print(dva_new_file[1].data[120][8][0][0][1])\n",
    "print('')\n",
    "print('Stokes U')\n",
    "print(dva_new_file[1].data[120][8][0][0][2])\n",
    "print('')\n",
    "print('Stokes V')\n",
    "print(dva_new_file[1].data[120][8][0][0][3])"
   ]
  },
  {
   "cell_type": "code",
   "execution_count": null,
   "id": "a2295a52",
   "metadata": {},
   "outputs": [],
   "source": []
  }
 ],
 "metadata": {
  "kernelspec": {
   "display_name": "Python 3 (ipykernel)",
   "language": "python",
   "name": "python3"
  },
  "language_info": {
   "codemirror_mode": {
    "name": "ipython",
    "version": 3
   },
   "file_extension": ".py",
   "mimetype": "text/x-python",
   "name": "python",
   "nbconvert_exporter": "python",
   "pygments_lexer": "ipython3",
   "version": "3.8.12"
  }
 },
 "nbformat": 4,
 "nbformat_minor": 5
}
