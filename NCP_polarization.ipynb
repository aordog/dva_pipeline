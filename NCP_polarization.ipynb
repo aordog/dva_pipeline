{
 "cells": [
  {
   "cell_type": "markdown",
   "id": "5c8f64f5",
   "metadata": {},
   "source": [
    "## Analyze NCP scans for instrumental polarization and ionospheric Faraday rotation\n",
    "### A. Ordog, July 2022\n",
    "### NOTE: please do not modify"
   ]
  },
  {
   "cell_type": "markdown",
   "id": "0cd04973",
   "metadata": {},
   "source": [
    "## Import packages and define file directory"
   ]
  },
  {
   "cell_type": "code",
   "execution_count": null,
   "id": "4011ecb2",
   "metadata": {},
   "outputs": [],
   "source": [
    "import dva_sdhdf_combine_simple\n",
    "import imp\n",
    "import os\n",
    "import subprocess\n",
    "import h5py\n",
    "import numpy as np\n",
    "from astropy.time import Time\n",
    "import matplotlib.pyplot as plt\n",
    "from scipy.interpolate import griddata\n",
    "import datetime\n",
    "import matplotlib.dates as mdates\n",
    "from matplotlib.dates import HourLocator as HourLocator\n",
    "from matplotlib.dates import MinuteLocator as MinuteLocator\n",
    "from mpl_toolkits.axes_grid1 import make_axes_locatable\n",
    "from astropy import units as u\n",
    "from astropy.time import TimeDelta\n",
    "from astropy.modeling import models, fitting\n",
    "import ephem\n",
    "from astropy.coordinates import SkyCoord,EarthLocation, AltAz, ICRS, Galactic, FK4, FK5\n",
    "from scipy import interpolate\n",
    "\n",
    "#### Change the directory to where the files are located\" ####\n",
    "dir_in = '/home2/DATA_AO/DVA_DATA/'\n",
    "dir_out = '/media/ordoga/DVA_data/'\n",
    "##############################################################"
   ]
  },
  {
   "cell_type": "markdown",
   "id": "c8aa9fea",
   "metadata": {},
   "source": [
    "## Read in NCP data files and stitch them together (averaged into freq. bins)\n",
    "### ***Note: skip this if files already made"
   ]
  },
  {
   "cell_type": "code",
   "execution_count": null,
   "id": "084db6fe",
   "metadata": {},
   "outputs": [],
   "source": [
    "%%time\n",
    "\n",
    "imp.reload(dva_sdhdf_combine_simple)\n",
    "\n",
    "#NCPdays = ['Feb18_NCP_part1']\n",
    "NCPdays = ['Feb18_NCP_part1','Feb18_NCP_part2','Feb18_NCP_part3','Feb18_NCP_part4']\n",
    "dates = ['2022-02-18','2022-02-19','2022-02-20','2022-02-21']\n",
    "\n",
    "outname = 'NCP_Feb18'\n",
    "dva_sdhdf_combine_simple.combine(dir_in,dir_out,NCPdays,outname,freq_s=75,freq_avg=True)"
   ]
  },
  {
   "cell_type": "markdown",
   "id": "39585a5e",
   "metadata": {},
   "source": [
    "## Read in stitched together, frequency averaged NCP data:"
   ]
  },
  {
   "cell_type": "code",
   "execution_count": null,
   "id": "b68ca5c0",
   "metadata": {},
   "outputs": [],
   "source": [
    "file = h5py.File('/media/ordoga/DVA_data/NCP_Feb18.h5','r+')\n",
    "\n",
    "RR_set = file['data']['beam_0']['band_SB0']['scan_0']['data'][:,0,:] \n",
    "LL_set = file['data']['beam_0']['band_SB0']['scan_0']['data'][:,1,:] \n",
    "reRL_set = file['data']['beam_0']['band_SB0']['scan_0']['data'][:,2,:]\n",
    "imRL_set = file['data']['beam_0']['band_SB0']['scan_0']['data'][:,3,:]\n",
    "t_set = file['data']['beam_0']['band_SB0']['scan_0']['metadata']['utc']\n",
    "az_set = file['data']['beam_0']['band_SB0']['scan_0']['metadata']['azimuth']\n",
    "el_set = file['data']['beam_0']['band_SB0']['scan_0']['metadata']['elevation']\n",
    "freq = file['data']['beam_0']['band_SB0']['frequency'][:]/1e6\n",
    "\n",
    "t_set_plt = Time(t_set, format='isot',scale='utc').mjd\n",
    "\n",
    "df = freq[1]-freq[0]\n",
    "\n",
    "print('Frequency spacing: ',df)\n",
    "print('Shape of time array: ',t_set_plt.shape)\n",
    "print('Shape of data array: ',reRL_set.shape)"
   ]
  },
  {
   "cell_type": "markdown",
   "id": "1bda698b",
   "metadata": {},
   "source": [
    "### Sanity check to make sure averaged data yields correct spectrum"
   ]
  },
  {
   "cell_type": "code",
   "execution_count": null,
   "id": "b291c30a",
   "metadata": {},
   "outputs": [],
   "source": [
    "ii = 70\n",
    "print(freq[ii])\n",
    "plt.scatter(freq[:],10*np.log10(LL_set[50,:]),s=5)\n",
    "plt.scatter(freq[ii],10*np.log10(LL_set[50,ii]),s=15,color='red')"
   ]
  },
  {
   "cell_type": "markdown",
   "id": "2395b75d",
   "metadata": {},
   "source": [
    "## Read in temperature data\n",
    "### Note: only used to observe trends - not used in calcualtions"
   ]
  },
  {
   "cell_type": "code",
   "execution_count": null,
   "id": "61fe2955",
   "metadata": {},
   "outputs": [],
   "source": [
    "def month_to_num(month_name):\n",
    "    if month_name == 'Jan': month_num = '01'\n",
    "    if month_name == 'Feb': month_num = '02'\n",
    "    if month_name == 'Mar': month_num = '03'\n",
    "    if month_name == 'Apr': month_num = '04'\n",
    "    if month_name == 'May': month_num = '05'\n",
    "    if month_name == 'Jun': month_num = '06'\n",
    "    if month_name == 'Jul': month_num = '07'\n",
    "    if month_name == 'Aug': month_num = '08'\n",
    "    if month_name == 'Sep': month_num = '09'\n",
    "    if month_name == 'Oct': month_num = '10'\n",
    "    if month_name == 'Nov': month_num = '11'\n",
    "    if month_name == 'Dec': month_num = '12'\n",
    "    return(month_num)\n",
    "\n",
    "i = 0\n",
    "t_weath = []\n",
    "temp_C = []\n",
    "   \n",
    "with open(\"../DVA2/DATA/weather/weather_Feb18_NCP.txt\") as fp:\n",
    "    for line in fp:\n",
    "        t_weath.append(str( line.split()[2]+'-'+month_to_num(line.split()[1])+'-'+line.split()[0]+\n",
    "                  'T'+line.split()[3]))\n",
    "        temp_C.append(line.split()[4])\n",
    "with open(\"../DVA2/DATA/weather/weather_Feb19_NCP.txt\") as fp:\n",
    "    for line in fp:\n",
    "        t_weath.append(str( line.split()[2]+'-'+month_to_num(line.split()[1])+'-'+line.split()[0]+\n",
    "                  'T'+line.split()[3]))\n",
    "        temp_C.append(line.split()[4])\n",
    "with open(\"../DVA2/DATA/weather/weather_Feb20_NCP.txt\") as fp:\n",
    "    for line in fp:\n",
    "        t_weath.append(str( line.split()[2]+'-'+month_to_num(line.split()[1])+'-'+line.split()[0]+\n",
    "                  'T'+line.split()[3]))\n",
    "        temp_C.append(line.split()[4])\n",
    "with open(\"../DVA2/DATA/weather/weather_Feb21_NCP.txt\") as fp:\n",
    "    for line in fp:\n",
    "        t_weath.append(str( line.split()[2]+'-'+month_to_num(line.split()[1])+'-'+line.split()[0]+\n",
    "                  'T'+line.split()[3]))\n",
    "        temp_C.append(line.split()[4])\n",
    "\n",
    "temp_C = np.array(temp_C,dtype=float)\n",
    "t_weath_fix = Time(t_weath, format='isot',scale='utc')\n",
    "t_weath_plt = t_weath_fix.mjd"
   ]
  },
  {
   "cell_type": "markdown",
   "id": "bcde70fb",
   "metadata": {},
   "source": [
    "## Calculate sunset and sunrise times"
   ]
  },
  {
   "cell_type": "code",
   "execution_count": null,
   "id": "94f50fa4",
   "metadata": {},
   "outputs": [],
   "source": [
    "obs = ephem.Observer()\n",
    "obs.lon  = str(-119.6) #Note that lon should be in string format\n",
    "obs.lat  = str(49.3)      #Note that lat should be in string format\n",
    "obs.elev = 546\n",
    "obs.date = \"2022-02-18 00:00:00.0\"\n",
    "loc = EarthLocation(lat = 49.3*u.deg, lon = -119.6*u.deg, height = 546*u.m)\n",
    "\n",
    "tsunset = []\n",
    "tsunrise = []\n",
    "tsunset_plt = []\n",
    "tsunrise_plt = []\n",
    "for i in range(0,4):    \n",
    "    tsunset.append(obs.next_setting(ephem.Sun()).datetime())\n",
    "    tsunrise.append(obs.next_rising(ephem.Sun()).datetime()) \n",
    "    print(tsunset[i],tsunrise[i])\n",
    "    tsunset_plt.append(Time(str(tsunset[i]),format='iso',scale='utc').mjd)\n",
    "    tsunrise_plt.append(Time(str(tsunrise[i]),format='iso',scale='utc').mjd)\n",
    "    obs.date = tsunrise[i]"
   ]
  },
  {
   "cell_type": "markdown",
   "id": "4e782c85",
   "metadata": {},
   "source": [
    "## Plot reRL and imRL along with temperature vs time at chosen frequency"
   ]
  },
  {
   "cell_type": "code",
   "execution_count": null,
   "id": "09b93a4b",
   "metadata": {},
   "outputs": [],
   "source": [
    "######################################\n",
    "fr_plot = 800\n",
    "t1 = '2022-02-18T00:00:00.0Z'\n",
    "t2 = '2022-02-21T23:00:00.0Z'\n",
    "######################################\n",
    "\n",
    "t1_plt = Time(t1,format='isot',scale='utc').mjd\n",
    "t2_plt = Time(t2,format='isot',scale='utc').mjd\n",
    "\n",
    "fs = 18\n",
    "fig,axs = plt.subplots(2,1,figsize=(16,8))    \n",
    "\n",
    "w = np.where(abs(freq-fr_plot)<df)[0][0]\n",
    "print(freq[w])\n",
    "\n",
    "axs[0].scatter(t_set_plt,reRL_set[:,w], color='C0',s=0.2,label='reRL')\n",
    "axs[0].set_ylim(-8e5,-5e5)\n",
    "axs[1].scatter(t_set_plt,imRL_set[:,w], color='C1',s=0.2,label='imRL')\n",
    "axs[1].set_ylim(-1.5e5,1.5e5)\n",
    "\n",
    "for i in range(0,2):\n",
    "    axs[i].xaxis.set_major_locator(HourLocator(interval=12))\n",
    "    axs[i].set_ylabel('Power (raw spectrometer units)')\n",
    "    axs[i].legend(loc=1,markerscale=10)\n",
    "    axs[i].xaxis.set_major_formatter(mdates.DateFormatter('%H:%M'))\n",
    "    axs[i].fmt_xdata = mdates.DateFormatter('%H:%M')\n",
    "    axs[i].set_xlabel('Time (UTC)')\n",
    "    axs[i].grid()\n",
    "    axs[i].set_xlim(t1_plt,t2_plt)    \n",
    "    ax1 = axs[i].twinx()\n",
    "    ax1.plot(t_weath_plt,temp_C,color='black')\n",
    "    ax1.set_ylim(-10,10)\n",
    "    ax1.set_ylabel('Outside Temperature (C)')\n",
    "    for j in range(0,4):\n",
    "        axs[i].axvspan(tsunset_plt[j],tsunrise_plt[j],alpha=0.2,facecolor='gray',\n",
    "                       zorder=0,linewidth=1,edgecolor='black')\n",
    "        "
   ]
  },
  {
   "cell_type": "markdown",
   "id": "11e9dca5",
   "metadata": {},
   "source": [
    "## Read in the noise source data"
   ]
  },
  {
   "cell_type": "code",
   "execution_count": null,
   "id": "602bfe70",
   "metadata": {},
   "outputs": [],
   "source": [
    "t_noise1 = []\n",
    "t_noise2 = []\n",
    "\n",
    "with open(\"../DVA2/DATA/noise_times/noise_Feb18_NCP.txt\") as fp:\n",
    "    for line in fp:       \n",
    "        t_noise1.append(line.split()[0]+'T'+line.split()[1][0:12])\n",
    "        t_noise2.append(line.split()[2]+'T'+line.split()[3][0:12])\n",
    "with open(\"../DVA2/DATA/noise_times/noise_Feb19_NCP.txt\") as fp:\n",
    "    for line in fp:       \n",
    "        t_noise1.append(line.split()[0]+'T'+line.split()[1][0:12])\n",
    "        t_noise2.append(line.split()[2]+'T'+line.split()[3][0:12])\n",
    "with open(\"../DVA2/DATA/noise_times/noise_Feb20_NCP.txt\") as fp:\n",
    "    for line in fp:       \n",
    "        t_noise1.append(line.split()[0]+'T'+line.split()[1][0:12])\n",
    "        t_noise2.append(line.split()[2]+'T'+line.split()[3][0:12])\n",
    "\n",
    "t_noise1_fix = Time(t_noise1, format='isot',scale='utc')\n",
    "t_noise2_fix = Time(t_noise2, format='isot',scale='utc')\n",
    "\n",
    "t_noise1_plt = t_noise1_fix.mjd\n",
    "t_noise2_plt = t_noise2_fix.mjd"
   ]
  },
  {
   "cell_type": "markdown",
   "id": "3c3d231e",
   "metadata": {},
   "source": [
    "## Calculate on and off noise power"
   ]
  },
  {
   "cell_type": "code",
   "execution_count": null,
   "id": "df8badfd",
   "metadata": {},
   "outputs": [],
   "source": [
    "t_buff = 5./(3600.*24.) # seconds\n",
    "t_off = 30./(3600.*24.) # seconds\n",
    "\n",
    "wnoise = []\n",
    "wnoise_rem = []\n",
    "woff = []\n",
    "\n",
    "pnoiseLL = np.empty([len(t_noise1),len(freq)])\n",
    "poffLL = np.empty([len(t_noise1),len(freq)])\n",
    "pnoiseRR = np.empty([len(t_noise1),len(freq)])\n",
    "poffRR = np.empty([len(t_noise1),len(freq)])\n",
    "tnoise = np.empty([len(t_noise1)])\n",
    "\n",
    "for i in range(0,len(t_noise1)):\n",
    "    wnoise_sub = np.where( (t_set_plt >= t_noise1_plt[i]+t_buff) & (t_set_plt <= t_noise2_plt[i]-t_buff) )[0]\n",
    "    wnoise_sub_rem = np.where( (t_set_plt >= t_noise1_plt[i]-t_buff) & (t_set_plt <= t_noise2_plt[i]+t_buff) )[0]\n",
    "    \n",
    "    woff1 = np.where( (t_set_plt >= t_noise1_plt[i]-t_buff-t_off) & \n",
    "                      (t_set_plt <= t_noise1_plt[i]-t_buff) )[0]\n",
    "    woff2 = np.where( (t_set_plt >= t_noise2_plt[i]+t_buff) & \n",
    "                      (t_set_plt <= t_noise2_plt[i]+t_buff+t_off) )[0]\n",
    "\n",
    "    wnoise=wnoise+list(wnoise_sub)\n",
    "    wnoise_rem=wnoise_rem+list(wnoise_sub_rem)\n",
    "    woff = woff+list(woff1)+list(woff2)\n",
    "    \n",
    "    pnoiseLL[i,:] = np.nanmean(LL_set[wnoise_sub,:],axis=0)\n",
    "    pnoiseRR[i,:] = np.nanmean(RR_set[wnoise_sub,:],axis=0)\n",
    "    poffLL[i,:] = np.nanmean(LL_set[list(woff1)+list(woff2),:],axis=0)\n",
    "    poffRR[i,:] = np.nanmean(RR_set[list(woff1)+list(woff2),:],axis=0)\n",
    "    tnoise[i] = np.nanmean(t_set_plt[wnoise_sub])\n",
    "\n",
    "wall = list(np.array(np.linspace(0,len(t_set_plt)-1,len(t_set_plt)),dtype=int))\n",
    "print('Total data points:',len(wall),len(t_set_plt))\n",
    "wkeep = [x for x in wall if x not in wnoise_rem]\n",
    "print('Data points without noise:',len(wkeep))"
   ]
  },
  {
   "cell_type": "markdown",
   "id": "4c83ecbc",
   "metadata": {},
   "source": [
    "## Check the noise power on and off (zoomed in in time)"
   ]
  },
  {
   "cell_type": "code",
   "execution_count": null,
   "id": "aaeb507b",
   "metadata": {},
   "outputs": [],
   "source": [
    "######################################\n",
    "fr_plot_arr = 800\n",
    "I_scl1 = 71\n",
    "I_scl2 = 78\n",
    "######################################\n",
    "\n",
    "fs = 18\n",
    "fig,axs = plt.subplots(4,1,figsize=(16,15))    \n",
    "\n",
    "w = np.where(abs(freq-fr_plot_arr)<df)[0][0]\n",
    "print(freq[w])\n",
    "\n",
    "for i in range(0,4):\n",
    "\n",
    "    t1_plt = Time(dates[i]+'T00:00:00.0Z',format='isot',scale='utc').mjd\n",
    "    t2_plt = Time(dates[i]+'T06:00:00.0Z',format='isot',scale='utc').mjd\n",
    "\n",
    "    axs[i].plot(t_set_plt,10*np.log10(RR_set[:,w]),label='RR',color='C0',zorder=0)\n",
    "    axs[i].plot(t_set_plt,10*np.log10(LL_set[:,w]),label='LL',color='C1',zorder=0)\n",
    "    axs[i].scatter(t_set_plt[wkeep],10*np.log10(RR_set[wkeep,w]),label='RR',color='blue',zorder=1,s=0.2)\n",
    "    axs[i].scatter(t_set_plt[wkeep],10*np.log10(LL_set[wkeep,w]),label='LL',color='red',zorder=1,s=0.2)\n",
    "    axs[i].scatter(tnoise,10*np.log10(pnoiseRR[:,w]),color='black',s=10,zorder=10)\n",
    "    axs[i].scatter(tnoise,10*np.log10(pnoiseLL[:,w]),color='black',s=10,zorder=10)\n",
    "    axs[i].scatter(tnoise,10*np.log10(poffRR[:,w]),color='black',s=10,zorder=10)\n",
    "    axs[i].scatter(tnoise,10*np.log10(poffLL[:,w]),color='black',s=10,zorder=10)\n",
    "    axs[i].set_ylim(I_scl1,I_scl2)\n",
    "    axs[i].set_ylabel('Power (dB)')\n",
    "\n",
    "    axs[i].legend(loc=1,markerscale=10)\n",
    "    axs[i].xaxis.set_major_locator(MinuteLocator(interval=30))\n",
    "    #axs[i].set_xticks(loc=HourLocator(interval=2))\n",
    "    axs[i].xaxis.set_major_formatter(mdates.DateFormatter('%H:%M:%S'))\n",
    "    axs[i].fmt_xdata = mdates.DateFormatter('%H:%M:%S')\n",
    "    axs[i].set_xlabel('Time (UTC)')\n",
    "    axs[i].grid()\n",
    "    axs[i].set_xlim(t1_plt,t2_plt)    \n",
    "    if i == 0:\n",
    "        axs[i].set_title('NCP observations at 800 MHz (freq. channels binned to '+str(df)+' MHz)')\n"
   ]
  },
  {
   "cell_type": "markdown",
   "id": "20a508f5",
   "metadata": {},
   "source": [
    "## Calculate the gains"
   ]
  },
  {
   "cell_type": "code",
   "execution_count": null,
   "id": "4e324d38",
   "metadata": {},
   "outputs": [],
   "source": [
    "RR_med_noise = np.nanmedian(pnoiseRR-poffRR,axis=0)\n",
    "LL_med_noise = np.nanmedian(pnoiseLL-poffLL,axis=0)\n",
    "\n",
    "G_RR = np.empty_like(RR_set)\n",
    "G_LL = np.empty_like(LL_set)\n",
    "\n",
    "for i in range(0,len(freq)):\n",
    "    \n",
    "    f_RR_interp = interpolate.interp1d(tnoise, pnoiseRR[:,i]-poffRR[:,i],fill_value=\"extrapolate\",kind='linear')\n",
    "    G_RR[:,i] = f_RR_interp(t_set_plt)/RR_med_noise[i]\n",
    "    \n",
    "    f_LL_interp = interpolate.interp1d(tnoise, pnoiseLL[:,i]-poffLL[:,i],fill_value=\"extrapolate\",kind='linear')\n",
    "    G_LL[:,i] = f_LL_interp(t_set_plt)/LL_med_noise[i]"
   ]
  },
  {
   "cell_type": "markdown",
   "id": "95cdd760",
   "metadata": {},
   "source": [
    "## Apply gain corrections to RR and LL and visualize the result"
   ]
  },
  {
   "cell_type": "code",
   "execution_count": null,
   "id": "2f9c670d",
   "metadata": {},
   "outputs": [],
   "source": [
    "######################################\n",
    "fr_plot = 800\n",
    "I_scl1 = 71\n",
    "I_scl2 = 74\n",
    "######################################\n",
    "\n",
    "fs = 18\n",
    "fig,axs = plt.subplots(4,1,figsize=(16,15))    \n",
    "\n",
    "w = np.where(abs(freq-fr_plot)<df)[0][0]\n",
    "print(freq[w])\n",
    "\n",
    "for i in range(0,4):\n",
    "\n",
    "    t1_plt = Time(dates[i]+'T00:00:00.0Z',format='isot',scale='utc').mjd\n",
    "    t2_plt = Time(dates[i]+'T23:59:59.9Z',format='isot',scale='utc').mjd\n",
    "\n",
    "    axs[i].scatter(t_set_plt,10*np.log10(RR_set[:,w]),label='RR',color='C0',s=0.1)\n",
    "    axs[i].scatter(t_set_plt,10*np.log10(LL_set[:,w]),label='LL',color='C1',s=0.1)\n",
    "    axs[i].scatter(t_set_plt,10*np.log10(RR_set[:,w]/G_RR[:,w]),label='RR',color='blue',s=0.1)\n",
    "    axs[i].scatter(t_set_plt,10*np.log10(LL_set[:,w]/G_LL[:,w]),label='LL',color='red',s=0.1)\n",
    "    axs[i].set_ylim(I_scl1,I_scl2)\n",
    "    axs[i].set_ylabel('Power (dB)')\n",
    "    \n",
    "    ax1 = axs[i].twinx()\n",
    "    ax1.scatter(t_set_plt,G_RR[:,w],color='gray',s=0.1,label='G_RR')\n",
    "    ax1.scatter(t_set_plt,G_LL[:,w],color='black',s=0.1,label='G_LL')\n",
    "    #ax1.scatter(tnoise,(pnoiseLL[:,w]-poffLL[:,w])/LL_med_noise[w],color='black',s=10)\n",
    "    ax1.set_ylim(0.85,1.15)\n",
    "\n",
    "    axs[i].legend(loc=1,markerscale=10)\n",
    "    ax1.legend(loc=2,markerscale=10)\n",
    "    axs[i].xaxis.set_major_locator(HourLocator(interval=2))\n",
    "    #axs[i].set_xticks(loc=HourLocator(interval=2))\n",
    "    axs[i].xaxis.set_major_formatter(mdates.DateFormatter('%H:%M:%S'))\n",
    "    axs[i].fmt_xdata = mdates.DateFormatter('%H:%M:%S')\n",
    "    axs[i].set_xlabel('Time (UTC)')\n",
    "    axs[i].grid()\n",
    "    axs[i].set_xlim(t1_plt,t2_plt)    \n",
    "    if i == 0:\n",
    "        axs[i].set_title('NCP observations at 800 MHz (freq. channels binned to '+str(df)+' MHz)')"
   ]
  },
  {
   "cell_type": "code",
   "execution_count": null,
   "id": "d1713fb7",
   "metadata": {},
   "outputs": [],
   "source": []
  }
 ],
 "metadata": {
  "kernelspec": {
   "display_name": "Python 3 (ipykernel)",
   "language": "python",
   "name": "python3"
  },
  "language_info": {
   "codemirror_mode": {
    "name": "ipython",
    "version": 3
   },
   "file_extension": ".py",
   "mimetype": "text/x-python",
   "name": "python",
   "nbconvert_exporter": "python",
   "pygments_lexer": "ipython3",
   "version": "3.8.12"
  }
 },
 "nbformat": 4,
 "nbformat_minor": 5
}
