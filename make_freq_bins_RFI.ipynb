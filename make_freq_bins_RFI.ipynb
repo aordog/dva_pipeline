{
 "cells": [
  {
   "cell_type": "markdown",
   "id": "deb30065",
   "metadata": {},
   "source": [
    "# Define frequency bins for map-making\n",
    "## A. Ordog, Feb 07, 2023"
   ]
  },
  {
   "cell_type": "code",
   "execution_count": null,
   "id": "af502fed",
   "metadata": {},
   "outputs": [],
   "source": [
    "import numpy as np\n",
    "import matplotlib.pyplot as plt"
   ]
  },
  {
   "cell_type": "markdown",
   "id": "c86b9cdf",
   "metadata": {},
   "source": [
    "## Read in persistent RFI mask and determine fraction of channels lost"
   ]
  },
  {
   "cell_type": "code",
   "execution_count": null,
   "id": "41e8f7ac",
   "metadata": {},
   "outputs": [],
   "source": [
    "RFI_mask_idx = []\n",
    "RFI_mask_freq = []\n",
    "with open('/home/ordoga/Python/DVA2/DATA/PersistRFImaskNew_v2.txt') as fp:    \n",
    "    for line in fp:\n",
    "        if line.split()[1] == 'False':\n",
    "            RFI_mask_idx.append(int(line.split()[0]))\n",
    "            RFI_mask_freq.append(float(line.split()[2]))\n",
    "\n",
    "RFI_mask_idx = np.array(RFI_mask_idx)\n",
    "RFI_mask_freq = np.array(RFI_mask_freq)\n",
    "\n",
    "RFI_mask_idx.shape[0]/8250"
   ]
  },
  {
   "cell_type": "markdown",
   "id": "ac8f84c3",
   "metadata": {},
   "source": [
    "## Write out only indices of adjusted RFI mask (done only once)"
   ]
  },
  {
   "cell_type": "code",
   "execution_count": null,
   "id": "808980e7",
   "metadata": {},
   "outputs": [],
   "source": [
    "#####################\n",
    "save_new_mask = False\n",
    "#####################\n",
    "if save_new_mask:\n",
    "    with open('/home/ordoga/Python/DVA2/DATA/PersistRFImaskNewJustIndexBad_v2.txt','w') as fp:    \n",
    "        fp.write('index   frequency (MHz)')\n",
    "        fp.writelines('\\n')\n",
    "        for i in range(0,len(RFI_mask_idx)):\n",
    "            fp.write(str(RFI_mask_idx[i])+' '+str(RFI_mask_freq[i]))\n",
    "            fp.writelines('\\n')"
   ]
  },
  {
   "cell_type": "markdown",
   "id": "c0562149",
   "metadata": {},
   "source": [
    "## Function to determine how many good frequencies per bin based on starting index"
   ]
  },
  {
   "cell_type": "code",
   "execution_count": null,
   "id": "f6e93aa6",
   "metadata": {},
   "outputs": [],
   "source": [
    "def make_bins(ii):\n",
    "\n",
    "    dfbin = 0.5\n",
    "    f_bin_arr = []\n",
    "    nu_bin_arr = [] # number above centre of bin\n",
    "    nd_bin_arr = [] # number below centre of bin\n",
    "\n",
    "    f_bin = (freq[ii]+freq[ii+1])/2.\n",
    "    while f_bin < 1030.:\n",
    "        wu = np.where( (freq <= f_bin+dfbin/2.) & (freq >= f_bin) & (mask == 'True') )[0]\n",
    "        wd = np.where( (freq >= f_bin-dfbin/2.) & (freq <= f_bin) & (mask == 'True') )[0]\n",
    "        #w = np.where( (abs(freq - f_bin) <= dfbin/2.) & (mask == 'True') )[0]\n",
    "        f_bin_arr.append(f_bin)\n",
    "        nu_bin_arr.append(len(wu))\n",
    "        nd_bin_arr.append(len(wd))\n",
    "        f_bin = f_bin + dfbin\n",
    "    print(f_bin_arr[0],f_bin_arr[-1])\n",
    "\n",
    "    nu_bin_arr = np.array(nu_bin_arr)\n",
    "    nd_bin_arr = np.array(nd_bin_arr)\n",
    "    \n",
    "    return f_bin_arr, nu_bin_arr, nd_bin_arr"
   ]
  },
  {
   "cell_type": "markdown",
   "id": "1835bddb",
   "metadata": {},
   "source": [
    "## Plot to visualize number of good channels"
   ]
  },
  {
   "cell_type": "code",
   "execution_count": null,
   "id": "9a0eaacc",
   "metadata": {},
   "outputs": [],
   "source": [
    "f_bin_arr, nu_bin_arr, nd_bin_arr = make_bins(68)\n",
    "\n",
    "fig,ax = plt.subplots(15,1,figsize=(16,30))\n",
    "for i in range(0,14):\n",
    "    ax[i].scatter(f_bin_arr,nu_bin_arr,s=10,color='red',zorder=10)\n",
    "    ax[i].scatter(f_bin_arr,nd_bin_arr,s=50,color='C0',zorder=1)\n",
    "    #ax[i].plot(f_bin_arr,n_bin_arr)\n",
    "    ax[i].set_xlim(340+i*50,340+(i+1)*50)\n",
    "    ax[i].set_ylim(-0.5,3.5)\n",
    "    ax[i].grid()\n",
    "    ax[i].set_facecolor('lightgrey')\n",
    "ax[14].scatter(f_bin_arr,nu_bin_arr,s=5,color='red',zorder=10)\n",
    "ax[14].scatter(f_bin_arr,nd_bin_arr,s=20,color='C0',zorder=1)\n",
    "ax[14].set_xlim(350,1030)\n",
    "ax[14].set_ylim(-0.5,3.5)\n",
    "ax[14].grid()\n",
    "ax[14].set_facecolor('lightgrey')"
   ]
  },
  {
   "cell_type": "code",
   "execution_count": null,
   "id": "9cb1b474",
   "metadata": {},
   "outputs": [],
   "source": []
  }
 ],
 "metadata": {
  "kernelspec": {
   "display_name": "Python 3 (ipykernel)",
   "language": "python",
   "name": "python3"
  },
  "language_info": {
   "codemirror_mode": {
    "name": "ipython",
    "version": 3
   },
   "file_extension": ".py",
   "mimetype": "text/x-python",
   "name": "python",
   "nbconvert_exporter": "python",
   "pygments_lexer": "ipython3",
   "version": "3.8.12"
  }
 },
 "nbformat": 4,
 "nbformat_minor": 5
}
