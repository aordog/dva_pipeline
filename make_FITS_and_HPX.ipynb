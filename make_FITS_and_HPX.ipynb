{
 "cells": [
  {
   "cell_type": "code",
   "execution_count": null,
   "id": "b1346a00",
   "metadata": {},
   "outputs": [],
   "source": [
    "import matplotlib.pyplot as plt\n",
    "import matplotlib as mpl\n",
    "import os\n",
    "from astropy.wcs import WCS\n",
    "import numpy as np\n",
    "from matplotlib.ticker import MultipleLocator\n",
    "from scipy.stats import linregress\n",
    "from matplotlib.colors import LogNorm\n",
    "import astropy.io.fits as fits\n",
    "from reproject import reproject_from_healpix\n",
    "from matplotlib import cm\n",
    "from matplotlib.colors import Normalize \n",
    "from matplotlib import pyplot as plt, patches\n",
    "from scipy.interpolate import interpn\n",
    "from reproject import reproject_to_healpix\n",
    "from astropy_healpix import HEALPix\n",
    "from astropy.coordinates import SkyCoord, ICRS, Galactic\n",
    "from astropy import units as units\n",
    "import matplotlib.cm as cm\n",
    "import sys\n",
    "from importlib import reload\n",
    "import astropy.units as u\n",
    "import copy\n",
    "from matplotlib.ticker import MultipleLocator, FuncFormatter\n",
    "from mpl_toolkits.axes_grid1 import make_axes_locatable\n",
    "import gc\n",
    "import healpy as hp"
   ]
  },
  {
   "attachments": {},
   "cell_type": "markdown",
   "id": "c3286a1a",
   "metadata": {},
   "source": [
    "### Read in files:"
   ]
  },
  {
   "cell_type": "code",
   "execution_count": null,
   "id": "b5d0384e",
   "metadata": {},
   "outputs": [],
   "source": [
    "#hduQ = fits.open('/srv/data/dva/dva_map_test_results/Becky/New_mini_survey_q_cube.fits')\n",
    "hduQ = fits.open('/srv/data/dva/dva_map_test_results/Anna/Jun02/lowel_lowfreq/cylMap_east_23.q.fits')\n",
    "hdrQ = hduQ[0].header\n",
    "dataQ = hduQ[0].data\n",
    "print(dataQ.shape)\n",
    "\n",
    "#hduU = fits.open('/srv/data/dva/dva_map_test_results/Becky/New_mini_survey_u_cube.fits')\n",
    "hduU = fits.open('/srv/data/dva/dva_map_test_results/Anna/Jun02/lowel_lowfreq/cylMap_east_23.u.fits')\n",
    "hdrU = hduU[0].header\n",
    "dataU = hduU[0].data\n",
    "print(dataU.shape)\n",
    "\n",
    "#hduI = fits.open('/srv/data/dva/dva_map_test_results/Becky/New_mini_survey_i_cube.fits')\n",
    "hduI = fits.open('/srv/data/dva/dva_map_test_results/Anna/Jun02/lowel_lowfreq/cylMap_east_23.i.fits')\n",
    "hdrI = hduI[0].header\n",
    "dataI = hduI[0].data\n",
    "print(dataI.shape)\n",
    "\n",
    "freq = []\n",
    "with open('/srv/data/dva/dva_map_test_results/Becky/ListOfFrequencies_Hz.txt') as f:\n",
    "    for line in f.readlines():\n",
    "        freq.append(float(line.split()[0])/1e6)\n",
    "freq = np.array(freq)\n",
    "print(freq)\n",
    "print('')\n",
    "\n",
    "if ((np.ndim(dataI) != np.ndim(dataQ)) or (np.ndim(dataI) != np.ndim(dataU)) or (np.ndim(dataU) != np.ndim(dataU))):\n",
    "    print('=========================')\n",
    "    print('Warning: data array dimensions do not match!!!!')\n",
    "    print('=========================')\n",
    "    print('')\n",
    "\n",
    "if np.ndim(dataI) == 2:\n",
    "    cube = False\n",
    "    print('Using 2D data sets')\n",
    "else:\n",
    "    cube = True\n",
    "    print('Using 3D data sets')"
   ]
  },
  {
   "attachments": {},
   "cell_type": "markdown",
   "id": "a4cad5e6",
   "metadata": {},
   "source": [
    "### Pick frequency channel:"
   ]
  },
  {
   "cell_type": "code",
   "execution_count": null,
   "id": "1b68946f",
   "metadata": {},
   "outputs": [],
   "source": [
    "####################\n",
    "freq_choose = 610\n",
    "el = 'low'\n",
    "####################\n",
    "\n",
    "if cube:\n",
    "    idx = np.where(freq == freq_choose)[0][0]\n",
    "    print(freq[idx])\n",
    "else:\n",
    "    print('Only one frequency in data sets')"
   ]
  },
  {
   "attachments": {},
   "cell_type": "markdown",
   "id": "07f22565",
   "metadata": {},
   "source": [
    "### Convert to Kelvin:"
   ]
  },
  {
   "cell_type": "code",
   "execution_count": null,
   "id": "2f4588ff",
   "metadata": {},
   "outputs": [],
   "source": [
    "##################\n",
    "Jy_per_K = 20\n",
    "##################\n",
    "dataQ_K = dataQ/Jy_per_K\n",
    "dataU_K = dataU/Jy_per_K\n",
    "dataI_K = dataI/Jy_per_K\n",
    "\n",
    "print(dataI_K.shape)"
   ]
  },
  {
   "attachments": {},
   "cell_type": "markdown",
   "id": "d24e356d",
   "metadata": {},
   "source": [
    "### Clean up empty parts of map (put in NaNs)"
   ]
  },
  {
   "cell_type": "code",
   "execution_count": null,
   "id": "932ed1c9",
   "metadata": {},
   "outputs": [],
   "source": [
    "if cube:\n",
    "    dataQ_K[:,155:170,:] = np.nan\n",
    "    dataU_K[:,155:170,:] = np.nan\n",
    "    dataI_K[:,155:170,:] = np.nan\n",
    "else:\n",
    "    dataQ_K[155:170,:] = np.nan\n",
    "    dataU_K[155:170,:] = np.nan\n",
    "    dataI_K[155:170,:] = np.nan\n",
    "\n",
    "dataQ_K[np.where(dataQ_K == 0)] = np.nan\n",
    "dataU_K[np.where(dataU_K == 0)] = np.nan\n",
    "dataI_K[np.where(dataI_K == 0)] = np.nan"
   ]
  },
  {
   "attachments": {},
   "cell_type": "markdown",
   "id": "fe58080c",
   "metadata": {},
   "source": [
    "### Modify header Make 2D header:"
   ]
  },
  {
   "cell_type": "code",
   "execution_count": null,
   "id": "333ee3c9",
   "metadata": {},
   "outputs": [],
   "source": [
    "hdrI['BUNIT'] = 'K'\n",
    "hdrI['OBJECT'] = 'DRAGONS'\n",
    "\n",
    "hdr_2D = hdrI.copy()\n",
    "if cube:\n",
    "    hdr_2D['NAXIS'] = 2\n",
    "    del hdr_2D['NAXIS3']\n",
    "    del hdr_2D['CTYPE3']\n",
    "    del hdr_2D['CRVAL3']\n",
    "    del hdr_2D['CDELT3']\n",
    "print(repr(hdr_2D))"
   ]
  },
  {
   "cell_type": "code",
   "execution_count": null,
   "id": "fc03fb22",
   "metadata": {},
   "outputs": [],
   "source": [
    "##############\n",
    "nside = 128 # Note: smoothing a bit - original was nside=64 for now\n",
    "#############\n",
    "\n",
    "if cube:\n",
    "\n",
    "    # Q, U and I just in selected frequency slice:   \n",
    "    dataQ_K_hpx, footprint = reproject_to_healpix((dataQ_K[idx], hdr_2D),'icrs', nside=nside)\n",
    "    dataU_K_hpx, footprint = reproject_to_healpix((dataU_K[idx], hdr_2D),'icrs', nside=nside)\n",
    "    dataI_K_hpx, footprint = reproject_to_healpix((dataI_K[idx], hdr_2D),'icrs', nside=nside)\n",
    "\n",
    "    # The full array for Stokes I:\n",
    "    dataI_K_hpx_full = np.empty([len(freq),hp.nside2npix(128)])\n",
    "    for i in range(0,dataI_K_hpx_full.shape[0]):\n",
    "        dataI_K_hpx_full[i,:], footprint = reproject_to_healpix((dataI_K[i], hdr_2D),'icrs', nside=nside)\n",
    "\n",
    "else:\n",
    "\n",
    "    dataQ_K_hpx, footprint = reproject_to_healpix((dataQ_K, hdr_2D),'icrs', nside=nside)\n",
    "    dataU_K_hpx, footprint = reproject_to_healpix((dataU_K, hdr_2D),'icrs', nside=nside)\n",
    "    dataI_K_hpx, footprint = reproject_to_healpix((dataI_K, hdr_2D),'icrs', nside=nside)"
   ]
  },
  {
   "attachments": {},
   "cell_type": "markdown",
   "id": "01890b63",
   "metadata": {},
   "source": [
    "### Rotate Stokes I to Galactic"
   ]
  },
  {
   "cell_type": "code",
   "execution_count": null,
   "id": "677df586",
   "metadata": {},
   "outputs": [],
   "source": [
    "if cube:\n",
    "\n",
    "    import healpy\n",
    "    r = healpy.rotator.Rotator(coord=['C','G'])\n",
    "    dataI_K_gal_hpx = r.rotate_map_pixel(dataI_K_hpx_full)\n",
    "\n",
    "else:\n",
    "\n",
    "    print('Keeping all data in equatorial')"
   ]
  },
  {
   "attachments": {},
   "cell_type": "markdown",
   "id": "9892faa2",
   "metadata": {},
   "source": [
    "### Make Healpix header (for 2D array)"
   ]
  },
  {
   "cell_type": "code",
   "execution_count": null,
   "id": "a165f113",
   "metadata": {},
   "outputs": [],
   "source": [
    "hdu_new_hpx = fits.PrimaryHDU()\n",
    "hdr_hpx = hdu_new_hpx.header\n",
    "\n",
    "hdr_hpx['PIXTYPE'] = ('HEALPIX ', 'HEALPIX pixelisation')\n",
    "hdr_hpx['ORDERING'] = ('RING', 'Pixel ordering scheme, either RING or NESTED')\n",
    "hdr_hpx['NSIDE'] = (nside,     'Resolution parameter of HEALPIX')\n",
    "hdr_hpx['INDXSCHM'] = ('IMPLICIT', 'Indexing: IMPLICIT or EXPLICIT')\n",
    "hdr_hpx['OBJECT'] = ('FULLSKY ', 'Sky coverage, either FULLSKY or PARTIAL')\n",
    "hdr_hpx['COORDSYS'] = ('C', 'Ecliptic, Galactic or Celestial (equatorial)')\n",
    "#hdr_hpx['NAXIS'] = 1\n",
    "print(repr(hdr_hpx))"
   ]
  },
  {
   "attachments": {},
   "cell_type": "markdown",
   "id": "51561ea3",
   "metadata": {},
   "source": [
    "### Write out separate channel Q, U and I Healpix files in Equatorial"
   ]
  },
  {
   "cell_type": "code",
   "execution_count": null,
   "id": "0fede363",
   "metadata": {},
   "outputs": [],
   "source": [
    "fits.writeto('/srv/data/dva/dva_map_test_results/George/'+el+str(freq_choose)+'_Jul04_q_K.hpx.fits',\n",
    "             dataQ_K_hpx,header=hdr_hpx,overwrite=True,output_verify='fix')\n",
    "\n",
    "fits.writeto('/srv/data/dva/dva_map_test_results/George/'+el+str(freq_choose)+'_Jul04_u_K.hpx.fits',\n",
    "             dataU_K_hpx,header=hdr_hpx,overwrite=True,output_verify='fix')\n",
    "\n",
    "fits.writeto('/srv/data/dva/dva_map_test_results/George/'+el+str(freq_choose)+'_Jul04_i_K.hpx.fits',\n",
    "             dataI_K_hpx,header=hdr_hpx,overwrite=True,output_verify='fix')"
   ]
  },
  {
   "cell_type": "code",
   "execution_count": null,
   "id": "f3304cfd",
   "metadata": {},
   "outputs": [],
   "source": [
    "dataQ_K_hpx.shape"
   ]
  },
  {
   "attachments": {},
   "cell_type": "markdown",
   "id": "048fc874",
   "metadata": {},
   "source": [
    "### Write out separate channel Q, U and I FITS files in Equatorial"
   ]
  },
  {
   "cell_type": "code",
   "execution_count": null,
   "id": "0cbd858d",
   "metadata": {},
   "outputs": [],
   "source": [
    "fits.writeto('/srv/data/dva/dva_map_test_results/George/'+el+str(freq_choose)+'_Jul04_q_K.fits',\n",
    "             dataQ_K,header=hdr_2D,overwrite=True,output_verify='fix')\n",
    "\n",
    "fits.writeto('/srv/data/dva/dva_map_test_results/George/'+el+str(freq_choose)+'_Jul04_u_K.fits',\n",
    "             dataU_K,header=hdr_2D,overwrite=True,output_verify='fix')\n",
    "\n",
    "fits.writeto('/srv/data/dva/dva_map_test_results/George/'+el+str(freq_choose)+'_Jul04_i_K.fits',\n",
    "             dataI_K,header=hdr_2D,overwrite=True,output_verify='fix')"
   ]
  },
  {
   "attachments": {},
   "cell_type": "markdown",
   "id": "c7400615",
   "metadata": {},
   "source": [
    "### Make FITS-CAR Galactic projection for Stokes I cube"
   ]
  },
  {
   "cell_type": "code",
   "execution_count": null,
   "id": "c3d944b9",
   "metadata": {},
   "outputs": [],
   "source": [
    "###########\n",
    "delta = 0.5\n",
    "##########\n",
    "\n",
    "# Healpix parameters:\n",
    "nside = hdr_hpx['NSIDE']\n",
    "order = hdr_hpx['ORDERING']\n",
    "hpx = HEALPix(nside=nside, order=order, frame=Galactic())\n",
    "\n",
    "# Number of pixels along each axis:\n",
    "numlon = int(360./delta)\n",
    "numlat = int(180./delta)\n",
    "\n",
    "# 1D and 2D RA and dec grids:\n",
    "lon = np.linspace(360, 0, numlon) * u.deg\n",
    "lat = np.linspace(-90, 90, numlat) * u.deg\n",
    "l_grid, b_grid = np.meshgrid(lon, lat)\n",
    "\n",
    "# Set up Astropy coordinate objects\n",
    "coords = SkyCoord(l_grid, b_grid, frame='galactic')\n",
    "\n",
    "dataI_K_full = np.empty([len(freq),numlat,numlon])\n",
    "for i in range(0,len(freq)):\n",
    "    dataI_K_full[i,:,:] = hpx.interpolate_bilinear_skycoord(coords, dataI_K_gal_hpx[i])\n",
    "#dataI_K_full = dataI_K_full.reshape((numlat, numlon))[:,::-1]\n",
    "print(dataI_K_full.shape)"
   ]
  },
  {
   "cell_type": "code",
   "execution_count": null,
   "id": "27d45bb0",
   "metadata": {},
   "outputs": [],
   "source": [
    "plt.imshow(dataI_K_full[0,:,:],origin='lower')"
   ]
  },
  {
   "cell_type": "code",
   "execution_count": null,
   "id": "cc1a894f",
   "metadata": {},
   "outputs": [],
   "source": [
    "freq_reg = np.linspace(freq[0],freq[-1],35)\n",
    "plt.scatter(freq,freq_reg)\n",
    "plt.xlabel('Becky channels')\n",
    "plt.ylabel('Approximate frequencies')\n",
    "plt.grid()\n",
    "\n",
    "hdr_car_3D = fits.Header.fromstring(\"\"\"\n",
    "NAXIS   =                    3\n",
    "CUNIT1  = 'deg     '\n",
    "CUNIT2  = 'deg     '\n",
    "CUNIT3  = 'MHz     '\n",
    "\"\"\", sep='\\n')\n",
    "\n",
    "hdr_car_3D['COORDSYS']  = 'galactic'\n",
    "hdr_car_3D['NAXIS1']  = dataI_K_full.shape[2] \n",
    "hdr_car_3D['NAXIS2']  = dataI_K_full.shape[1]\n",
    "hdr_car_3D['NAXIS3']  = dataI_K_full.shape[0]\n",
    "\n",
    "hdr_car_3D['CTYPE1']  = 'GLON--CAR'\n",
    "hdr_car_3D['CRPIX1']  = dataI_K_full.shape[2]/2.+0.5 \n",
    "hdr_car_3D['CRVAL1']  = 360./2.          \n",
    "hdr_car_3D['CDELT1']  = -delta\n",
    "\n",
    "hdr_car_3D['CTYPE2']  = 'GLAT-CAR'\n",
    "hdr_car_3D['CRPIX2']  = dataI_K_full.shape[1]/2.+0.5\n",
    "hdr_car_3D['CRVAL2']  = 0.\n",
    "hdr_car_3D['CDELT2']  = delta\n",
    "\n",
    "hdr_car_3D['CTYPE3']  = 'FREQ'\n",
    "hdr_car_3D['CRPIX3']  = 1\n",
    "hdr_car_3D['CRVAL3']  = freq_reg[0]\n",
    "hdr_car_3D['CDELT3']  = freq_reg[1] - freq_reg[0]\n",
    "\n",
    "print(repr(hdr_car_3D))"
   ]
  },
  {
   "attachments": {},
   "cell_type": "markdown",
   "id": "1e6bb819",
   "metadata": {},
   "source": [
    "### Write out Galactic Stokes I FITS cube"
   ]
  },
  {
   "cell_type": "code",
   "execution_count": null,
   "id": "4b756c20",
   "metadata": {},
   "outputs": [],
   "source": [
    "fits.writeto('/srv/data/dragons/DRAGONS_StokesI_June30_K.fits',\n",
    "             dataI_K_full,header=hdr_car_3D,overwrite=True,output_verify='fix')"
   ]
  },
  {
   "cell_type": "code",
   "execution_count": null,
   "id": "ad8ef4b9",
   "metadata": {},
   "outputs": [],
   "source": []
  }
 ],
 "metadata": {
  "kernelspec": {
   "display_name": "Python 3",
   "language": "python",
   "name": "python3"
  },
  "language_info": {
   "codemirror_mode": {
    "name": "ipython",
    "version": 3
   },
   "file_extension": ".py",
   "mimetype": "text/x-python",
   "name": "python",
   "nbconvert_exporter": "python",
   "pygments_lexer": "ipython3",
   "version": "3.9.4"
  }
 },
 "nbformat": 4,
 "nbformat_minor": 5
}
