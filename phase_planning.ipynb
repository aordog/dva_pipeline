{
 "cells": [
  {
   "cell_type": "markdown",
   "id": "3bd9d13b",
   "metadata": {},
   "source": [
    "## Make approximate maps of scan coverage at different times of the year\n",
    "### A. Ordog, August 2022 "
   ]
  },
  {
   "cell_type": "markdown",
   "id": "352042bf",
   "metadata": {},
   "source": [
    "## Import packages"
   ]
  },
  {
   "cell_type": "code",
   "execution_count": null,
   "id": "666a6715",
   "metadata": {},
   "outputs": [],
   "source": [
    "import numpy as np\n",
    "from astropy import units as u\n",
    "from astropy.coordinates import SkyCoord,EarthLocation, AltAz, ICRS, Galactic, FK4, FK5\n",
    "from astropy.time import Time\n",
    "import matplotlib.pyplot as plt\n",
    "import datetime\n",
    "from astropy.wcs import WCS\n",
    "import datetime\n",
    "import matplotlib.dates as mdates\n",
    "import ephem"
   ]
  },
  {
   "cell_type": "markdown",
   "id": "d4d60134",
   "metadata": {},
   "source": [
    "## Set up survay scan parameters"
   ]
  },
  {
   "cell_type": "code",
   "execution_count": null,
   "id": "220f4d7c",
   "metadata": {},
   "outputs": [],
   "source": [
    "###################################################################\n",
    "\n",
    "#### KEEP THESE PARAMETERS THE SAME:\n",
    "nscan = 72    # number of single direction in 24 sidereal hours\n",
    "vscan = 1/3   # scan speed in degrees per second\n",
    "dscan = 360.  # extent of the scans in azimuth\n",
    "az0 = 0.      # starting azimuth of scans\n",
    "\n",
    "#### MODIFY THESE AS NEEDED:\n",
    "# The sampling time - determines spacing between points:\n",
    "tsamp = 1.0   \n",
    "# Number of sets of scans - in the survey we actually have 20,\n",
    "# but with smaller values it's easier to see what's going on in\n",
    "# the 'simulated' plots:\n",
    "N = 3 \n",
    "# Starting date for scans. In reality, this should be a specific\n",
    "# date for each observing night, but for the purposes of making\n",
    "# approximate maps of sky coverage, a single date, sometime in the\n",
    "# middle of the survey phase is fine. I used the following:\n",
    "# Phase 1: '2022-06-30T00:00:00.0'\n",
    "# Phase 2: '2022-09-15T00:00:00.0'\n",
    "# Phase 3: '2022-12-15T00:00:00.0'\n",
    "t0 = '2022-06-30T00:00:00.0'\n",
    "phase = 1\n",
    "##############################\n",
    "###################################################################\n",
    "###################################################################\n",
    "\n",
    "# Define some other parameters (mostly conversions between time and sidereal time)\n",
    "\n",
    "sid_to_t = (23+56/60+4.1/3600)/24\n",
    "t_to_sid = 1/sid_to_t\n",
    "\n",
    "tscan = dscan/vscan \n",
    "tscansid = tscan*t_to_sid\n",
    "tsampsid = tsamp*t_to_sid\n",
    "vscansid = vscan*sid_to_t\n",
    "print(vscansid)\n",
    "\n",
    "twaitsid = (24*3600-nscan*tscansid)/nscan\n",
    "twait = twaitsid*sid_to_t\n",
    "\n",
    "npts = int(np.floor(tscansid/tsampsid))\n",
    "\n",
    "t0sid = np.empty(N)\n",
    "for i in range(0,N):\n",
    "    t0sid[i] = i*(twaitsid*2+tscansid*2)/N\n",
    "    \n",
    "print(npts)\n",
    "print(tscan/60)\n",
    "print(tscansid/60)\n",
    "print(twait/60)\n",
    "print(twaitsid/60)\n",
    "print(t0sid/60)"
   ]
  },
  {
   "cell_type": "markdown",
   "id": "9e250e5d",
   "metadata": {},
   "source": [
    "## Calculate coordinates at each point (takes a while)"
   ]
  },
  {
   "cell_type": "code",
   "execution_count": null,
   "id": "c4b10189",
   "metadata": {},
   "outputs": [],
   "source": [
    "loc = EarthLocation(lat = 49.3*u.deg, lon = -119.6*u.deg, height = 546*u.m)\n",
    "\n",
    "#tsid = np.empty([nscan*N,npts])\n",
    "tdelt_arr = np.empty([nscan*N,npts])\n",
    "az = np.empty([nscan*N,npts])\n",
    "el_pol = np.empty([nscan*N,npts])\n",
    "el_20 = np.empty([nscan*N,npts])\n",
    "ra1 = np.empty([nscan*N,npts])\n",
    "dec1 = np.empty([nscan*N,npts])\n",
    "l1 = np.empty([nscan*N,npts])\n",
    "b1 = np.empty([nscan*N,npts])\n",
    "ra2 = np.empty([nscan*N,npts])\n",
    "dec2 = np.empty([nscan*N,npts])\n",
    "l2 = np.empty([nscan*N,npts])\n",
    "b2 = np.empty([nscan*N,npts])\n",
    "t = []\n",
    "\n",
    "samp_arr = np.linspace(0,(npts-1)*tsamp,npts)\n",
    "\n",
    "for k in range(0,N):\n",
    "    print('====================')\n",
    "    print(k)\n",
    "    scandir = 1\n",
    "    az0use = az0   \n",
    "\n",
    "    for i in range(0,nscan):\n",
    "        \n",
    "        tdelt_arr[k*nscan+i,:] = i*(tscan+twait)+t0sid[k]*sid_to_t+samp_arr\n",
    "                            \n",
    "        az[k*nscan+i,:] = scandir*(samp_arr*t_to_sid)*vscansid+az0use\n",
    "        el_20[k*nscan+i,:] = 20.0\n",
    "        el_pol[k*nscan+i,:] = 49.3\n",
    "        t.append(Time(t0,format='isot',scale='utc')+datetime.timedelta(seconds=1)*tdelt_arr[k*nscan+i,:])\n",
    "\n",
    "        AltAzcoord1 = SkyCoord(alt=el_pol[k*nscan+i,:]*u.deg, az=az[k*nscan+i,:]*u.deg, obstime=t[k*nscan+i][:], \n",
    "                              frame = 'altaz', location = loc)\n",
    "        ra1[k*nscan+i,:]  = AltAzcoord1.icrs.ra\n",
    "        dec1[k*nscan+i,:] = AltAzcoord1.icrs.dec\n",
    "        l1[k*nscan+i,:]   = AltAzcoord1.galactic.l.deg\n",
    "        b1[k*nscan+i,:]   = AltAzcoord1.galactic.b.deg\n",
    "        \n",
    "        AltAzcoord2 = SkyCoord(alt=el_20[k*nscan+i,:]*u.deg, az=az[k*nscan+i,:]*u.deg, obstime=t[k*nscan+i][:], \n",
    "                              frame = 'altaz', location = loc)\n",
    "        ra2[k*nscan+i,:]  = AltAzcoord2.icrs.ra\n",
    "        dec2[k*nscan+i,:] = AltAzcoord2.icrs.dec\n",
    "        l2[k*nscan+i,:]   = AltAzcoord2.galactic.l.deg\n",
    "        b2[k*nscan+i,:]   = AltAzcoord2.galactic.b.deg\n",
    "        \n",
    "        az0use = az0use + scandir*dscan\n",
    "        scandir = -1*scandir   \n"
   ]
  },
  {
   "cell_type": "markdown",
   "id": "f3ae1237",
   "metadata": {},
   "source": [
    "## Make array of sidereal times for each point"
   ]
  },
  {
   "cell_type": "code",
   "execution_count": null,
   "id": "415191f2",
   "metadata": {},
   "outputs": [],
   "source": [
    "tsid = np.empty([nscan*N,npts])\n",
    "\n",
    "for k in range(0,N):\n",
    "\n",
    "    for i in range(0,nscan):\n",
    "        \n",
    "        tfix = Time(t[k*nscan+i][:],scale='utc',location=loc).datetime\n",
    "        tsid[k*nscan+i,:] = Time(tfix,scale='utc',location=loc).sidereal_time('mean').hour\n"
   ]
  },
  {
   "cell_type": "markdown",
   "id": "1542752e",
   "metadata": {},
   "source": [
    "## Set up range of available sidereal times given the season:"
   ]
  },
  {
   "cell_type": "code",
   "execution_count": null,
   "id": "951c3535",
   "metadata": {},
   "outputs": [],
   "source": [
    "if phase == 1:\n",
    "    t1 = 0  # less than 0 hrs (nothing) OR\n",
    "    t2 = 13 # greater than 13 hrs\n",
    "if phase == 2:\n",
    "    t1 = 8  # less than 8 hrs OR\n",
    "    t2 = 17 # greater than 17 hrs\n",
    "if phase == 3:\n",
    "    t1 = 15 # less than 15 hrs OR\n",
    "    t2 = 20 # greater than 20 hrs"
   ]
  },
  {
   "cell_type": "markdown",
   "id": "3e157abd",
   "metadata": {},
   "source": [
    "## Plot azimuth versus sidereal time"
   ]
  },
  {
   "cell_type": "code",
   "execution_count": null,
   "id": "9b92ef5a",
   "metadata": {},
   "outputs": [],
   "source": [
    "#scanplot = np.linspace(0,nscan-1,nscan)\n",
    "plt.figure(figsize=(20,4))\n",
    "\n",
    "spts = 0.1\n",
    "fs = 14\n",
    "\n",
    "for i in range(0,N):\n",
    "    for j in range(0,nscan):\n",
    "        \n",
    "        igood1 = np.where(tsid[i*nscan+int(j),:]<t1)\n",
    "        igood2 = np.where(tsid[i*nscan+int(j),:]>t2)\n",
    "\n",
    "        plt.scatter(tsid[i*nscan+int(j),igood1],az[i*nscan+int(j),igood1],color='C'+str(int(phase-1)),s=spts)\n",
    "        plt.scatter(tsid[i*nscan+int(j),igood2],az[i*nscan+int(j),igood2],color='C'+str(int(phase-1)),s=spts)\n",
    "\n",
    "plt.xlabel('Sidereal time (hrs)',fontsize=fs)\n",
    "plt.ylabel('Azimuth (deg.)',fontsize=fs)\n",
    "plt.xticks(fontsize=fs)\n",
    "plt.yticks(fontsize=fs)\n",
    "\n",
    "plt.ylim(-10,370)\n",
    "plt.xlim(0,24)\n",
    "plt.grid()\n",
    "\n",
    "plt.tight_layout()\n",
    "plt.savefig('../PLOTS/phase'+str(phase)+'_azimuth_vs_sidtime.jpg')"
   ]
  },
  {
   "cell_type": "markdown",
   "id": "227db277",
   "metadata": {},
   "source": [
    "## Plot scans in Equatorial coordinates"
   ]
  },
  {
   "cell_type": "code",
   "execution_count": null,
   "id": "3164c7a5",
   "metadata": {},
   "outputs": [],
   "source": [
    "fig = plt.figure(figsize=(20,6))\n",
    "plt.subplot(111, projection='rectilinear')\n",
    "plt.grid(True)\n",
    "\n",
    "spts = 0.2\n",
    "fs = 14\n",
    "\n",
    "for i in range(0,N):\n",
    "    for j in range(0,nscan):\n",
    "        \n",
    "        igood1 = np.where(tsid[i*nscan+int(j),:]<t1)\n",
    "        igood2 = np.where(tsid[i*nscan+int(j),:]>t2)\n",
    "        \n",
    "        eq1 = SkyCoord(ra1[i*nscan+int(j),igood1], dec1[i*nscan+int(j),igood1], frame='icrs', unit=u.deg)\n",
    "        eq2 = SkyCoord(ra1[i*nscan+int(j),igood2], dec1[i*nscan+int(j),igood2], frame='icrs', unit=u.deg)\n",
    "        \n",
    "        eq3 = SkyCoord(ra2[i*nscan+int(j),igood1], dec2[i*nscan+int(j),igood1], frame='icrs', unit=u.deg)\n",
    "        eq4 = SkyCoord(ra2[i*nscan+int(j),igood2], dec2[i*nscan+int(j),igood2], frame='icrs', unit=u.deg)\n",
    "        \n",
    "        # plot the high elevation scans:\n",
    "        plt.scatter(eq1.ra.hour, eq1.dec.deg,s=spts,c='C'+str(int(phase-1)))\n",
    "        plt.scatter(eq2.ra.hour, eq2.dec.deg,s=spts,c='C'+str(int(phase-1)))\n",
    "        \n",
    "        # plot the low elevation scans:\n",
    "        plt.scatter(eq3.ra.hour, eq3.dec.deg,s=spts,c='C'+str(int(phase-1)))\n",
    "        plt.scatter(eq4.ra.hour, eq4.dec.deg,s=spts,c='C'+str(int(phase-1)))\n",
    "\n",
    "\n",
    "plt.xlim(24,0)\n",
    "plt.ylim(-25,90)\n",
    "plt.yticks(fontsize=fs)\n",
    "plt.xlabel('Right Ascension (hours)',fontsize=fs)\n",
    "plt.ylabel('Declination (degrees)',fontsize=fs)\n",
    "\n",
    "plt.tight_layout()\n",
    "plt.savefig('../PLOTS/phase'+str(phase)+'_equatorial.jpg')"
   ]
  },
  {
   "cell_type": "markdown",
   "id": "9ef3c55e",
   "metadata": {},
   "source": [
    "## Plot scans in Galactic coordinates"
   ]
  },
  {
   "cell_type": "code",
   "execution_count": null,
   "id": "16075dbf",
   "metadata": {},
   "outputs": [],
   "source": [
    "fig = plt.figure(figsize=(20,10))\n",
    "plt.subplot(111, projection='aitoff')\n",
    "plt.grid(True)\n",
    "\n",
    "spts = 0.2\n",
    "fs = 12\n",
    "\n",
    "for i in range(0,N):\n",
    "    for j in range(0,nscan):\n",
    "        \n",
    "        igood1 = np.where(tsid[i*nscan+int(j),:]<t1)\n",
    "        igood2 = np.where(tsid[i*nscan+int(j),:]>t2)\n",
    "        \n",
    "        gal1 = SkyCoord(l1[i*nscan+int(j),igood1], b1[i*nscan+int(j),igood1], frame='galactic', unit=u.deg)\n",
    "        gal2 = SkyCoord(l1[i*nscan+int(j),igood2], b1[i*nscan+int(j),igood2], frame='galactic', unit=u.deg)\n",
    "        \n",
    "        gal3 = SkyCoord(l2[i*nscan+int(j),igood1], b2[i*nscan+int(j),igood1], frame='galactic', unit=u.deg)\n",
    "        gal4 = SkyCoord(l2[i*nscan+int(j),igood2], b2[i*nscan+int(j),igood2], frame='galactic', unit=u.deg)\n",
    "        \n",
    "        # plot the high elevation scans:\n",
    "        plt.scatter(-gal1.l.wrap_at('180d').radian, gal1.b.radian,s=spts,c='C'+str(int(phase-1)))\n",
    "        plt.scatter(-gal2.l.wrap_at('180d').radian, gal2.b.radian,s=spts,c='C'+str(int(phase-1)))\n",
    "        \n",
    "        # plot the low elevation scans:\n",
    "        plt.scatter(-gal3.l.wrap_at('180d').radian, gal3.b.radian,s=spts,c='C'+str(int(phase-1)))\n",
    "        plt.scatter(-gal4.l.wrap_at('180d').radian, gal4.b.radian,s=spts,c='C'+str(int(phase-1)))\n",
    "\n",
    "positions = (-150*np.pi/180.,-120*np.pi/180.,-90*np.pi/180.,-60*np.pi/180.,-30*np.pi/180.,0,\n",
    "             30*np.pi/180.,60*np.pi/180.,90*np.pi/180.,120*np.pi/180.,150*np.pi/180.)\n",
    "labels = (\"150\",\"120\",\"90\",\"60\",\"30\",\"0\",\"330\",\"300\",\"270\",\"240\",\"210\")\n",
    "plt.xticks(positions, labels,fontsize=fs)\n",
    "plt.yticks(fontsize=fs)\n",
    "plt.xlabel('Galactic Longitude (degrees)',fontsize=fs)\n",
    "plt.ylabel('Galactic Latitude (degrees)',fontsize=fs)\n",
    "\n",
    "plt.tight_layout()\n",
    "plt.savefig('../PLOTS/phase'+str(phase)+'_galactic.jpg')"
   ]
  },
  {
   "cell_type": "code",
   "execution_count": null,
   "id": "dc013d27",
   "metadata": {},
   "outputs": [],
   "source": []
  }
 ],
 "metadata": {
  "kernelspec": {
   "display_name": "Python 3 (ipykernel)",
   "language": "python",
   "name": "python3"
  },
  "language_info": {
   "codemirror_mode": {
    "name": "ipython",
    "version": 3
   },
   "file_extension": ".py",
   "mimetype": "text/x-python",
   "name": "python",
   "nbconvert_exporter": "python",
   "pygments_lexer": "ipython3",
   "version": "3.8.12"
  }
 },
 "nbformat": 4,
 "nbformat_minor": 5
}
