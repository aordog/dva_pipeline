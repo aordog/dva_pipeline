{
 "cells": [
  {
   "cell_type": "code",
   "execution_count": null,
   "id": "ae5ace4f",
   "metadata": {},
   "outputs": [],
   "source": [
    "import dva_sdhdf_combine_v3\n",
    "import imp\n",
    "import os\n",
    "import subprocess\n",
    "import h5py\n",
    "import numpy as np\n",
    "from astropy.time import Time\n",
    "import matplotlib.pyplot as plt\n",
    "from scipy.interpolate import griddata\n",
    "import datetime\n",
    "import matplotlib.dates as mdates\n",
    "from matplotlib.dates import HourLocator as HourLocator\n",
    "from matplotlib.dates import MinuteLocator as MinuteLocator\n",
    "from mpl_toolkits.axes_grid1 import make_axes_locatable\n",
    "from astropy import units as u\n",
    "from astropy.time import TimeDelta\n",
    "from astropy.modeling import models, fitting"
   ]
  },
  {
   "cell_type": "code",
   "execution_count": null,
   "id": "ec37d927",
   "metadata": {},
   "outputs": [],
   "source": [
    "#day ='41'\n",
    "#surveyphase = '2'\n",
    "\n",
    "#### Change the directory to where the files are located\" ####\n",
    "#dir_in = '/home2/DATA_AO/DVA_DATA/survey_phase2_day'+day+'/'\n",
    "#dir_out = '/home2/DATA_AO/DVA_DATA/dva_phase2/survey_phase2_day'+day+'/'\n",
    "#dir_in = '/home2/DATA_AO/DVA_DATA/drone_CHIME/'\n",
    "#dir_out = '/home2/DATA_AO/DVA_DATA/drone_CHIME/'\n",
    "#dir_in = '/home/ordoga/Mar29_spect_test/test_Mar29/'\n",
    "#dir_out = '/home/ordoga/Mar29_spect_test/test_Mar29/'\n",
    "dir_in = '/home2/DATA_AO/DVA_DATA/el_scans_Apr2023/'\n",
    "dir_out = '/media/ordoga/15m_band1_survey/el_scans_Apr2023/'\n",
    "##############################################################"
   ]
  },
  {
   "cell_type": "code",
   "execution_count": null,
   "id": "4cf86d63",
   "metadata": {},
   "outputs": [],
   "source": [
    "imp.reload(dva_sdhdf_combine_v3)\n",
    "\n",
    "#start = '2022-10-26T23:30:00.0'\n",
    "#stop = '2022-10-27T01:20:00.0'\n",
    "#outname = 'drone_CHIME'\n",
    "\n",
    "start = '2023-04-03T21:24:00.0'\n",
    "stop = '2023-04-03T23:46:07.0'\n",
    "outname = 'el_scans_Apr2023'\n",
    "\n",
    "dva_sdhdf_combine_v3.combine(dir_in,dir_out,start,stop,outname,freq_s=2,\n",
    "                                 az_scan_trim=False,freq_avg=True)"
   ]
  },
  {
   "cell_type": "markdown",
   "id": "acc6228a",
   "metadata": {},
   "source": [
    "## Read in data"
   ]
  },
  {
   "cell_type": "code",
   "execution_count": null,
   "id": "97e942b8",
   "metadata": {},
   "outputs": [],
   "source": [
    "%%time\n",
    "\n",
    "#outname = 'Day41_fail'\n",
    "#outname = 'drone_CHIME'\n",
    "outname = 'el_scans_Apr2023'\n",
    "file = h5py.File(dir_out+outname+'.h5','r')\n",
    "print(file)\n",
    "    \n",
    "dataset = file['data']['beam_0']['band_SB0']['scan_0']\n",
    "    \n",
    "# Add the position and time data to the corresponding arrays:\n",
    "dec_set = dataset['metadata']['declination']\n",
    "ra_set = dataset['metadata']['right_ascension']\n",
    "el_set = dataset['metadata']['elevation']\n",
    "az_set = dataset['metadata']['azimuth']\n",
    "t_set = dataset['metadata']['utc']\n",
    "noise_set = dataset['metadata']['noise_state']\n",
    "freq = file['data']['beam_0']['band_SB0']['frequency'][:]/1e6\n",
    "RR_set = dataset['data'][:,0,:]\n",
    "LL_set = dataset['data'][:,1,:]\n",
    "reRL_set = dataset['data'][:,2,:]\n",
    "imRL_set = dataset['data'][:,3,:]\n",
    "    \n",
    "t_set_plt = Time(t_set, format='isot',scale='utc').mjd"
   ]
  },
  {
   "cell_type": "markdown",
   "id": "028016db",
   "metadata": {},
   "source": [
    "## Generic waterfall plot"
   ]
  },
  {
   "cell_type": "code",
   "execution_count": null,
   "id": "f5de50dc",
   "metadata": {},
   "outputs": [],
   "source": [
    "fig,axs = plt.subplots(1,1,figsize=(15,10)) \n",
    "    \n",
    "fs = 12\n",
    "    \n",
    "extent = [t_set_plt[0],t_set_plt[-1],freq[0],freq[-1]]\n",
    "    \n",
    "im = axs.imshow(10*np.log10(RR_set.T),aspect='auto',vmin=65,vmax=85,\n",
    "                origin='lower',extent=extent,cmap='viridis')\n",
    "\n",
    "divider = make_axes_locatable(axs)\n",
    "cax = divider.append_axes('right', size='2%', pad=0.05)\n",
    "cbar = fig.colorbar(im, cax=cax, orientation='vertical')\n",
    "cbar.ax.tick_params(labelsize=fs) \n",
    "cbar.set_label('Power (dB)', fontsize=fs)\n",
    "\n",
    "axs.set_xlim(extent[0],extent[1])\n",
    "axs.set_ylim(freq[0],freq[-1])\n",
    "axs.tick_params(axis='both', labelsize=fs)\n",
    "axs.xaxis.set_major_formatter(mdates.DateFormatter('%H:%M:%S'))\n",
    "axs.fmt_xdata = mdates.DateFormatter('%H:%M:%S')\n",
    "axs.set_xlabel('Time (UTC)',fontsize=fs)        \n",
    "axs.set_ylabel('Frequency (MHz)',fontsize=fs)\n",
    "\n",
    "#plt.tight_layout()\n",
    "#plt.savefig('../DVA2/PLOTS/dva_drone_noise_waterfall.pdf')"
   ]
  },
  {
   "cell_type": "code",
   "execution_count": null,
   "id": "59f94e11",
   "metadata": {},
   "outputs": [],
   "source": [
    "fig1, axs = plt.subplots(1,1,figsize=(18,8))\n",
    "\n",
    "i1 = 0\n",
    "i2 = 8000\n",
    "fr_idx = 5500\n",
    "print(freq[fr_idx])\n",
    "print(LL_set[:,fr_idx].shape)\n",
    "print(t_set_plt.shape)\n",
    "print(t_set_plt)\n",
    "\n",
    "axs.plot(t_set_plt[i1:i2],10*np.log10(LL_set[i1:i2,fr_idx]),color='black')\n",
    "ax2 = axs.twinx()\n",
    "ax2.plot(t_set_plt[i1:i2],az_set[i1:i2])\n",
    "ax2.plot(t_set_plt[i1:i2],el_set[i1:i2])\n",
    "#axs.legend(fontsize=14)\n",
    "\n",
    "axs.tick_params(axis=\"x\")\n",
    "axs.tick_params(axis=\"y\")\n",
    "#axs.set_xlim(350,1030)\n",
    "axs.set_ylim(70,80)\n",
    "#axs.set_xlabel('Frequency (MHz)',fontsize=14)\n",
    "#axs.set_ylabel('Power (dB)',fontsize=14)\n",
    "#axs.set_title('Survey phase '+surveyphase+' day '+day,fontsize=14)\n",
    "axs.xaxis.set_major_formatter(mdates.DateFormatter('%H:%M:%S'))\n",
    "axs.fmt_xdata = mdates.DateFormatter('%H:%M:%S')\n",
    "axs.set_xlabel('Time (UTC)',fontsize=fs)  \n",
    "axs.grid()"
   ]
  },
  {
   "cell_type": "code",
   "execution_count": null,
   "id": "3247344f",
   "metadata": {},
   "outputs": [],
   "source": [
    "fig1, axs = plt.subplots(1,1,figsize=(18,6))\n",
    "\n",
    "ii1 = 1600\n",
    "ii2 = 2850\n",
    "\n",
    "print(t_set[ii1])\n",
    "print(t_set[ii2])\n",
    "\n",
    "axs.plot(freq,10*np.log10(LL_set[ii1,:]),label='with drone')\n",
    "axs.plot(freq,10*np.log10(LL_set[ii2,:]),label='no drone')\n",
    "axs.legend(fontsize=14)\n",
    "\n",
    "axs.tick_params(axis=\"x\")\n",
    "axs.tick_params(axis=\"y\")\n",
    "axs.set_xlim(350,1030)\n",
    "axs.set_ylim(65,95)\n",
    "axs.set_xlabel('Frequency (MHz)',fontsize=14)\n",
    "axs.set_ylabel('Power (dB)',fontsize=14)\n",
    "#axs.set_title('Survey phase '+surveyphase+' day '+day,fontsize=14)\n",
    "axs.grid()\n",
    "\n",
    "#plt.tight_layout()\n",
    "#plt.savefig('../DVA2/PLOTS/dva_drone_noise_spectrum.pdf')"
   ]
  },
  {
   "cell_type": "code",
   "execution_count": null,
   "id": "6ee5a163",
   "metadata": {},
   "outputs": [],
   "source": [
    "10**(-0.25/10)"
   ]
  },
  {
   "cell_type": "code",
   "execution_count": null,
   "id": "a4d65b7d",
   "metadata": {},
   "outputs": [],
   "source": []
  },
  {
   "cell_type": "code",
   "execution_count": null,
   "id": "8ae906cf",
   "metadata": {},
   "outputs": [],
   "source": [
    "fig1, axs = plt.subplots(1,1,figsize=(18,6))\n",
    "\n",
    "axs.scatter(t_set_plt,az_set,s=1)\n",
    "\n",
    "axs.tick_params(axis=\"x\")\n",
    "axs.tick_params(axis=\"y\")\n",
    "axs.set_xlim(t_set_plt[0]+0.08,t_set_plt[-1]+0.01)\n",
    "axs.set_ylim(-10,370)\n",
    "axs.set_xlabel('Time (UTC)',fontsize=14)\n",
    "#axs.set_ylabel('RA (hr)',fontsize=14)\n",
    "axs.set_title('Survey phase '+surveyphase+' day '+day,fontsize=14)\n",
    "axs.xaxis.set_major_formatter(mdates.DateFormatter('%H:%M:%S'))\n",
    "axs.fmt_xdata = mdates.DateFormatter('%H:%M:%S')\n",
    "axs.grid()"
   ]
  },
  {
   "cell_type": "code",
   "execution_count": null,
   "id": "9f87d40b",
   "metadata": {},
   "outputs": [],
   "source": [
    "print(az_set[-1])\n",
    "print(t_set[-1])"
   ]
  },
  {
   "cell_type": "code",
   "execution_count": null,
   "id": "f9b13700",
   "metadata": {},
   "outputs": [],
   "source": [
    "(283.77-67)*18/360"
   ]
  },
  {
   "cell_type": "code",
   "execution_count": null,
   "id": "c0d4475a",
   "metadata": {},
   "outputs": [],
   "source": []
  },
  {
   "cell_type": "code",
   "execution_count": null,
   "id": "ef2a4ff7",
   "metadata": {},
   "outputs": [],
   "source": [
    "imp.reload(dva_sdhdf_combine_v3)\n",
    "\n",
    "start = '2022-09-26T00:00:00.0'\n",
    "stop = '2022-09-26T23:59:59.0'\n",
    "\n",
    "#start = '2022-09-24T00:31:58.0'\n",
    "#stop = '2022-09-26T14:33:58.0'\n",
    "outname = 'NCP_Fall_2022_part3'\n",
    "dirfiles = '/home2/DATA_AO/DVA_DATA/NCP_Sept2022/'\n",
    "\n",
    "dva_sdhdf_combine_v3.combine(dirfiles,dirfiles,start,stop,outname,freq_s=12,\n",
    "                                 az_scan_trim=False,freq_avg=True)"
   ]
  },
  {
   "cell_type": "code",
   "execution_count": null,
   "id": "293cd981",
   "metadata": {},
   "outputs": [],
   "source": [
    "%%time\n",
    "dirfiles = '/home2/DATA_AO/DVA_DATA/NCP_Sept2022/'\n",
    "outname = 'NCP_Fall_2022_part3'\n",
    "file = h5py.File(dirfiles+outname+'.h5','r')\n",
    "print(file['data']['beam_0'].keys())\n",
    "    \n",
    "dataset = file['data']['beam_0']['band_SB0']['scan_0']\n",
    "    \n",
    "# Add the position and time data to the corresponding arrays:\n",
    "dec_set = dataset['metadata']['declination']\n",
    "ra_set = dataset['metadata']['right_ascension']\n",
    "el_set = dataset['metadata']['elevation']\n",
    "az_set = dataset['metadata']['azimuth']\n",
    "t_set = dataset['metadata']['utc']\n",
    "noise_set = dataset['metadata']['noise_state']\n",
    "freq = file['data']['beam_0']['band_SB0']['frequency'][::12]/1e6\n",
    "\n",
    "t_set_plt = Time(t_set, format='isot',scale='utc').mjd"
   ]
  },
  {
   "cell_type": "code",
   "execution_count": null,
   "id": "6f5fc27f",
   "metadata": {},
   "outputs": [],
   "source": [
    "fig1, axs = plt.subplots(1,1,figsize=(18,6))\n",
    "\n",
    "axs.scatter(t_set_plt,az_set,s=1)\n",
    "\n",
    "axs.tick_params(axis=\"x\")\n",
    "axs.tick_params(axis=\"y\")\n",
    "#axs.set_xlim(t_set_plt[0]+0.08,t_set_plt[-1]+0.01)\n",
    "axs.set_ylim(-10,370)\n",
    "axs.set_xlabel('Time (UTC)',fontsize=14)\n",
    "#axs.set_ylabel('RA (hr)',fontsize=14)\n",
    "#axs.set_title('Survey phase '+surveyphase+' day '+day,fontsize=14)\n",
    "axs.xaxis.set_major_formatter(mdates.DateFormatter('%H:%M:%S'))\n",
    "axs.fmt_xdata = mdates.DateFormatter('%H:%M:%S')\n",
    "axs.grid()"
   ]
  },
  {
   "cell_type": "code",
   "execution_count": null,
   "id": "1e565d6f",
   "metadata": {},
   "outputs": [],
   "source": []
  }
 ],
 "metadata": {
  "kernelspec": {
   "display_name": "Python 3 (ipykernel)",
   "language": "python",
   "name": "python3"
  },
  "language_info": {
   "codemirror_mode": {
    "name": "ipython",
    "version": 3
   },
   "file_extension": ".py",
   "mimetype": "text/x-python",
   "name": "python",
   "nbconvert_exporter": "python",
   "pygments_lexer": "ipython3",
   "version": "3.8.12"
  }
 },
 "nbformat": 4,
 "nbformat_minor": 5
}
