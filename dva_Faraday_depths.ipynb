{
 "cells": [
  {
   "cell_type": "code",
   "execution_count": null,
   "id": "b19720d5",
   "metadata": {},
   "outputs": [],
   "source": [
    "%matplotlib inline\n",
    "import matplotlib.pyplot as plt\n",
    "import matplotlib as mpl\n",
    "import os\n",
    "from astropy.wcs import WCS\n",
    "import numpy as np\n",
    "from matplotlib.ticker import MultipleLocator\n",
    "from scipy.stats import linregress\n",
    "from matplotlib.colors import LogNorm\n",
    "import astropy.io.fits as fits\n",
    "from reproject import reproject_from_healpix\n",
    "from matplotlib import cm\n",
    "from matplotlib.colors import Normalize \n",
    "from matplotlib import pyplot as plt, patches\n",
    "from scipy.interpolate import interpn\n",
    "from reproject import reproject_to_healpix\n",
    "from astropy_healpix import HEALPix\n",
    "from astropy.coordinates import SkyCoord, ICRS, Galactic\n",
    "from astropy import units as units\n",
    "import matplotlib.cm as cm\n",
    "import sys\n",
    "from importlib import reload\n",
    "import astropy.units as u\n",
    "import copy\n",
    "from matplotlib.ticker import MultipleLocator, FuncFormatter\n",
    "from mpl_toolkits.axes_grid1 import make_axes_locatable\n",
    "import gc"
   ]
  },
  {
   "cell_type": "code",
   "execution_count": null,
   "id": "18b78ee9",
   "metadata": {},
   "outputs": [],
   "source": [
    "directory = '/srv/data/dva/dva_map_test_results/Anna/Apr8/'\n",
    "dir_out = '/home/aordog/DVA_PLOTS/'\n",
    "plot_name = 'DRAO_15m_600_1000_MHz'\n",
    "plot_title = 'DRAO 15-m 600 - 1000 MHz'\n",
    "basefilename = 'DVA_Apr9'"
   ]
  },
  {
   "cell_type": "markdown",
   "id": "0ba9dc4d",
   "metadata": {},
   "source": [
    "# Some functions:"
   ]
  },
  {
   "cell_type": "code",
   "execution_count": null,
   "id": "3cf44256",
   "metadata": {},
   "outputs": [],
   "source": [
    "def zero_moment(hdr,data,peakthresh,maxFD,RM_arr):\n",
    "    \n",
    "    dFD = hdr['CDELT2']\n",
    "    print('Calculating zeroth moment...')    \n",
    "    print('Max FD to include: ',maxFD)\n",
    "    print('FD channel width: ',dFD)\n",
    "    \n",
    "    zero_mom_hdr = hdr.copy()    \n",
    "    zero_mom_hdr['NAXIS'] = 1  \n",
    "    del zero_mom_hdr['CRVAL2']\n",
    "    del zero_mom_hdr['CTYPE2']\n",
    "    del zero_mom_hdr['CRPIX2']\n",
    "    del zero_mom_hdr['CDELT2']\n",
    "    del zero_mom_hdr['CUNIT2']\n",
    "    del zero_mom_hdr['NAXIS2']\n",
    "    try:\n",
    "        del zero_mom_hdr['LAMSQ0']\n",
    "    except:\n",
    "        pass\n",
    "    \n",
    "    numpix = data.shape[1]   \n",
    "    zero_mom_data = np.empty(numpix)\n",
    "       \n",
    "    for i in range(0,numpix):\n",
    "        if i==int(numpix/2):\n",
    "            print('halfway')\n",
    "        #wgood = np.where((data[:,i]>=peakthresh) & (data[:,i]>=0.15*peakPI_data[i]) & (abs(RM_arr)<=maxFD))\n",
    "        wgood = np.where((data[:,i]>=peakthresh) & (abs(RM_arr)<=maxFD))\n",
    "        if np.size(wgood) != 0:\n",
    "            zero_mom_data[i] = dFD*np.sum(data[wgood,i])\n",
    "        else:\n",
    "            zero_mom_data[i] = np.nan      \n",
    "    \n",
    "    print('done')\n",
    "    print('')\n",
    "    return(zero_mom_data,zero_mom_hdr)\n",
    "\n",
    "def first_moment(hdr,data,peakthresh,maxFD,RM_arr,zero_mom):\n",
    "    \n",
    "    dFD = hdr['CDELT2']\n",
    "    print('Calculating first moment...')    \n",
    "    print('Max FD to include: ',maxFD)\n",
    "    print('FD channel width: ',dFD)\n",
    "    \n",
    "    first_mom_hdr = hdr.copy()    \n",
    "    first_mom_hdr['NAXIS'] = 1  \n",
    "    del first_mom_hdr['CRVAL2']\n",
    "    del first_mom_hdr['CTYPE2']\n",
    "    del first_mom_hdr['CRPIX2']\n",
    "    del first_mom_hdr['CDELT2']\n",
    "    del first_mom_hdr['CUNIT2']\n",
    "    del first_mom_hdr['NAXIS2']\n",
    "    try:\n",
    "        del zero_mom_hdr['LAMSQ0']\n",
    "    except:\n",
    "        pass\n",
    "    \n",
    "    numpix = data.shape[1]   \n",
    "    first_mom_data = np.empty(numpix)\n",
    "       \n",
    "    for i in range(0,numpix):\n",
    "        if i==int(numpix/2):\n",
    "            print('halfway')\n",
    "        #wgood = np.where((data[:,i]>=peakthresh) & (data[:,i]>=0.15*peakPI_data[i]) & (abs(RM_arr)<=maxFD))\n",
    "        wgood = np.where((data[:,i]>=peakthresh) & (abs(RM_arr)<=maxFD))\n",
    "        if np.size(wgood) != 0:\n",
    "            first_mom_data[i] = dFD*np.sum(data[wgood,i]*RM_arr[wgood])/zero_mom[i]\n",
    "        else:\n",
    "            first_mom_data[i] = np.nan      \n",
    "    \n",
    "    print('done')\n",
    "    print('')\n",
    "    return(first_mom_data,first_mom_hdr)\n",
    "\n",
    "class nice_map_zoom(object):\n",
    "       \n",
    "    def mollweide(data,coordsys,Pmin,Pmax,pixsize=0.5,fs=14,cmap=cm.viridis,title='',bg_clr='gray',\n",
    "               xc=180,yc=0,grid_clr='black',lbl_clr='black',axtitles=True,cbarlbl='',lonra=[-180,180],latra=[-90,90],\n",
    "               *args, **kwargs):\n",
    "        print('Mollweide')\n",
    "        proj = '-MOL'\n",
    "        fc = 'EllipticalFrame'\n",
    "        hdr_new,cs,ny,nx = make_new_header_zoom(coordsys,proj,pixsize,xc,yc,lonra)\n",
    "        make_the_map_zoom(data,hdr_new,fc,cs,Pmin,Pmax,fs,cmap,title,bg_clr,grid_clr,lbl_clr,axtitles,cbarlbl,proj,latra,ny,nx)\n",
    "        return\n",
    "    \n",
    "    def platcar(data,coordsys,Pmin,Pmax,pixsize=0.5,fs=14,cmap=cm.viridis,title='',bg_clr='gray',\n",
    "               xc=180,yc=0,grid_clr='black',lbl_clr='black',axtitles=True,cbarlbl='',lonra=[-180,180],latra=[-90,90],\n",
    "               *args, **kwargs):\n",
    "        print('Plate Caree')\n",
    "        proj = '-CAR'\n",
    "        fc = 'Rect'\n",
    "        hdr_new,cs,ny,nx = make_new_header_zoom(coordsys,proj,pixsize,xc,yc,lonra)\n",
    "        make_the_map_zoom(data,hdr_new,fc,cs,Pmin,Pmax,fs,cmap,title,bg_clr,grid_clr,lbl_clr,axtitles,cbarlbl,proj,latra,ny,nx)\n",
    "        return\n",
    "\n",
    "def make_new_header_zoom(coordsys,proj,pixsize,xc,yc,lonra):\n",
    "    if coordsys == 'C':\n",
    "        ctype1 = 'RA--'+proj\n",
    "        ctype2 = 'DEC-'+proj\n",
    "        cs = 'icrs'\n",
    "    if coordsys == 'G':\n",
    "        ctype1 = 'GLON'+proj\n",
    "        ctype2 = 'GLAT'+proj\n",
    "        cs = 'galactic'\n",
    "\n",
    "    if (proj == '-MOL') or (proj == '-AIT'):\n",
    "        nx = int(round((((lonra[1]-lonra[0])/360)*4*np.sqrt(2)*180/(pixsize*np.pi)),0))\n",
    "        ny = int(round((2*np.sqrt(2)*180/(pixsize*np.pi)),0))\n",
    "    if (proj == '-CAR'):\n",
    "        nx = int(round(((lonra[1]-lonra[0])/360)*(360/pixsize),0))\n",
    "        ny = int(round((180/pixsize),0))\n",
    "    if (proj == '-TAN'):\n",
    "        nx = int(round((15*180/(pixsize*np.pi)),0))\n",
    "        ny = int(round((15*180/(pixsize*np.pi)),0))\n",
    "\n",
    "    hdr_new = fits.Header.fromstring(\"\"\"\n",
    "NAXIS   =                    2\n",
    "CUNIT1  = 'deg     '\n",
    "CUNIT2  = 'deg     '\n",
    "COORDSYS= 'icrs    '\n",
    "\"\"\", sep='\\n')\n",
    "    hdr_new['NAXIS1']  = nx \n",
    "    hdr_new['NAXIS2']  = ny\n",
    "    hdr_new['CTYPE1']  = ctype1\n",
    "    hdr_new['CRPIX1']  = nx/2.+0.5 \n",
    "    hdr_new['CRVAL1']  = xc          \n",
    "    hdr_new['CDELT1']  = -pixsize \n",
    "    hdr_new['CTYPE2']  = ctype2\n",
    "    hdr_new['CRPIX2']  = ny/2.+0.5\n",
    "    hdr_new['CRVAL2']  = yc\n",
    "    hdr_new['CDELT2']  = pixsize\n",
    "    #print(repr(hdr_new))    \n",
    "    return(hdr_new,cs,ny,nx)    \n",
    "    \n",
    "    \n",
    "def make_the_map_zoom(data,hdr_new,fc,cs,Pmin,Pmax,fs,cmap,title,bg_clr,\n",
    "                 grid_clr,lbl_clr,axtitles,cbarlbl,proj,latra,ny,nx):\n",
    "\n",
    "    array, footprint = reproject_from_healpix((data,cs),hdr_new, nested=False)\n",
    "    \n",
    "    fig = plt.figure(figsize=(15,10))\n",
    "    \n",
    "    srise = np.repeat(211.1,1000)\n",
    "    sset = np.repeat(332.1,1000)\n",
    "    dec_arr1 = np.linspace(14.7,86,1000)\n",
    "    dec_arr2 = np.linspace(12,86,1000)\n",
    "\n",
    "    c1 = SkyCoord(ra=srise*u.degree, dec=dec_arr1*u.degree, frame='icrs')\n",
    "    c2 = SkyCoord(ra=sset*u.degree, dec=dec_arr2*u.degree, frame='icrs')\n",
    "\n",
    "    c1_lon = c1.galactic.l.deg\n",
    "    c1_lon[np.where(c1_lon >=180)] = c1_lon[np.where(c1_lon >=180)]-360.\n",
    "    c1_lat = c1.galactic.b.deg\n",
    "    c2_lon = c2.galactic.l.deg\n",
    "    c2_lon[np.where(c2_lon >=180)] = c2_lon[np.where(c2_lon >=180)]-360.\n",
    "    c2_lat = c2.galactic.b.deg\n",
    "    \n",
    "    \n",
    "    if fc == 'EllipticalFrame':\n",
    "        ax = plt.subplot(111, projection=WCS(hdr_new))\n",
    "    else:\n",
    "        ax = plt.subplot(111, projection=WCS(hdr_new))\n",
    "                \n",
    "    cmap.set_bad(color=bg_clr)\n",
    "    im = ax.imshow(array, vmin=Pmin, vmax=Pmax,cmap=cmap)\n",
    "    #ax.plot((360-c1_lon-120)*nx/240,(c1_lat+90.)*ny/180,color='black',linestyle='dashed')\n",
    "    #ax.plot((360-c2_lon-120)*nx/240,(c2_lat+90.)*ny/180,color='black',linestyle='dashed')\n",
    "    \n",
    "    ax.coords.grid(color=grid_clr)\n",
    "    ax.coords[0].set_ticklabel(color=lbl_clr,fontsize=fs)\n",
    "    ax.coords[1].set_ticklabel(color=lbl_clr,fontsize=fs)\n",
    "    ax.coords[0].set_ticks(number=5)\n",
    "    ax.coords[1].set_ticks(number=5)\n",
    "    ax.set_ylim((latra[0]+90)*ny/180,(latra[1]+90)*ny/180)\n",
    "    #x_lim = ax.get_xlim()\n",
    "    #y_lim = ax.get_ylim()\n",
    "    #print(y_lim)\n",
    "    #print(y_lim[0]*180/ny,y_lim[1]*180/ny)\n",
    "    cbar = plt.colorbar(im,orientation='horizontal',shrink=0.4,pad=0.1)\n",
    "    cbar.ax.tick_params(labelsize=fs)\n",
    "    cbar.set_label(cbarlbl,fontsize=fs)\n",
    "    ax.set_title(title,fontsize=fs+2)\n",
    "    if axtitles:\n",
    "        if (proj == '-MOL') or (proj == '-AIT'):\n",
    "            ypad = 1\n",
    "        else:\n",
    "            ypad = 1\n",
    "        if cs == 'icrs':            \n",
    "            ax.coords[0].set_axislabel('Right Ascension',fontsize=fs,minpad=ypad)\n",
    "            #ax.coords[0].set_axislabel_position('t')\n",
    "            ax.coords[1].set_axislabel('Declination',fontsize=fs)\n",
    "        if cs == 'galactic':\n",
    "            ax.coords[0].set_axislabel('Galactic Longitude',fontsize=fs,minpad=ypad)\n",
    "            ax.coords[1].set_axislabel('Galactic Latitude',fontsize=fs)\n",
    "    \n",
    "    return\n"
   ]
  },
  {
   "cell_type": "markdown",
   "id": "1a40f068",
   "metadata": {},
   "source": [
    "# 1 Run RM synthesis on FITS cubes"
   ]
  },
  {
   "cell_type": "code",
   "execution_count": null,
   "id": "19350aeb",
   "metadata": {},
   "outputs": [],
   "source": [
    "run_rm_synth = False\n",
    "\n",
    "if run_rm_synth:\n",
    "    !/home/ordoga/Python/RM-Tools/RMtools_3D/do_RMsynth_3D.py \\\n",
    "     /home/ordoga/DATA/DVA/combinedq.fits \\\n",
    "     /home/ordoga/DATA/DVA/combinedu.fits \\\n",
    "     /home/ordoga/DATA/DVA/ListOfFrequencies_Hz.txt -v -d 1 -l 200"
   ]
  },
  {
   "cell_type": "markdown",
   "id": "7c3e018f",
   "metadata": {},
   "source": [
    "# 2 Convert RM synth files to Healpix:"
   ]
  },
  {
   "cell_type": "code",
   "execution_count": null,
   "id": "17e65ad2",
   "metadata": {},
   "outputs": [],
   "source": [
    "convert_to_hpx = True # Make this False if already have Healpix files\n"
   ]
  },
  {
   "cell_type": "markdown",
   "id": "5def966b",
   "metadata": {},
   "source": [
    "## 2.1 Read in RM synthesis files:"
   ]
  },
  {
   "cell_type": "code",
   "execution_count": null,
   "id": "4ac7dcb6",
   "metadata": {},
   "outputs": [],
   "source": [
    "if convert_to_hpx:\n",
    "\n",
    "    hdu_FDcube = fits.open(directory+'FDF_tot_dirty.fits')\n",
    "    hdr_FDcube = hdu_FDcube[0].header\n",
    "    data_FDcube = hdu_FDcube[0].data\n",
    "    print(data_FDcube.shape)\n",
    "\n",
    "    hdu_PIpeak = fits.open(directory+'FDF_maxPI.fits')\n",
    "    hdr_PIpeak = hdu_PIpeak[0].header\n",
    "    data_PIpeak = hdu_PIpeak[0].data[0]\n",
    "    print(data_PIpeak.shape)"
   ]
  },
  {
   "cell_type": "markdown",
   "id": "3981f8b5",
   "metadata": {},
   "source": [
    "## 2.2 Make new 2D header out of PI peak file"
   ]
  },
  {
   "cell_type": "code",
   "execution_count": null,
   "id": "1ca49786",
   "metadata": {},
   "outputs": [],
   "source": [
    "if convert_to_hpx:\n",
    "\n",
    "    hdr_2D_new = hdr_PIpeak.copy()\n",
    "    hdr_2D_new['NAXIS'] = 2\n",
    "    del hdr_2D_new['NAXIS3']\n",
    "    del hdr_2D_new['CTYPE3']\n",
    "    del hdr_2D_new['CDELT3']\n",
    "    del hdr_2D_new['CRVAL3']\n",
    "    del hdr_2D_new['CUNIT3']\n",
    "    del hdr_2D_new['CRPIX3']\n",
    "    print(repr(hdr_2D_new))"
   ]
  },
  {
   "cell_type": "markdown",
   "id": "1370221f",
   "metadata": {},
   "source": [
    "## 2.3 Reproject to healpix"
   ]
  },
  {
   "cell_type": "code",
   "execution_count": null,
   "id": "7071b24a",
   "metadata": {
    "scrolled": true
   },
   "outputs": [],
   "source": [
    "if convert_to_hpx:\n",
    "\n",
    "    nside = 128 # Note: smoothing a bit - original was nside=64 for now\n",
    "\n",
    "    FDcube_hpx = np.empty([data_FDcube.shape[0],12*nside**2])\n",
    "\n",
    "    for i in range(0,data_FDcube.shape[0]):\n",
    "        print(i)    \n",
    "        FDcube_hpx[i,:], footprint = reproject_to_healpix((data_FDcube[i,:,:], hdr_2D_new), \n",
    "                                                          'icrs', nside=nside)\n",
    "    \n",
    "    PIpeak_hpx, footprint = reproject_to_healpix((data_PIpeak, hdr_2D_new), 'icrs', nside=nside)"
   ]
  },
  {
   "cell_type": "markdown",
   "id": "51ae135d",
   "metadata": {},
   "source": [
    "## 2.4 Write out new healpix files"
   ]
  },
  {
   "cell_type": "code",
   "execution_count": null,
   "id": "e6b0ef2f",
   "metadata": {},
   "outputs": [],
   "source": [
    "if convert_to_hpx:\n",
    "    \n",
    "    hdu_new_hpx = fits.PrimaryHDU()\n",
    "    hdr_hpx = hdu_new_hpx.header\n",
    "    \n",
    "    hdr_hpx['PIXTYPE'] = ('HEALPIX ', 'HEALPIX pixelisation')\n",
    "    hdr_hpx['ORDERING'] = ('RING', 'Pixel ordering scheme, either RING or NESTED')\n",
    "    hdr_hpx['NSIDE'] = (nside,     'Resolution parameter of HEALPIX')\n",
    "    hdr_hpx['INDXSCHM'] = ('IMPLICIT', 'Indexing: IMPLICIT or EXPLICIT')\n",
    "    hdr_hpx['OBJECT'] = ('FULLSKY ', 'Sky coverage, either FULLSKY or PARTIAL')\n",
    "    hdr_hpx['COORDSYS'] = ('C', 'Ecliptic, Galactic or Celestial (equatorial)')\n",
    "    hdr_hpx['NAXIS'] = 2\n",
    "    hdr_hpx['NAXIS2'] = hdr_FDcube['NAXIS3']   \n",
    "    hdr_hpx['CRPIX2'] = hdr_FDcube['CRPIX3']\n",
    "    hdr_hpx['CDELT2'] = hdr_FDcube['CDELT3']\n",
    "    hdr_hpx['CUNIT2'] = 'MHz'\n",
    "    hdr_hpx['CTYPE2'] = 'FREQ'\n",
    "    hdr_hpx['CRVAL2'] = hdr_FDcube['CRVAL3']\n",
    "\n",
    "    hdr_hpx_1D = hdr_hpx.copy()\n",
    "    hdr_hpx_1D['NAXIS'] = 1\n",
    "    del hdr_hpx_1D['NAXIS2']\n",
    "    del hdr_hpx_1D['CRPIX2']\n",
    "    del hdr_hpx_1D['CDELT2']\n",
    "    del hdr_hpx_1D['CTYPE2']\n",
    "    del hdr_hpx_1D['CRVAL2']\n",
    "    del hdr_hpx_1D['CUNIT2']\n",
    "    \n",
    "    print('')\n",
    "    print('HEADER FOR FD CUBE')\n",
    "    print('--------------')\n",
    "    print(repr(hdr_hpx))\n",
    "    print('')\n",
    "    print('HEADER FOR PI PEAKS')\n",
    "    print('---------------')\n",
    "    print(repr(hdr_hpx_1D))\n",
    "    \n",
    "    fits.writeto(directory+basefilename+'_FDcube.hpx.fits',FDcube_hpx,\n",
    "                 header=hdr_hpx,overwrite=True,output_verify='fix')\n",
    "    \n",
    "    fits.writeto(directory+basefilename+'_peakPI.hpx.fits',PIpeak_hpx,\n",
    "                 header=hdr_hpx_1D,overwrite=True,output_verify='fix')"
   ]
  },
  {
   "cell_type": "markdown",
   "id": "7fe7a6d1",
   "metadata": {},
   "source": [
    "# 3 Work with Healpix FD files"
   ]
  },
  {
   "cell_type": "markdown",
   "id": "fe1a52ad",
   "metadata": {},
   "source": [
    "## 3.1 Read in healpix files"
   ]
  },
  {
   "cell_type": "code",
   "execution_count": null,
   "id": "5c7886ba",
   "metadata": {},
   "outputs": [],
   "source": [
    "hdu_FDcube_hpx = fits.open(directory+basefilename+'_FDcube.hpx.fits')\n",
    "hdr_FDcube_hpx = hdu_FDcube_hpx[0].header\n",
    "data_FDcube_hpx = hdu_FDcube_hpx[0].data\n",
    "print(data_FDcube_hpx.shape)\n",
    "\n",
    "hdu_PIpeak_hpx = fits.open(directory+basefilename+'_peakPI.hpx.fits')\n",
    "hdr_PIpeak_hpx = hdu_PIpeak_hpx[0].header\n",
    "data_PIpeak_hpx = hdu_PIpeak_hpx[0].data\n",
    "print(data_PIpeak_hpx.shape)\n",
    "\n",
    "FD_idx = np.linspace(0,hdr_FDcube_hpx['NAXIS2']-1,hdr_FDcube_hpx['NAXIS2'])\n",
    "FD_ax = hdr_FDcube_hpx['CRVAL2']+(FD_idx - hdr_FDcube_hpx['CRPIX2']+1)*hdr_FDcube_hpx['CDELT2']\n",
    "\n",
    "print(FD_ax.shape)"
   ]
  },
  {
   "cell_type": "markdown",
   "id": "fdb3fbdc",
   "metadata": {},
   "source": [
    "## 3.2 Calculate Moments"
   ]
  },
  {
   "cell_type": "code",
   "execution_count": null,
   "id": "822d53b0",
   "metadata": {},
   "outputs": [],
   "source": [
    "maxabsFD = 60\n",
    "minPI = 0\n",
    "\n",
    "M0,M0_hdr = zero_moment(hdr_FDcube_hpx,data_FDcube_hpx,minPI,maxabsFD,FD_ax)\n",
    "M1,M1_hdr = first_moment(hdr_FDcube_hpx,data_FDcube_hpx,minPI,maxabsFD,FD_ax,M0)"
   ]
  },
  {
   "cell_type": "markdown",
   "id": "a9252986",
   "metadata": {},
   "source": [
    "## 3.3 Convert moment maps to Galactic"
   ]
  },
  {
   "cell_type": "code",
   "execution_count": null,
   "id": "61580c5f",
   "metadata": {},
   "outputs": [],
   "source": [
    "import healpy\n",
    "r = healpy.rotator.Rotator(coord=['C','G'])\n",
    "M0_gal = r.rotate_map_pixel(M0)\n",
    "M1_gal = r.rotate_map_pixel(M1)"
   ]
  },
  {
   "cell_type": "markdown",
   "id": "a6ff1aaf",
   "metadata": {},
   "source": []
  },
  {
   "cell_type": "markdown",
   "id": "318117d4",
   "metadata": {},
   "source": [
    "## 3.4 Make M1 map"
   ]
  },
  {
   "cell_type": "code",
   "execution_count": null,
   "id": "754467b4",
   "metadata": {},
   "outputs": [],
   "source": [
    "dlon = 120\n",
    "loncent = 120\n",
    "\n",
    "nice_map_zoom.platcar(M1_gal,'G',-10,10,pixsize=0.25,title=plot_title,\n",
    "                 cmap = mpl.cm.get_cmap(\"bwr\").copy(),bg_clr='gray',\n",
    "                 xc=loncent,yc=0,grid_clr='black',axtitles=True,cbarlbl='rad/m$^2$',\n",
    "                 lonra=[loncent-dlon,loncent+dlon],latra=[-60,90])\n",
    "#plt.tight_layout()\n",
    "#plt.savefig(dir_out+plot_name+'_M1.jpg')"
   ]
  },
  {
   "cell_type": "markdown",
   "id": "25aca634",
   "metadata": {},
   "source": [
    "## 3.5 Make M0 map"
   ]
  },
  {
   "cell_type": "code",
   "execution_count": null,
   "id": "c604763f",
   "metadata": {},
   "outputs": [],
   "source": [
    "dlon = 120\n",
    "loncent = 120\n",
    "\n",
    "nice_map_zoom.platcar(M0_gal,'G',0,600,pixsize=0.25,title=plot_title,\n",
    "                 cmap = mpl.cm.get_cmap(\"viridis\").copy(),bg_clr='gray',\n",
    "                 xc=loncent,yc=0,grid_clr='black',axtitles=True,cbarlbl='Jy/beam/RMSF rad/m$^2$',\n",
    "                 lonra=[loncent-dlon,loncent+dlon],latra=[-60,90])\n",
    "#plt.tight_layout()\n",
    "#plt.savefig(dir_out+plot_name+'_M0.jpg')"
   ]
  },
  {
   "cell_type": "markdown",
   "id": "8210246c",
   "metadata": {},
   "source": [
    "# 4 Faraday spectrum analysis"
   ]
  },
  {
   "cell_type": "markdown",
   "id": "235215a1",
   "metadata": {},
   "source": [
    "## 4.1 Read in CHIME and GMIMS"
   ]
  },
  {
   "cell_type": "code",
   "execution_count": null,
   "id": "26522e76",
   "metadata": {},
   "outputs": [],
   "source": [
    "# CHIME (Equatorial):\n",
    "hdu_FDcube_hpx_CH = fits.open('/srv/aordog/CHIME_data/CHIME_Fall_2022/RM_SYNTH_v3/FDF_tot_dirty_Oct132022.hpx.fits')\n",
    "hdr_FDcube_hpx_CH = hdu_FDcube_hpx_CH[0].header\n",
    "data_FDcube_hpx_CH = hdu_FDcube_hpx_CH[0].data\n",
    "print(data_FDcube_hpx_CH.shape)\n",
    "\n",
    "FD_idx_CH = np.linspace(0,hdr_FDcube_hpx_CH['NAXIS2']-1,hdr_FDcube_hpx_CH['NAXIS2'])\n",
    "FD_ax_CH = hdr_FDcube_hpx_CH['CRVAL2']+(FD_idx_CH - hdr_FDcube_hpx_CH['CRPIX2']+1)*hdr_FDcube_hpx_CH['CDELT2']\n",
    "\n",
    "# GMIMS (Galactic):\n",
    "hdu_FDcube_hpx_G = fits.open('/srv/data/gmims/gmims-hbn/GMIMS-HBN_v1_gal_hpx_FD_PI.fits')\n",
    "hdr_FDcube_hpx_G = hdu_FDcube_hpx_G[0].header\n",
    "data_FDcube_hpx_G = hdu_FDcube_hpx_G[0].data\n",
    "print(data_FDcube_hpx_G.shape)\n",
    "\n",
    "FD_idx_G = np.linspace(0,hdr_FDcube_hpx_G['NAXIS2']-1,hdr_FDcube_hpx_G['NAXIS2'])\n",
    "FD_ax_G = hdr_FDcube_hpx_G['CRVAL2']+(FD_idx_G - hdr_FDcube_hpx_G['CRPIX2']+1)*hdr_FDcube_hpx_G['CDELT2']\n",
    "\n",
    "# QUAIL (Equatorial)\n",
    "hdu_FDcube_hpx = fits.open(directory+basefilename+'_FDcube.hpx.fits')\n",
    "hdr_FDcube_hpx = hdu_FDcube_hpx[0].header\n",
    "data_FDcube_hpx = hdu_FDcube_hpx[0].data\n",
    "print(data_FDcube_hpx.shape)\n",
    "\n",
    "FD_idx = np.linspace(0,hdr_FDcube_hpx['NAXIS2']-1,hdr_FDcube_hpx['NAXIS2'])\n",
    "FD_ax = hdr_FDcube_hpx['CRVAL2']+(FD_idx - hdr_FDcube_hpx['CRPIX2']+1)*hdr_FDcube_hpx['CDELT2']\n"
   ]
  },
  {
   "cell_type": "code",
   "execution_count": null,
   "id": "003983e2",
   "metadata": {},
   "outputs": [],
   "source": [
    "print(repr(hdr_FDcube_hpx))"
   ]
  },
  {
   "cell_type": "markdown",
   "id": "50a8bfac",
   "metadata": {},
   "source": [
    "## 4.2 Rotate DVA and CHIME to Galactic"
   ]
  },
  {
   "cell_type": "code",
   "execution_count": null,
   "id": "50946529",
   "metadata": {},
   "outputs": [],
   "source": [
    "import healpy\n",
    "r = healpy.rotator.Rotator(coord=['C','G'])\n",
    "data_FDcube_hpx_CH_gal = np.array(r.rotate_map_pixel(data_FDcube_hpx_CH))\n",
    "print(data_FDcube_hpx_CH_gal.shape)"
   ]
  },
  {
   "cell_type": "code",
   "execution_count": null,
   "id": "d6a7f590",
   "metadata": {},
   "outputs": [],
   "source": [
    "data_FDcube_hpx_gal = np.array(r.rotate_map_pixel(data_FDcube_hpx))\n",
    "print(data_FDcube_hpx_gal.shape)"
   ]
  },
  {
   "cell_type": "code",
   "execution_count": null,
   "id": "d01a7ef1",
   "metadata": {},
   "outputs": [],
   "source": [
    "dlon = 120\n",
    "loncent = 120\n",
    "\n",
    "nice_map_zoom.platcar(data_FDcube_hpx_gal[200,:],'G',0,5,pixsize=0.25,title=plot_title,\n",
    "                 cmap = mpl.cm.get_cmap(\"viridis\").copy(),bg_clr='gray',\n",
    "                 xc=loncent,yc=0,grid_clr='black',axtitles=True,cbarlbl='Jy/beam/RMSF rad/m$^2$',\n",
    "                 lonra=[loncent-dlon,loncent+dlon],latra=[-60,90])"
   ]
  },
  {
   "cell_type": "code",
   "execution_count": null,
   "id": "66eee631",
   "metadata": {},
   "outputs": [],
   "source": [
    "import astropy_healpix"
   ]
  },
  {
   "cell_type": "code",
   "execution_count": null,
   "id": "06f02657",
   "metadata": {},
   "outputs": [],
   "source": [
    "hpx_gal_256 = astropy_healpix.HEALPix(nside=256, order='ring', frame='galactic')\n",
    "hpx_gal_128 = astropy_healpix.HEALPix(nside=128, order='ring', frame='galactic')"
   ]
  },
  {
   "cell_type": "code",
   "execution_count": null,
   "id": "689fffbb",
   "metadata": {},
   "outputs": [],
   "source": [
    "ltest = 189.0\n",
    "btest = 50.\n",
    "\n",
    "idx_CH_G = hpx_gal_256.skycoord_to_healpix(SkyCoord(frame=\"galactic\",l=ltest*u.deg,b=btest*u.deg))\n",
    "idx_DVA = hpx_gal_128.skycoord_to_healpix(SkyCoord(frame=\"galactic\",l=ltest*u.deg,b=btest*u.deg))\n"
   ]
  },
  {
   "cell_type": "code",
   "execution_count": null,
   "id": "357b12c8",
   "metadata": {},
   "outputs": [],
   "source": [
    "plt.plot(FD_ax,data_FDcube_hpx_gal[:,idx_DVA]/np.nanmax(data_FDcube_hpx_gal[:,idx_DVA]))\n",
    "plt.plot(FD_ax_CH,data_FDcube_hpx_CH_gal[:,idx_CH_G]/np.nanmax(data_FDcube_hpx_CH_gal[:,idx_CH_G]))\n",
    "plt.plot(FD_ax_G,data_FDcube_hpx_G[:,idx_CH_G]/np.nanmax(data_FDcube_hpx_G[:,idx_CH_G]))\n",
    "plt.xlim(-200,200)\n",
    "plt.ylim(0,1.1)\n",
    "plt.grid()\n",
    "\n",
    "print()"
   ]
  },
  {
   "cell_type": "markdown",
   "id": "7f687a49",
   "metadata": {},
   "source": [
    "45,  40\n",
    "75,  60\n",
    "150, 30\n",
    "178, 12\n",
    "150, 24\n",
    "150, 23.5"
   ]
  },
  {
   "cell_type": "code",
   "execution_count": null,
   "id": "31b030fc",
   "metadata": {},
   "outputs": [],
   "source": [
    "lplot = [45.,75.,150.,189.,150.,150.]\n",
    "bplot = [40.,60.,30.,50.,24.,23.5]\n",
    "\n",
    "fig, axs = plt.subplots(3,2,figsize=(14,10))\n",
    "fs = 14\n",
    "\n",
    "for i in range(0,3):\n",
    "    for j in range(0,2):\n",
    "        ii = i*2+j\n",
    "        \n",
    "        idx_CH_G = hpx_gal_256.skycoord_to_healpix(SkyCoord(frame=\"galactic\",l=lplot[ii]*u.deg,b=bplot[ii]*u.deg))\n",
    "        idx_DVA = hpx_gal_128.skycoord_to_healpix(SkyCoord(frame=\"galactic\",l=lplot[ii]*u.deg,b=bplot[ii]*u.deg))\n",
    "\n",
    "        axs[i,j].plot(FD_ax,data_FDcube_hpx_gal[:,idx_DVA]/np.nanmax(data_FDcube_hpx_gal[:,idx_DVA]),label='DRAO 15-m')\n",
    "        axs[i,j].plot(FD_ax_CH,data_FDcube_hpx_CH_gal[:,idx_CH_G]/np.nanmax(data_FDcube_hpx_CH_gal[:,idx_CH_G]),label='CHIME')\n",
    "        axs[i,j].plot(FD_ax_G,data_FDcube_hpx_G[:,idx_CH_G]/np.nanmax(data_FDcube_hpx_G[:,idx_CH_G]),label='GMIMS-HBN')\n",
    "\n",
    "        axs[i,j].set_title(r'$\\ell$='+str(lplot[ii])+'$^{\\circ}$, $b$='+str(bplot[ii])+'$^{\\circ}$',\n",
    "                           fontsize=fs+2)\n",
    "        axs[i,j].grid()\n",
    "        axs[i,j].set_ylim(bottom=0)\n",
    "        axs[i,j].set_xlim(-150,150)\n",
    "        axs[i,j].tick_params(axis=\"x\", labelsize=fs)\n",
    "        axs[i,j].tick_params(axis=\"y\", labelsize=fs)\n",
    "\n",
    "axs[0,0].legend(fontsize=fs)\n",
    "axs[2,1].set_xlabel(r'Faraday Depth (rad m$^{-2}$)',fontsize=fs)\n",
    "axs[2,0].set_xlabel(r'Faraday Depth (rad m$^{-2}$)',fontsize=fs)\n",
    "axs[0,0].set_ylabel(r'PI / PI$_{peak}$',fontsize=fs)\n",
    "axs[1,0].set_ylabel(r'PI / PI$_{peak}$',fontsize=fs)\n",
    "axs[2,0].set_ylabel(r'PI / PI$_{peak}$',fontsize=fs)\n",
    "\n",
    "#fig.suptitle(title,fontsize=fs)\n",
    "plt.tight_layout()\n",
    "plt.savefig('/home/aordog/DVA_PLOTS/CHIME_GMIMS_DVA_spectra_examples.png')"
   ]
  },
  {
   "cell_type": "code",
   "execution_count": null,
   "id": "763f8c36",
   "metadata": {},
   "outputs": [],
   "source": []
  }
 ],
 "metadata": {
  "kernelspec": {
   "display_name": "Python 3",
   "language": "python",
   "name": "python3"
  },
  "language_info": {
   "codemirror_mode": {
    "name": "ipython",
    "version": 3
   },
   "file_extension": ".py",
   "mimetype": "text/x-python",
   "name": "python",
   "nbconvert_exporter": "python",
   "pygments_lexer": "ipython3",
   "version": "3.9.4"
  }
 },
 "nbformat": 4,
 "nbformat_minor": 5
}
