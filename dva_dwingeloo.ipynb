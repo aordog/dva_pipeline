{
 "cells": [
  {
   "cell_type": "markdown",
   "id": "649a2e98",
   "metadata": {},
   "source": [
    "### Import necessary packages:"
   ]
  },
  {
   "cell_type": "code",
   "execution_count": null,
   "id": "b9cf2132",
   "metadata": {},
   "outputs": [],
   "source": [
    "import matplotlib.pyplot as plt\n",
    "import matplotlib as mpl\n",
    "from astropy.wcs import WCS\n",
    "from reproject import reproject_interp\n",
    "import numpy as np\n",
    "import astropy.io.fits as fits\n",
    "import healpy as hp\n",
    "from matplotlib import cm\n",
    "from astropy_healpix import HEALPix\n",
    "from astropy.coordinates import SkyCoord, ICRS, Galactic\n",
    "import astropy.units as u"
   ]
  },
  {
   "cell_type": "markdown",
   "id": "a4275f57",
   "metadata": {},
   "source": [
    "### Read in Dwingeloo data:"
   ]
  },
  {
   "cell_type": "code",
   "execution_count": null,
   "id": "9aedd8bc",
   "metadata": {},
   "outputs": [],
   "source": [
    "hduQ = fits.open('/srv/data/dwingeloo/DWING_465_EQU_Q.HPX.fits')\n",
    "hdrQ = hduQ[0].header\n",
    "dataQ = hduQ[0].data[0]\n",
    "print(dataQ.shape)\n",
    "\n",
    "hduU = fits.open('/srv/data/dwingeloo/DWING_465_EQU_U.HPX.fits')\n",
    "hdrU = hduU[0].header\n",
    "dataU = hduU[0].data[0]\n",
    "print(dataU.shape)"
   ]
  },
  {
   "cell_type": "markdown",
   "id": "da41e03d",
   "metadata": {},
   "source": [
    "### Pick the range of RA and dec to plot, and the gridding pixel size"
   ]
  },
  {
   "cell_type": "code",
   "execution_count": null,
   "id": "a7f7ec79",
   "metadata": {},
   "outputs": [],
   "source": [
    "# Sample a grid in RA/Dec\n",
    "RA_min = 0\n",
    "RA_max = 360\n",
    "dec_min = -10\n",
    "dec_max = 90\n",
    "delta = 0.5"
   ]
  },
  {
   "cell_type": "markdown",
   "id": "43d70b4c",
   "metadata": {},
   "source": [
    "### Set up the HEALpix projection, grid and coordinates\n",
    "#### NOTE: if all files have the same NSIDE, just need to do this once"
   ]
  },
  {
   "cell_type": "code",
   "execution_count": null,
   "id": "6c60e72c",
   "metadata": {},
   "outputs": [],
   "source": [
    "# Healpix parameters:\n",
    "nside = hdrQ['NSIDE']\n",
    "order = hdrQ['ORDERING']\n",
    "hpx = HEALPix(nside=nside, order=order, frame=ICRS())\n",
    "\n",
    "# Number of pixels along each axis:\n",
    "numRA = int((RA_max-RA_min)/delta)\n",
    "numdec = int((dec_max-dec_min)/delta)\n",
    "\n",
    "# 1D and 2D RA and dec grids:\n",
    "ra = np.linspace(RA_min, RA_max, numRA) * u.deg\n",
    "dec = np.linspace(dec_min, dec_max, numdec) * u.deg\n",
    "ra_grid, dec_grid = np.meshgrid(ra, dec)\n",
    "\n",
    "# Set up Astropy coordinate objects\n",
    "coords = SkyCoord(ra_grid.ravel(), dec_grid.ravel(), frame='icrs')"
   ]
  },
  {
   "cell_type": "markdown",
   "id": "fa7dfd44",
   "metadata": {},
   "source": [
    "### Reproject the HEALpix values onto the 2D grid for each map:"
   ]
  },
  {
   "cell_type": "code",
   "execution_count": null,
   "id": "270be18b",
   "metadata": {},
   "outputs": [],
   "source": [
    "Qmap = hpx.interpolate_bilinear_skycoord(coords, dataQ)\n",
    "Qmap = Qmap.reshape((numdec, numRA))[:,::-1]\n",
    "print(Qmap.shape)\n",
    "\n",
    "Umap = hpx.interpolate_bilinear_skycoord(coords, dataU)\n",
    "Umap = Umap.reshape((numdec, numRA))[:,::-1]\n",
    "print(Umap.shape)\n"
   ]
  },
  {
   "cell_type": "markdown",
   "id": "9e2f583e",
   "metadata": {},
   "source": [
    "### Plots:"
   ]
  },
  {
   "cell_type": "code",
   "execution_count": null,
   "id": "37bbedfd",
   "metadata": {},
   "outputs": [],
   "source": [
    "plt.figure(figsize=(20, 4))\n",
    "im = plt.imshow(Qmap, extent=[RA_max, RA_min, dec_min, dec_max], cmap=plt.cm.RdBu_r, \n",
    "                origin='lower', aspect='equal',vmin=-1.5,vmax=1.5)\n",
    "plt.colorbar(im)\n",
    "plt.xlabel('Right ascension (deg)')\n",
    "plt.ylabel('Declination (deg)')\n",
    "plt.title('Stokes Q')\n",
    "plt.show()\n",
    "\n",
    "plt.figure(figsize=(20, 4))\n",
    "im = plt.imshow(Umap, extent=[RA_max, RA_min, dec_min, dec_max], cmap=plt.cm.RdBu_r, \n",
    "                origin='lower', aspect='equal',vmin=-1.5,vmax=1.5)\n",
    "plt.colorbar(im)\n",
    "plt.xlabel('Right ascension (deg)')\n",
    "plt.ylabel('Declination (deg)')\n",
    "plt.title('Stokes U')\n",
    "plt.show()"
   ]
  },
  {
   "cell_type": "code",
   "execution_count": null,
   "id": "bfcd4b14",
   "metadata": {},
   "outputs": [],
   "source": []
  }
 ],
 "metadata": {
  "kernelspec": {
   "display_name": "Python 3",
   "language": "python",
   "name": "python3"
  },
  "language_info": {
   "codemirror_mode": {
    "name": "ipython",
    "version": 3
   },
   "file_extension": ".py",
   "mimetype": "text/x-python",
   "name": "python",
   "nbconvert_exporter": "python",
   "pygments_lexer": "ipython3",
   "version": "3.9.4"
  }
 },
 "nbformat": 4,
 "nbformat_minor": 5
}
