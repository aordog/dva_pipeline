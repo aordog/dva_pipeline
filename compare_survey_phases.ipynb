{
 "cells": [
  {
   "cell_type": "markdown",
   "metadata": {},
   "source": [
    "## Compare repeated scans between different phases of the survey\n",
    "### A. Ordog, October 31, 2022"
   ]
  },
  {
   "cell_type": "markdown",
   "metadata": {},
   "source": [
    "## Import packages"
   ]
  },
  {
   "cell_type": "code",
   "execution_count": 16,
   "metadata": {},
   "outputs": [],
   "source": [
    "import imp\n",
    "import os\n",
    "import subprocess\n",
    "import h5py\n",
    "import numpy as np\n",
    "from astropy.time import Time\n",
    "import matplotlib.pyplot as plt\n",
    "import datetime\n",
    "import matplotlib.dates as mdates\n",
    "from matplotlib.dates import HourLocator as HourLocator\n",
    "from matplotlib.dates import MinuteLocator as MinuteLocator\n",
    "from mpl_toolkits.axes_grid1 import make_axes_locatable\n",
    "from astropy import units as u\n",
    "from astropy.time import TimeDelta\n"
   ]
  },
  {
   "cell_type": "markdown",
   "metadata": {},
   "source": [
    "## Select survey phase:"
   ]
  },
  {
   "cell_type": "code",
   "execution_count": 18,
   "metadata": {},
   "outputs": [],
   "source": [
    "#### User input  - phases to compare: #####\n",
    "phases = [1,2]\n",
    "###########################################\n",
    "\n",
    "dir_files = '/srv/data/dva/survey_azimuth_scans_noise_corr/'\n",
    "#dir_files = '/srv/data/dva/survey_azimuth_scans/'"
   ]
  },
  {
   "cell_type": "markdown",
   "metadata": {},
   "source": [
    "## Define functions"
   ]
  },
  {
   "cell_type": "code",
   "execution_count": 12,
   "metadata": {},
   "outputs": [],
   "source": [
    "def make_scan_phase_dictionary(phases,dir_files):\n",
    "\n",
    "    if len(phases)<2:\n",
    "        print('Error: must compare at least two phases')\n",
    "\n",
    "    scandict = {} \n",
    "    scanids = []\n",
    "    scan_phase = []\n",
    "\n",
    "    #all_scans = os.popen('ls -1 -R '+dir_files+'dva_survey_phase*').read().split()\n",
    "    all_scans = os.popen('ls -1 -R '+dir_files+'dva_survey_phase* |xargs -n1 basename').read().split()\n",
    "    #print(all_scans)\n",
    "\n",
    "    for i in range(1,len(all_scans)):\n",
    "        #print(all_scans[i])\n",
    "        scanids.append(all_scans[i][22:26])\n",
    "        scan_phase.append(all_scans[i][16])\n",
    "    \n",
    "    scan_phase = np.asarray(scan_phase).astype(np.int)\n",
    "    scanids = np.asarray(scanids).astype(np.int)\n",
    "\n",
    "    for phase in phases:\n",
    "        w = np.where(scan_phase == phase)[0]\n",
    "        scandict.update({\"phase\"+str(phase): scanids[w]}) \n",
    "\n",
    "    return scandict\n",
    "\n",
    "\n",
    "def get_overlapping_scan_ids(scandict,list_scans=True,*args,**kwargs):\n",
    "    \n",
    "    keys_list = list(scandict.keys())\n",
    "    all_lists = [set(scandict[i]) for i in keys_list]\n",
    "    \n",
    "    if len(phases) == 2:\n",
    "        phases_str = str(keys_list[0])+' & '+str(keys_list[1])\n",
    "        overlap_scans = list(set.intersection(set(all_lists[0]),\n",
    "                                              set(all_lists[1])))\n",
    "    if len(phases) == 3:\n",
    "        phases_str = str(keys_list[0])+' & '+str(keys_list[1]+' & '+str(keys_list[2]))\n",
    "        overlap_scans = list(set.intersection(set(all_lists[0]),\n",
    "                                              set(all_lists[1]),\n",
    "                                              set(all_lists[2])))\n",
    "        \n",
    "    if list_scans:\n",
    "        print(str(len(overlap_scans))+' overlapping scans \\nbetween '+phases_str+':')\n",
    "        print('')\n",
    "        for scan in overlap_scans:\n",
    "            print(scan)\n",
    "       \n",
    "    return overlap_scans\n",
    "\n",
    "def read_in_scan(scan_id,dir_files,phase):\n",
    "    \n",
    "    scan = f\"{scan_id:04}\"\n",
    "    file = h5py.File(dir_files+'dva_survey_phase'+str(phase)+'_raw_'+scan+'_gain_corr.h5','r')\n",
    "    #file = h5py.File(dir_files+'dva_survey_phase'+str(phase)+'_raw_'+scan+'.h5','r')\n",
    "    \n",
    "    dataset = file['data']['beam_0']['band_SB0']['scan_0']\n",
    "    \n",
    "    freq = file['data']['beam_0']['band_SB0']['frequency']\n",
    "    \n",
    "    dec = dataset['metadata']['declination']\n",
    "    ra = dataset['metadata']['right_ascension']\n",
    "    el = dataset['metadata']['elevation']\n",
    "    az = dataset['metadata']['azimuth']\n",
    "    t = dataset['metadata']['utc']\n",
    "    noise = dataset['metadata']['noise_state']\n",
    "    trim_flag = dataset['metadata']['trim_scan_flag']\n",
    "    \n",
    "    RR = dataset['data'][:,0,:]\n",
    "    LL = dataset['data'][:,1,:]\n",
    "    reRL = dataset['data'][:,2,:]\n",
    "    imRL = dataset['data'][:,3,:]\n",
    "    \n",
    "    print(t[0])\n",
    "    \n",
    "    return RR,LL,reRL,imRL,freq,dec,ra,el,az,t,noise,trim_flag\n"
   ]
  },
  {
   "cell_type": "markdown",
   "metadata": {},
   "source": [
    "## Create dictionary of scans and list overlapping ones:"
   ]
  },
  {
   "cell_type": "code",
   "execution_count": 19,
   "metadata": {},
   "outputs": [
    {
     "name": "stdout",
     "output_type": "stream",
     "text": [
      "22 overlapping scans \n",
      "between phase1 & phase2:\n",
      "\n",
      "132\n",
      "133\n",
      "134\n",
      "1286\n",
      "2436\n",
      "2581\n",
      "278\n",
      "920\n",
      "2588\n",
      "1573\n",
      "1074\n",
      "576\n",
      "2368\n",
      "2369\n",
      "1358\n",
      "1870\n",
      "855\n",
      "357\n",
      "629\n",
      "630\n",
      "1141\n",
      "1142\n"
     ]
    }
   ],
   "source": [
    "scandict = make_scan_phase_dictionary(phases,dir_files)\n",
    "\n",
    "overlap_scans = get_overlapping_scan_ids(scandict,list_scans=True)\n"
   ]
  },
  {
   "cell_type": "markdown",
   "metadata": {},
   "source": [
    "## Pick a scan to examine:"
   ]
  },
  {
   "cell_type": "code",
   "execution_count": 20,
   "metadata": {},
   "outputs": [
    {
     "name": "stdout",
     "output_type": "stream",
     "text": [
      "b'2022-07-18T12:07:21.800006Z'\n",
      "b'2022-08-28T09:26:09.200003Z'\n"
     ]
    }
   ],
   "source": [
    "### User input - select scan from list above\n",
    "scan_pick = 576\n",
    "############################################\n",
    "\n",
    "# Note: the following assumes we are only comparing a single scan from TWO phases of the survey.\n",
    "# Will generalize this later to allow for three phase-comparison and better naming scheme for\n",
    "# the data read in.\n",
    "RR1,LL1,reRL1,imRL1,freq1,dec1,ra1,el1,az1,t1,noise1,trim_flag1 = read_in_scan(scan_pick,dir_files,1)\n",
    "RR2,LL2,reRL2,imRL2,freq2,dec2,ra2,el2,az2,t2,noise2,trim_flag2 = read_in_scan(scan_pick,dir_files,2)\n"
   ]
  },
  {
   "cell_type": "markdown",
   "metadata": {},
   "source": [
    "## Simple comparison plot at one frequency"
   ]
  },
  {
   "cell_type": "code",
   "execution_count": 22,
   "metadata": {},
   "outputs": [
    {
     "name": "stdout",
     "output_type": "stream",
     "text": [
      "802.1041666666667\n",
      "802.1041666666667\n"
     ]
    },
    {
     "data": {
      "image/png": "[encoded data removed]",
      "text/plain": [
       "<Figure size 1440x432 with 1 Axes>"
      ]
     },
     "metadata": {
      "needs_background": "light"
     },
     "output_type": "display_data"
    }
   ],
   "source": [
    "fig1, axs = plt.subplots(1,1,figsize=(20,6))\n",
    "\n",
    "ii = 5500\n",
    "t_plt1 = Time(t1, format='isot',scale='utc').mjd\n",
    "t_plt2 = Time(t2, format='isot',scale='utc').mjd\n",
    "axs.scatter(az1,RR1[:,ii],s=0.6)\n",
    "axs.scatter(az2,RR2[:,ii],s=0.6)\n",
    "#axs.set_ylim(1.5,2.5)\n",
    "axs.set_xlim(0,360)\n",
    "axs.set_xlabel('Azimuth (degrees)')\n",
    "axs.set_ylabel('Power in noise source units')\n",
    "\n",
    "print(freq1[ii]/1e6)\n",
    "print(freq2[ii]/1e6)"
   ]
  },
  {
   "cell_type": "code",
   "execution_count": null,
   "metadata": {},
   "outputs": [],
   "source": []
  }
 ],
 "metadata": {
  "kernelspec": {
   "display_name": "Python 3",
   "language": "python",
   "name": "python3"
  },
  "language_info": {
   "codemirror_mode": {
    "name": "ipython",
    "version": 3
   },
   "file_extension": ".py",
   "mimetype": "text/x-python",
   "name": "python",
   "nbconvert_exporter": "python",
   "pygments_lexer": "ipython3",
   "version": "3.7.4"
  }
 },
 "nbformat": 4,
 "nbformat_minor": 2
}
